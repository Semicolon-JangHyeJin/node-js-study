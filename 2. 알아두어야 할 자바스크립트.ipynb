{
 "cells": [
  {
   "cell_type": "markdown",
   "metadata": {},
   "source": [
    "# Node.js 교과서 2장 \n",
    "# < 알아두어야 할 자바스크립트 >"
   ]
  },
  {
   "cell_type": "markdown",
   "metadata": {},
   "source": [
    "## 2.1 ES2015+ (ES6)\n",
    "### 2.1.1 const, let"
   ]
  },
  {
   "cell_type": "code",
   "execution_count": 1,
   "metadata": {},
   "outputs": [
    {
     "name": "stdout",
     "output_type": "stream",
     "text": [
      "3\n"
     ]
    }
   ],
   "source": [
    "if(true){\n",
    "    var x=3;\n",
    "}\n",
    "console.log(x);"
   ]
  },
  {
   "cell_type": "code",
   "execution_count": 2,
   "metadata": {},
   "outputs": [
    {
     "ename": "ReferenceError",
     "evalue": "y is not defined",
     "output_type": "error",
     "traceback": [
      "evalmachine.<anonymous>:4",
      "console.log(y);",
      "            ^",
      "",
      "ReferenceError: y is not defined",
      "    at evalmachine.<anonymous>:4:13",
      "    at Script.runInThisContext (vm.js:120:20)",
      "    at Object.runInThisContext (vm.js:311:38)",
      "    at run ([eval]:1054:15)",
      "    at onRunRequest ([eval]:888:18)",
      "    at onMessage ([eval]:848:13)",
      "    at process.emit (events.js:310:20)",
      "    at emit (internal/child_process.js:876:12)",
      "    at processTicksAndRejections (internal/process/task_queues.js:85:21)"
     ]
    }
   ],
   "source": [
    "if(true){\n",
    "  const y=3;\n",
    "}\n",
    "console.log(y);"
   ]
  },
  {
   "cell_type": "markdown",
   "metadata": {},
   "source": [
    "\n",
    "var : 함수 스코프를 가진다.  \n",
    "const, let : 블록 스코프를 가진다. (if문 블록을 벗어나면 유효하지 않음)\n"
   ]
  },
  {
   "cell_type": "code",
   "execution_count": 3,
   "metadata": {},
   "outputs": [
    {
     "ename": "TypeError",
     "evalue": "Assignment to constant variable.",
     "output_type": "error",
     "traceback": [
      "evalmachine.<anonymous>:2",
      "a=1;",
      " ^",
      "",
      "TypeError: Assignment to constant variable.",
      "    at evalmachine.<anonymous>:2:2",
      "    at Script.runInThisContext (vm.js:120:20)",
      "    at Object.runInThisContext (vm.js:311:38)",
      "    at run ([eval]:1054:15)",
      "    at onRunRequest ([eval]:888:18)",
      "    at onMessage ([eval]:848:13)",
      "    at process.emit (events.js:310:20)",
      "    at emit (internal/child_process.js:876:12)",
      "    at processTicksAndRejections (internal/process/task_queues.js:85:21)"
     ]
    }
   ],
   "source": [
    "const a=0;\n",
    "a=1;"
   ]
  },
  {
   "cell_type": "code",
   "execution_count": 4,
   "metadata": {},
   "outputs": [
    {
     "ename": "SyntaxError",
     "evalue": "Missing initializer in const declaration",
     "output_type": "error",
     "traceback": [
      "evalmachine.<anonymous>:1",
      "const c;",
      "      ^",
      "",
      "SyntaxError: Missing initializer in const declaration",
      "    at new Script (vm.js:88:7)",
      "    at createScript (vm.js:263:10)",
      "    at Object.runInThisContext (vm.js:311:10)",
      "    at run ([eval]:1054:15)",
      "    at onRunRequest ([eval]:888:18)",
      "    at onMessage ([eval]:848:13)",
      "    at process.emit (events.js:310:20)",
      "    at emit (internal/child_process.js:876:12)",
      "    at processTicksAndRejections (internal/process/task_queues.js:85:21)"
     ]
    }
   ],
   "source": [
    "const c;"
   ]
  },
  {
   "cell_type": "code",
   "execution_count": 5,
   "metadata": {},
   "outputs": [
    {
     "name": "stdout",
     "output_type": "stream",
     "text": [
      "1\n"
     ]
    }
   ],
   "source": [
    "let b=0;\n",
    "b=1;\n",
    "console.log(b);"
   ]
  },
  {
   "cell_type": "markdown",
   "metadata": {},
   "source": [
    "const: 초기화 할 때 한 번만 값을 할당 할 수 있다. 상수를 선언할 때 사용함  \n",
    "let: 다른 값을 할당할 수 있다."
   ]
  },
  {
   "cell_type": "markdown",
   "metadata": {},
   "source": [
    "### 2.1.2 템플릿 문자열"
   ]
  },
  {
   "cell_type": "code",
   "execution_count": 7,
   "metadata": {},
   "outputs": [
    {
     "name": "stdout",
     "output_type": "stream",
     "text": [
      "1 더하기 2는 '3'\n"
     ]
    }
   ],
   "source": [
    "//ES5 문법을 사용한 문자열\n",
    "var num1=1;\n",
    "var num2=2;\n",
    "var sum=num1+num2;\n",
    "var string1= num1+ ' 더하기 ' +num2+ '는 \\'' +sum+ '\\'';\n",
    "console.log(string1);"
   ]
  },
  {
   "cell_type": "code",
   "execution_count": 9,
   "metadata": {},
   "outputs": [
    {
     "name": "stdout",
     "output_type": "stream",
     "text": [
      "3 더하기 4는 '7'\n"
     ]
    }
   ],
   "source": [
    "//깔끔한 템플릿 문자열\n",
    "var num3=3;\n",
    "var num4=4;\n",
    "var sum2=num3+num4;\n",
    "var string2= `${num3} 더하기 ${num4}는 '${sum2}'`\n",
    "console.log(string2);"
   ]
  },
  {
   "cell_type": "markdown",
   "metadata": {},
   "source": [
    "### 2.1.3 객체 리터럴"
   ]
  },
  {
   "cell_type": "code",
   "execution_count": 11,
   "metadata": {},
   "outputs": [
    {
     "name": "stdout",
     "output_type": "stream",
     "text": [
      "Node\n",
      "JS\n",
      "Fantastic\n"
     ]
    }
   ],
   "source": [
    "// 객체 선언시 중복이 많은 ES5 방식\n",
    "var sayNode = function(){\n",
    "    console.log('Node');\n",
    "};\n",
    "var es = 'ES';\n",
    "var oldObject = {\n",
    "    sayJS: function(){\n",
    "        console.log('JS');\n",
    "    },\n",
    "    sayNode: sayNode,\n",
    "};\n",
    "\n",
    "oldObject[es+6] = 'Fantastic';\n",
    "oldObject.sayNode();\n",
    "oldObject.sayJS();\n",
    "console.log(oldObject.ES6);"
   ]
  },
  {
   "cell_type": "code",
   "execution_count": 12,
   "metadata": {},
   "outputs": [
    {
     "name": "stdout",
     "output_type": "stream",
     "text": [
      "Node\n",
      "JS\n",
      "Fantastic\n"
     ]
    }
   ],
   "source": [
    "// ES6... 간단해졌다\n",
    "var newObject = {\n",
    "    sayJS(){\n",
    "        console.log('JS');\n",
    "    },\n",
    "    sayNode,\n",
    "    [es+6]: 'Fantastic',\n",
    "};\n",
    "\n",
    "newObject.sayNode();\n",
    "newObject.sayJS();\n",
    "console.log(newObject.ES6);"
   ]
  },
  {
   "cell_type": "code",
   "execution_count": 15,
   "metadata": {},
   "outputs": [
    {
     "data": {
      "text/plain": [
       "{\n",
       "  sayJS: [Function: sayJS],\n",
       "  sayNode: [Function: sayNode],\n",
       "  ES6: 'Fantastic'\n",
       "}"
      ]
     },
     "execution_count": 15,
     "metadata": {},
     "output_type": "execute_result"
    }
   ],
   "source": [
    "oldObject"
   ]
  },
  {
   "cell_type": "code",
   "execution_count": 16,
   "metadata": {},
   "outputs": [
    {
     "data": {
      "text/plain": [
       "{\n",
       "  sayJS: [Function: sayJS],\n",
       "  sayNode: [Function: sayNode],\n",
       "  ES6: 'Fantastic'\n",
       "}"
      ]
     },
     "execution_count": 16,
     "metadata": {},
     "output_type": "execute_result"
    }
   ],
   "source": [
    "newObject"
   ]
  },
  {
   "cell_type": "markdown",
   "metadata": {},
   "source": [
    "### 2.1.4 화살표 함수"
   ]
  },
  {
   "cell_type": "code",
   "execution_count": 18,
   "metadata": {},
   "outputs": [],
   "source": [
    "function add1(x,y){\n",
    "    return x+y;\n",
    "}\n",
    "\n",
    "const add2 = (x,y)=>{\n",
    "    return x+y;\n",
    "}\n",
    "\n",
    "const add3 = (x,y)=>x+y;\n",
    "\n",
    "const add4 = (x,y)=>(x+y);\n",
    "\n",
    "function not1(x){\n",
    "    return !x;\n",
    "}\n",
    "\n",
    "const not2= x=>!x;"
   ]
  },
  {
   "cell_type": "code",
   "execution_count": 22,
   "metadata": {},
   "outputs": [
    {
     "data": {
      "text/plain": [
       "3"
      ]
     },
     "execution_count": 22,
     "metadata": {},
     "output_type": "execute_result"
    }
   ],
   "source": [
    "add1(1,2)"
   ]
  },
  {
   "cell_type": "code",
   "execution_count": 23,
   "metadata": {},
   "outputs": [
    {
     "data": {
      "text/plain": [
       "5"
      ]
     },
     "execution_count": 23,
     "metadata": {},
     "output_type": "execute_result"
    }
   ],
   "source": [
    "add2(2,3)"
   ]
  },
  {
   "cell_type": "code",
   "execution_count": 24,
   "metadata": {},
   "outputs": [
    {
     "data": {
      "text/plain": [
       "7"
      ]
     },
     "execution_count": 24,
     "metadata": {},
     "output_type": "execute_result"
    }
   ],
   "source": [
    "add3(3,4)"
   ]
  },
  {
   "cell_type": "code",
   "execution_count": 25,
   "metadata": {},
   "outputs": [
    {
     "data": {
      "text/plain": [
       "9"
      ]
     },
     "execution_count": 25,
     "metadata": {},
     "output_type": "execute_result"
    }
   ],
   "source": [
    "add4(4,5)"
   ]
  },
  {
   "cell_type": "code",
   "execution_count": 29,
   "metadata": {},
   "outputs": [
    {
     "data": {
      "text/plain": [
       "false"
      ]
     },
     "execution_count": 29,
     "metadata": {},
     "output_type": "execute_result"
    }
   ],
   "source": [
    "not1(true)"
   ]
  },
  {
   "cell_type": "code",
   "execution_count": 30,
   "metadata": {},
   "outputs": [
    {
     "data": {
      "text/plain": [
       "true"
      ]
     },
     "execution_count": 30,
     "metadata": {},
     "output_type": "execute_result"
    }
   ],
   "source": [
    "not2(false)"
   ]
  },
  {
   "cell_type": "code",
   "execution_count": 31,
   "metadata": {},
   "outputs": [
    {
     "name": "stdout",
     "output_type": "stream",
     "text": [
      "zero nero\n",
      "zero hero\n",
      "zero xero\n"
     ]
    }
   ],
   "source": [
    "var relationship1 = {\n",
    "    name: 'zero',\n",
    "    friends: ['nero', 'hero', 'xero'],\n",
    "    logFriends: function(){\n",
    "        var that = this;\n",
    "        this.friends.forEach(function (friend){\n",
    "            console.log(that.name, friend);\n",
    "        });\n",
    "    },\n",
    "};\n",
    "\n",
    "relationship1.logFriends();"
   ]
  },
  {
   "cell_type": "code",
   "execution_count": 33,
   "metadata": {},
   "outputs": [
    {
     "name": "stdout",
     "output_type": "stream",
     "text": [
      "zero nero\n",
      "zero hero\n",
      "zero xero\n"
     ]
    }
   ],
   "source": [
    "//this 바인드 방식\n",
    "var relationship2 = {\n",
    "    name: 'zero',\n",
    "    friends: ['nero', 'hero', 'xero'],\n",
    "    logFriends() {\n",
    "        this.friends.forEach(friend => {\n",
    "            console.log(this.name, friend);\n",
    "        });\n",
    "    },\n",
    "};\n",
    "\n",
    "relationship2.logFriends();"
   ]
  },
  {
   "cell_type": "markdown",
   "metadata": {},
   "source": [
    "상위 스코프의 this를 그대로 물려받아서 사용한다."
   ]
  },
  {
   "cell_type": "markdown",
   "metadata": {},
   "source": [
    "### 2.1.5 구조분해 할당"
   ]
  },
  {
   "cell_type": "code",
   "execution_count": 1,
   "metadata": {},
   "outputs": [],
   "source": [
    "var candyMachin = {\n",
    "    status: {\n",
    "        name:'node',\n",
    "        count: 5,\n",
    "    },\n",
    "    getCandy: function(){\n",
    "        this.status.count--;\n",
    "        return this.status.count;\n",
    "    },\n",
    "};\n",
    "\n",
    "\n",
    "var getCandy = candyMachin.getCandy;\n",
    "var count = candyMachin.status.count;"
   ]
  },
  {
   "cell_type": "code",
   "execution_count": 4,
   "metadata": {},
   "outputs": [],
   "source": [
    "//객체에 대한 구조분해 할당\n",
    "const candyMachine = {\n",
    "    status: {\n",
    "        name:'node',\n",
    "        count: 5,\n",
    "    },\n",
    "    getCandy: function(){\n",
    "        this.status.count--;\n",
    "        return this.status.count;\n",
    "    },\n",
    "};\n",
    "\n",
    "const {getCandy, status: {count}} = candyMachine;"
   ]
  },
  {
   "cell_type": "code",
   "execution_count": 4,
   "metadata": {},
   "outputs": [],
   "source": [
    "var array = ['nodejs', {}, 10, true];\n",
    "var node = array[0];\n",
    "var obj = array[1];\n",
    "var bool = array[3];"
   ]
  },
  {
   "cell_type": "code",
   "execution_count": 6,
   "metadata": {},
   "outputs": [],
   "source": [
    "//배열에 대한 구조분해 할당\n",
    "var [node, obj, ,bool]=array;"
   ]
  },
  {
   "cell_type": "code",
   "execution_count": 10,
   "metadata": {},
   "outputs": [
    {
     "data": {
      "text/plain": [
       "'nodejs'"
      ]
     },
     "execution_count": 10,
     "metadata": {},
     "output_type": "execute_result"
    }
   ],
   "source": [
    "node"
   ]
  },
  {
   "cell_type": "markdown",
   "metadata": {},
   "source": [
    "### 2.1.6 클래스"
   ]
  },
  {
   "cell_type": "code",
   "execution_count": 22,
   "metadata": {},
   "outputs": [
    {
     "data": {
      "text/plain": [
       "[Function]"
      ]
     },
     "execution_count": 22,
     "metadata": {},
     "output_type": "execute_result"
    }
   ],
   "source": [
    "//난해한 프로토타입 상속 예제\n",
    "var Human = function(type) {\n",
    "    this.type=type || 'human';\n",
    "};\n",
    "\n",
    "Human.isHuman = function(human){\n",
    "    return human instanceof Human;\n",
    "};\n",
    "\n",
    "Human.prototype.breathe = function() {\n",
    "    alert('h-a-a-a-m');\n",
    "};\n",
    "\n",
    "var Zero = function(type, firstName, lastName){\n",
    "    Human.apply(this, arguments);\n",
    "    this.firstName = firstName;\n",
    "    this.lastName = lastName;\n",
    "}"
   ]
  },
  {
   "cell_type": "code",
   "execution_count": 23,
   "metadata": {},
   "outputs": [
    {
     "data": {
      "text/plain": [
       "true"
      ]
     },
     "execution_count": 23,
     "metadata": {},
     "output_type": "execute_result"
    }
   ],
   "source": [
    "Zero.prototype = Object.create(Human.prototype);\n",
    "Zero.prototype.constructor = Zero;\n",
    "Zero.prototype.sayName = function(){\n",
    "    alert(this.firstName+ ' ' +this.lastName);\n",
    "};\n",
    "\n",
    "var oldZero = new Zero('human', 'Zero', 'Cho');\n",
    "Human.isHuman(oldZero);"
   ]
  },
  {
   "cell_type": "code",
   "execution_count": 4,
   "metadata": {},
   "outputs": [],
   "source": [
    "//클래스 기반 코드\n",
    "class Human1{\n",
    "    constuctor(type = 'human'){\n",
    "        this.type=type;\n",
    "    }\n",
    "    \n",
    "    static isHuman(human){\n",
    "        return human instanceof Human1;\n",
    "    }\n",
    "    \n",
    "    breathe() {\n",
    "        alert('h-a-a-a-m');\n",
    "    }\n",
    "}"
   ]
  },
  {
   "cell_type": "code",
   "execution_count": 5,
   "metadata": {},
   "outputs": [
    {
     "data": {
      "text/plain": [
       "true"
      ]
     },
     "execution_count": 5,
     "metadata": {},
     "output_type": "execute_result"
    }
   ],
   "source": [
    "class Zero1 extends Human1{\n",
    "    constructor(type, firstName, lastName){\n",
    "        super(type);\n",
    "        this.firstName=firstName;\n",
    "        this.lastName=lastName;\n",
    "    }\n",
    "    \n",
    "    sayName(){\n",
    "        super.breathe();\n",
    "        alert(`${this.firstName} ${this.lastName}`)\n",
    "    }\n",
    "}\n",
    "\n",
    "const newZero = new Zero1('human', 'Zero', 'Cho');\n",
    "Human1.isHuman(newZero);"
   ]
  },
  {
   "cell_type": "markdown",
   "metadata": {},
   "source": [
    "### 2.1.7 프로미스"
   ]
  },
  {
   "cell_type": "code",
   "execution_count": 2,
   "metadata": {},
   "outputs": [
    {
     "name": "stdout",
     "output_type": "stream",
     "text": [
      "성공\n",
      "무조건\n"
     ]
    }
   ],
   "source": [
    "const condition = true;\n",
    "const promise = new Promise((resolve, reject)=> {\n",
    "    if(condition){\n",
    "        resolve('성공');\n",
    "    } else {\n",
    "        reject('실패');\n",
    "    }\n",
    "});\n",
    "\n",
    "promise\n",
    "    .then((message) => {\n",
    "        console.log(message);\n",
    "})\n",
    "    .catch((error) => {\n",
    "        console.log(error);\n",
    "})\n",
    "    .finally(()=> {\n",
    "        console.log('무조건');\n",
    "});"
   ]
  },
  {
   "cell_type": "code",
   "execution_count": 5,
   "metadata": {},
   "outputs": [],
   "source": [
    "//3번 중첩된 콜백 함수\n",
    "function findeAndSaveUser(User){\n",
    "    Users.findOne({}, (err,user) => {\n",
    "        if(err){\n",
    "            return console.error(err);\n",
    "        }\n",
    "        user.name = 'zero';\n",
    "        user.save((err) => {\n",
    "            if(err){\n",
    "                return console.error(err);\n",
    "            }\n",
    "            Users.findOne({ gender:'m'}, (err,user) => {\n",
    "                \n",
    "            });\n",
    "        });\n",
    "    });\n",
    "}"
   ]
  },
  {
   "cell_type": "code",
   "execution_count": 6,
   "metadata": {},
   "outputs": [],
   "source": [
    "//프로미스를 이용해서 개선\n",
    "function findAndSaveUser(Users){\n",
    "    Users.findOne({})\n",
    "        .then((user)=> {\n",
    "        return user.save();\n",
    "    })\n",
    "    .then((user)=> {\n",
    "        return Users.findOne({gender: 'm'});\n",
    "    })\n",
    "    .then((user)=> {\n",
    "        \n",
    "    })\n",
    "    .catch(err => {\n",
    "        console.err(err);\n",
    "    });\n",
    "}"
   ]
  },
  {
   "cell_type": "code",
   "execution_count": 7,
   "metadata": {},
   "outputs": [
    {
     "name": "stdout",
     "output_type": "stream",
     "text": [
      "[ '성공1', '성공2' ]\n"
     ]
    }
   ],
   "source": [
    "//프로미스 여러개를 한 번에 실행하기\n",
    "const promise1 = Promise.resolve('성공1');\n",
    "const promise2 = Promise.resolve('성공2');\n",
    "\n",
    "Promise.all([promise1, promise2])\n",
    "    .then((result)=> {\n",
    "        console.log(result);\n",
    "    })\n",
    "    .catch((err)=> {\n",
    "        console.error(err);\n",
    "    });"
   ]
  },
  {
   "cell_type": "markdown",
   "metadata": {},
   "source": [
    "### 2.1.8 async/await"
   ]
  },
  {
   "cell_type": "code",
   "execution_count": 10,
   "metadata": {},
   "outputs": [],
   "source": [
    "//프로미스 코드를 개선\n",
    "async function findeAndSaveUser(Users) {\n",
    "    try{\n",
    "        let user = await Users.findeOne({});\n",
    "        user.name='zero';\n",
    "        user = await user.save();\n",
    "        user = await Users.findeOne({gender:'m'});\n",
    "    } catch(error){\n",
    "        console.error(error);\n",
    "    }\n",
    "}"
   ]
  },
  {
   "cell_type": "markdown",
   "metadata": {},
   "source": [
    "await을 사용하는 함수에 async를 붙임  \n",
    "await: Promise의 then"
   ]
  },
  {
   "cell_type": "code",
   "execution_count": 12,
   "metadata": {},
   "outputs": [],
   "source": [
    "const findAndSaveUser0 = async(User) =>{\n",
    "    try{\n",
    "        let user = await Users.findeOne({});\n",
    "        user.name='zero';\n",
    "        user = await user.save();\n",
    "        user = await Users.findeOne({gender:'m'});\n",
    "    } catch(error){\n",
    "        console.error(error);\n",
    "    }    \n",
    "}"
   ]
  },
  {
   "cell_type": "code",
   "execution_count": 15,
   "metadata": {},
   "outputs": [
    {
     "name": "stdout",
     "output_type": "stream",
     "text": [
      "성공3\n",
      "성공4\n"
     ]
    }
   ],
   "source": [
    "const promise3 = Promise.resolve('성공3');\n",
    "const promise4 = Promise.resolve('성공4');\n",
    "\n",
    "(async() => {\n",
    "    for await(promise of [promise3, promise4]){\n",
    "        console.log(promise);\n",
    "    }\n",
    "})();"
   ]
  },
  {
   "cell_type": "code",
   "execution_count": 2,
   "metadata": {},
   "outputs": [],
   "source": [
    "async function findeAndSaveUser(Users){\n",
    "    \n",
    "}\n",
    "findeAndSaveUser().then(()=> {});\n",
    "async function other(){\n",
    "    const result = await findeAndSaveUser();\n",
    "}"
   ]
  }
 ],
 "metadata": {
  "kernelspec": {
   "display_name": "Javascript (Node.js)",
   "language": "javascript",
   "name": "javascript"
  },
  "language_info": {
   "file_extension": ".js",
   "mimetype": "application/javascript",
   "name": "javascript",
   "version": "12.16.2"
  }
 },
 "nbformat": 4,
 "nbformat_minor": 4
}
