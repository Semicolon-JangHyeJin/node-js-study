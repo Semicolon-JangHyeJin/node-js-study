{
 "cells": [
  {
   "cell_type": "markdown",
   "metadata": {},
   "source": [
    "# Node.js 교과서 6장 \n",
    "# < 익스프레스 웹 서버 만들기 >\n",
    "## 6.1 익스프레스 프로젝트 시작하기\n",
    "1. package.json 생성 (script:start 설정)\n",
    "2. 모듈 설치\n",
    " - npm i express\n",
    " - npm i -D nodemon"
   ]
  },
  {
   "cell_type": "code",
   "execution_count": 5,
   "metadata": {},
   "outputs": [
    {
     "name": "stdout",
     "output_type": "stream",
     "text": [
      "Overwriting code/6/learn-express/package.json\n"
     ]
    }
   ],
   "source": [
    "%%writefile code/6/learn-express/package.json\n",
    "{\n",
    "  \"name\": \"learn-express\",\n",
    "  \"version\": \"0.0.1\",\n",
    "  \"description\": \"익스프레스를 배우자\",\n",
    "  \"main\": \"app.js\",\n",
    "  \"scripts\": {\n",
    "    \"start\": \"nodemon app\"\n",
    "  },\n",
    "  \"author\": \"hyejin\",\n",
    "  \"license\": \"MIT\",\n",
    "  \"dependencies\": {\n",
    "    \"express\": \"^4.17.1\"\n",
    "  },\n",
    "  \"devDependencies\": {\n",
    "    \"nodemon\": \"^2.0.4\"\n",
    "  }\n",
    "}"
   ]
  },
  {
   "cell_type": "code",
   "execution_count": 3,
   "metadata": {},
   "outputs": [
    {
     "name": "stdout",
     "output_type": "stream",
     "text": [
      "Writing code/6/learn-express/app.js\n"
     ]
    }
   ],
   "source": [
    "%%writefile code/6/learn-express/app.js\n",
    "\n",
    "const express = require('express');\n",
    "const app = express();\n",
    "\n",
    "app.get('/', (req, res) => { \n",
    "    res.send('Hello, Express');\n",
    "});\n",
    "\n",
    "app.listen(3000, () => {\n",
    "  console.log('익스프레스 서버 실행');\n",
    "});"
   ]
  },
  {
   "cell_type": "markdown",
   "metadata": {},
   "source": [
    "![](img/3000.png)"
   ]
  },
  {
   "cell_type": "code",
   "execution_count": 4,
   "metadata": {},
   "outputs": [
    {
     "name": "stdout",
     "output_type": "stream",
     "text": [
      "Overwriting code/6/learn-express/app.js\n"
     ]
    }
   ],
   "source": [
    "%%writefile code/6/learn-express/app.js\n",
    "\n",
    "const express = require('express');\n",
    "const app = express();\n",
    "\n",
    "// app.set('port', 3000); \n",
    "// set 메소드: 서버에 변수를 저장 port=3000 (전역변수)\n",
    "\n",
    "app.set('port', process.env.PORT || 3000);\n",
    "\n",
    "app.get('/', (req, res) => { \n",
    "    res.send('Hello, Express');\n",
    "});\n",
    "app.post('/', (req, res) => { \n",
    "    res.send('Hello, Express');\n",
    "});\n",
    "app.get('/about', (req, res) => { \n",
    "    res.send('about Express');\n",
    "});\n",
    "\n",
    "app.listen(app.get('port'), () => { // 변수 가져오기\n",
    "  console.log('익스프레스 서버 실행');\n",
    "});"
   ]
  },
  {
   "cell_type": "markdown",
   "metadata": {},
   "source": [
    "**nodemon으로 실행하기**  \n",
    "npm start를 입력하면\n",
    "package.json에 script로 설정한 start가 nodemon app 명령으로 이어진다.  \n",
    "nodemon으로 실행하면 js파일이 수정될 때 마다 자동으로 서버 재실행됨"
   ]
  },
  {
   "cell_type": "code",
   "execution_count": 6,
   "metadata": {},
   "outputs": [
    {
     "name": "stdout",
     "output_type": "stream",
     "text": [
      "Writing code/6/learn-express/index.html\n"
     ]
    }
   ],
   "source": [
    "%%writefile code/6/learn-express/index.html\n",
    "\n",
    "<html>\n",
    "<head>\n",
    "  <meta charset=\"UTF-8\" />\n",
    "  <title>익스프레스 서버</title>\n",
    "</head>\n",
    "<body>\n",
    "  <h1>익스프레스</h1>\n",
    "  <p>배워봅시다.</p>\n",
    "</body>\n",
    "</html>"
   ]
  },
  {
   "cell_type": "code",
   "execution_count": 8,
   "metadata": {},
   "outputs": [
    {
     "name": "stdout",
     "output_type": "stream",
     "text": [
      "Overwriting code/6/learn-express/app.js\n"
     ]
    }
   ],
   "source": [
    "%%writefile code/6/learn-express/app.js\n",
    "\n",
    "const express = require('express');\n",
    "const path = require('path'); //경로 설정을 위한 모듈\n",
    "const app = express();\n",
    "\n",
    "// app.set('port', 3000); \n",
    "// set 메소드: 서버에 변수를 저장 port=3000 (전역변수)\n",
    "\n",
    "app.set('port', process.env.PORT || 3000);\n",
    "\n",
    "app.get('/', (req, res) => { \n",
    "    res.sendFile(path.join(__dirname, '/index.html'));\n",
    "    //파일 읽기 res.sendFile\n",
    "});\n",
    "app.post('/', (req, res) => { \n",
    "    res.send('Hello, Express');\n",
    "});\n",
    "app.get('/about', (req, res) => { \n",
    "    res.send('about Express');\n",
    "});\n",
    "\n",
    "app.listen(app.get('port'), () => { // 변수 가져오기\n",
    "  console.log('익스프레스 서버 실행');\n",
    "});"
   ]
  },
  {
   "cell_type": "markdown",
   "metadata": {},
   "source": [
    "![](img/sendFile.png)"
   ]
  },
  {
   "cell_type": "markdown",
   "metadata": {},
   "source": [
    "## 6.2 자주 사용하는 미들웨어"
   ]
  },
  {
   "cell_type": "code",
   "execution_count": 39,
   "metadata": {},
   "outputs": [
    {
     "name": "stdout",
     "output_type": "stream",
     "text": [
      "Overwriting code/6/learn-express/app.js\n"
     ]
    }
   ],
   "source": [
    "%%writefile code/6/learn-express/app.js\n",
    "\n",
    "const express = require('express');\n",
    "const path = require('path'); //경로 설정을 위한 모듈\n",
    "const app = express();\n",
    "\n",
    "// app.set('port', 3000); \n",
    "// set 메소드: 서버에 변수를 저장 port=3000 (전역변수)\n",
    "\n",
    "app.set('port', process.env.PORT || 3000);\n",
    "\n",
    "app.get('/', (req, res) => { \n",
    "    console.log('모든 요청에 실행하고 싶어요');\n",
    "    res.sendFile(path.join(__dirname, '/index.html'));\n",
    "    //파일 읽기 res.sendFile\n",
    "});\n",
    "app.post('/', (req, res) => { \n",
    "    console.log('모든 요청에 실행하고 싶어요');\n",
    "    res.send('Hello, Express');\n",
    "});\n",
    "app.get('/about', (req, res) => { \n",
    "    console.log('모든 요청에 실행하고 싶어요');\n",
    "    res.send('about Express');\n",
    "});\n",
    "\n",
    "app.listen(app.get('port'), () => { // 변수 가져오기\n",
    "  console.log('익스프레스 서버 실행');\n",
    "});"
   ]
  },
  {
   "cell_type": "markdown",
   "metadata": {},
   "source": [
    "코드를 분리하여 작성할 수 있어서 좋지만, 모든 요청에 실행해야하는 코드가 있다면 코드 중복이 발생함  \n",
    "미들웨어로 처리 가능함 -> app.use()"
   ]
  },
  {
   "cell_type": "code",
   "execution_count": 40,
   "metadata": {},
   "outputs": [
    {
     "name": "stdout",
     "output_type": "stream",
     "text": [
      "Overwriting code/6/learn-express/app.js\n"
     ]
    }
   ],
   "source": [
    "%%writefile code/6/learn-express/app.js\n",
    "\n",
    "const express = require('express');\n",
    "const path = require('path'); //경로 설정을 위한 모듈\n",
    "const app = express();\n",
    "\n",
    "// app.set('port', 3000); \n",
    "// set 메소드: 서버에 변수를 저장 port=3000 (전역변수)\n",
    "\n",
    "app.set('port', process.env.PORT || 3000);\n",
    "\n",
    "app.use((req, res, next)=>{\n",
    "    console.log(\"모든 요청에 다 실행됩니다.\");\n",
    "    next(); //next: 다음 라우터에서 실행하기 위해 넣어줌\n",
    "            //app.use를 작성한 곳 바로 아래쪽에서부터 요청 url 일치하는 라우터를 찾으면 실행\n",
    "})\n",
    "\n",
    "app.get('/', (req, res) => { //라우터1\n",
    "    res.sendFile(path.join(__dirname, '/index.html'));\n",
    "    //파일 읽기 res.sendFile\n",
    "});\n",
    "app.post('/', (req, res) => { //라우터2\n",
    "    res.send('Hello, Express');\n",
    "});\n",
    "app.get('/about', (req, res) => { //라우터3\n",
    "    console.log('about에서만 실행됨');\n",
    "    res.send('about Express');\n",
    "});\n",
    "\n",
    "app.listen(app.get('port'), () => { // 변수 가져오기\n",
    "  console.log('익스프레스 서버 실행');\n",
    "});"
   ]
  },
  {
   "cell_type": "code",
   "execution_count": 42,
   "metadata": {},
   "outputs": [
    {
     "name": "stdout",
     "output_type": "stream",
     "text": [
      "Overwriting code/6/learn-express/app.js\n"
     ]
    }
   ],
   "source": [
    "%%writefile code/6/learn-express/app.js\n",
    "\n",
    "const express = require('express');\n",
    "const path = require('path'); //경로 설정을 위한 모듈\n",
    "const app = express();\n",
    "\n",
    "// app.set('port', 3000); \n",
    "// set 메소드: 서버에 변수를 저장 port=3000 (전역변수)\n",
    "\n",
    "app.set('port', process.env.PORT || 3000);\n",
    "\n",
    "app.use((req, res, next)=>{\n",
    "    console.log(\"모든 요청에 다 실행됩니다.\");\n",
    "    next(); //next: 다음 라우터에서 실행하기 위해 넣어줌\n",
    "            //app.use를 작성한 곳 바로 아래쪽에서부터 요청 url 일치하는 라우터를 찾으면 실행\n",
    "}, (req, res, next)=>{\n",
    "    throw new Error(\"엥 에러가 났어요\"); //에러를 처리하는 코드\n",
    "});\n",
    "\n",
    "app.get('/', (req, res) => { //라우터1\n",
    "    res.sendFile(path.join(__dirname, '/index.html'));\n",
    "    //파일 읽기 res.sendFile\n",
    "});\n",
    "app.post('/', (req, res) => { //라우터2\n",
    "    res.send('Hello, Express');\n",
    "});\n",
    "app.get('/about', (req, res) => { //라우터3\n",
    "    console.log('about에서만 실행됨');\n",
    "    res.send('about Express');\n",
    "});\n",
    "\n",
    "app.listen(app.get('port'), () => { // 변수 가져오기\n",
    "  console.log('익스프레스 서버 실행');\n",
    "});"
   ]
  },
  {
   "cell_type": "code",
   "execution_count": 5,
   "metadata": {},
   "outputs": [
    {
     "name": "stdout",
     "output_type": "stream",
     "text": [
      "Overwriting code/6/learn-express/app.js\n"
     ]
    }
   ],
   "source": [
    "%%writefile code/6/learn-express/app.js\n",
    "\n",
    "const express = require('express');\n",
    "const path = require('path'); //경로 설정을 위한 모듈\n",
    "const app = express();\n",
    "\n",
    "// app.set('port', 3000); \n",
    "// set 메소드: 서버에 변수를 저장 port=3000 (전역변수)\n",
    "\n",
    "app.set('port', process.env.PORT || 3000);\n",
    "\n",
    "app.use((req, res, next)=>{\n",
    "    console.log(\"모든 요청에 다 실행됩니다.\");\n",
    "    next(); //next: 다음 라우터에서 실행하기 위해 넣어줌\n",
    "            //app.use를 작성한 곳 바로 아래쪽에서부터 요청 url 일치하는 라우터를 찾으면 실행\n",
    "});\n",
    "\n",
    "app.get('/', (req, res) => { //라우터1\n",
    "    res.sendFile(path.join(__dirname, '/index.html'));\n",
    "    //파일 읽기 res.sendFile\n",
    "});\n",
    "app.post('/', (req, res) => { //라우터2\n",
    "    res.send('Hello, Express');\n",
    "});\n",
    "app.get('/about', (req, res) => { //라우터3\n",
    "    console.log('about에서만 실행됨');\n",
    "    res.send('about Express');\n",
    "});\n",
    "app.get('/error', (req, res, next)=>{\n",
    "    throw new Error(\"엥 에러가 났어요\"); //에러를 처리하는 코드\n",
    "})\n",
    "\n",
    "//404처리 에러처리 라우터중 가장아래쪽~미들웨어 윗부분\n",
    "app.use((req, res, next)=>{\n",
    "    res.status(400).send('404 NOT FOUND X.X');\n",
    "})\n",
    "//에러 처리2, 반드시 매개변수 4개인 콜백\n",
    "app.use((err, req, res, next)=>{\n",
    "    console.error(err); //에러는 서버에만 기록\n",
    "    res.send(\"에러가 났네요... 왜인지는 안알려줌\");\n",
    "});\n",
    "\n",
    "app.listen(app.get('port'), () => { // 변수 가져오기\n",
    "  console.log('익스프레스 서버 실행');\n",
    "});"
   ]
  },
  {
   "cell_type": "markdown",
   "metadata": {},
   "source": [
    "![](img/error.png)\n",
    "![](img/not.png)"
   ]
  },
  {
   "cell_type": "markdown",
   "metadata": {},
   "source": [
    "~~~js\n",
    "app.get('/about', (req, res) => { //라우터3\n",
    "    console.log('about에서만 실행됨');\n",
    "    res.send('about Express'); //---이부분\n",
    "});\n",
    "~~~\n",
    "생략된 코드가 있음\n",
    "~~~\n",
    "res.status(200).send('about Express');\n",
    "~~~\n",
    "status(200)이 생략된 코드임 (정상응답코드:200)  \n",
    "status(404)를 작성해야 브라우저에서 확인 가능  \n",
    "\n",
    "(오류가 발생한대로 오류 코드를 그대로 노출하면 공격당할수있다...)\n",
    "\n",
    "-----"
   ]
  },
  {
   "cell_type": "markdown",
   "metadata": {},
   "source": [
    "**sendFile, send, json을 한 라우터 안에서 두 번 이상 사용하면 에러 발생함**   \n",
    ": 요청 한번에 응답 한번을 보내는게 규칙  \n",
    "**sendFile, send, json 사용 후 writeHead 사용하는 경우에도 에러 발생**\n",
    "<p style=\"color:red\">ERROR: Cannot set headers after they are sent to the client</p>\n",
    "ex)\n",
    "\n",
    "~~~js\n",
    "app.get('/', (req, res)=>{\n",
    "   res.sendFile(...);\n",
    "   res.send(...);\n",
    "   res.json(...);\n",
    "});\n",
    "~~~\n",
    "------"
   ]
  },
  {
   "cell_type": "markdown",
   "metadata": {},
   "source": [
    "**미들웨어 패키지 설치**\n",
    "~~~\n",
    ">> npm i morgan cookie-parser express-session\n",
    "~~~\n",
    "- morgan\n",
    " : 요청, 응답을 기록함\n",
    " ~~~\n",
    " GET /404 400 0.466 ms - 17\n",
    " [HTTP 메서드][주소][HTTP 상태코드][응답 속도]-[응답 바이트]\n",
    " ~~~\n",
    "- cookie-parser\n",
    "~~~js\n",
    "app.use(cookieParser());\n",
    "app.use(cookieParser('secretCode')); //쿠키 암호화 key=secretCode\n",
    "\n",
    "    req.cookies // { mycookie: 'test' } 알아서 파싱\n",
    "    req.signedCookies; // 암호화 된 쿠키 사용시 cookies 대신 사용\n",
    "    res.cookie('name', encodeURIComponent(name),{ // set-Cookie...\n",
    "        expires: new Dates(),\n",
    "        httpOnly: true,\n",
    "        path: '/',\n",
    "    });\n",
    "    res.clearCookie('name', encodeURIComponent(name),{ // 쿠키 삭제\n",
    "        httpOnly: true,\n",
    "        path: '/',\n",
    "    });\n",
    "~~~\n",
    "- express-session\n",
    "~~~js\n",
    "app.use(session({\n",
    "    resave: false,\n",
    "    saveUninitioalized: false,\n",
    "    secret: process.env.COOKIE_SECRETE,\n",
    "    cookie:{\n",
    "        httpOnly:true,\n",
    "    },\n",
    "    name: 'connect.sid'\n",
    "})); //세션\n",
    "~~~\n",
    "\n",
    "\n",
    "\n",
    "- body-parser : \n",
    " - 익스프레스 4.16.0 버전 부터 일부 기능이 익스프레스에 내장되었음\n",
    "~~~js\n",
    "const app = express();\n",
    "app.use(express.json());\n",
    "app.use(express.urlencoded({extended: true}));\n",
    "//form 파싱, (extended=true : 쿼리스트링 처리방식 설정)\n",
    "~~~\n",
    " - 익스프레스에 없는 body-parser 기능: raw(), text()\n",
    "  (필요없어서 빠짐)\n"
   ]
  },
  {
   "cell_type": "code",
   "execution_count": 26,
   "metadata": {},
   "outputs": [
    {
     "name": "stdout",
     "output_type": "stream",
     "text": [
      "Overwriting code/6/learn-express/app.js\n"
     ]
    }
   ],
   "source": [
    "%%writefile code/6/learn-express/app.js\n",
    "\n",
    "const express = require('express');\n",
    "const path = require('path'); //경로 설정을 위한 모듈\n",
    "const morgan = require('morgan');\n",
    "const cookieParser = requires('cookie-parser');\n",
    "\n",
    "const app = express();\n",
    "\n",
    "app.use(morgan('dev')); //개발할 때 'dev', 배포할 때 'combined'(브라우저, ip 정보까지 띄울수있음)\n",
    "\n",
    "// app.set('port', 3000); \n",
    "// set 메소드: 서버에 변수를 저장 port=3000 (전역변수)\n",
    "\n",
    "app.set('port', process.env.PORT || 3000);\n",
    "\n",
    "app.get('/', (req, res) => { //라우터1\n",
    "    res.sendFile(path.join(__dirname, '/index.html'));\n",
    "    //파일 읽기 res.sendFile\n",
    "});\n",
    "app.post('/', (req, res) => { //라우터2\n",
    "    res.send('Hello, Express');\n",
    "});\n",
    "app.get('/about', (req, res) => { //라우터3\n",
    "    console.log('about에서만 실행됨');\n",
    "    res.send('about Express');\n",
    "});\n",
    "app.get('/error', (req, res, next)=>{\n",
    "    throw new Error(\"엥 에러가 났어요\"); //에러를 처리하는 코드\n",
    "})\n",
    "\n",
    "//404처리 에러처리 라우터중 가장아래쪽~미들웨어 윗부분\n",
    "app.use((req, res, next)=>{\n",
    "    res.status(400).send('404 NOT FOUND X.X');\n",
    "})\n",
    "//에러 처리2, 반드시 매개변수 4개인 콜백\n",
    "app.use((err, req, res, next)=>{\n",
    "    console.error(err); //에러는 서버에만 기록\n",
    "    res.send(\"에러가 났네요... 왜인지는 안알려줌\");\n",
    "});\n",
    "\n",
    "app.listen(app.get('port'), () => { // 변수 가져오기\n",
    "  console.log('익스프레스 서버 실행');\n",
    "});"
   ]
  },
  {
   "cell_type": "code",
   "execution_count": 34,
   "metadata": {},
   "outputs": [
    {
     "name": "stdout",
     "output_type": "stream",
     "text": [
      "Overwriting code/6/learn-express/app.js\n"
     ]
    }
   ],
   "source": [
    "%%writefile code/6/learn-express/app.js\n",
    "\n",
    "const express = require('express');\n",
    "const path = require('path'); //경로 설정을 위한 모듈\n",
    "const morgan = require('morgan');\n",
    "const cookieParser = require('cookie-parser');\n",
    "\n",
    "const app = express();\n",
    "\n",
    "app.use(morgan('dev')); //개발할 때 'dev', 배포할 때 'combined'(브라우저, ip 정보까지 띄울수있음)\n",
    "//app.use(cookieParser());\n",
    "app.use(cookieParser('secretCode')); //쿠키 암호화 key=secretCode\n",
    "\n",
    "// app.set('port', 3000); \n",
    "// set 메소드: 서버에 변수를 저장 port=3000 (전역변수)\n",
    "\n",
    "app.set('port', process.env.PORT || 3000);\n",
    "\n",
    "app.get('/', (req, res) => { //라우터1\n",
    "    // req.cookies // { mycookie: 'test' } 알아서 파싱\n",
    "    req.signedCookies; // 암호화 된 쿠키 사용시 cookies 대신 사용\n",
    "    res.cookie('name', encodeURIComponent(name),{ // set-Cookie...\n",
    "        expires: new Dates(),\n",
    "        httpOnly: true,\n",
    "        path: '/',\n",
    "    });\n",
    "    res.clearCookie('name', encodeURIComponent(name),{ // 쿠키 삭제\n",
    "        httpOnly: true,\n",
    "        path: '/',\n",
    "    });\n",
    "                                  \n",
    "    res.sendFile(path.join(__dirname, '/index.html'));\n",
    "    //파일 읽기 res.sendFile\n",
    "});\n",
    "app.post('/', (req, res) => { //라우터2\n",
    "    res.send('Hello, Express');\n",
    "});\n",
    "app.get('/about', (req, res) => { //라우터3\n",
    "    console.log('about에서만 실행됨');\n",
    "    res.send('about Express');\n",
    "});\n",
    "app.get('/error', (req, res, next)=>{\n",
    "    throw new Error(\"엥 에러가 났어요\"); //에러를 처리하는 코드\n",
    "})\n",
    "\n",
    "//404처리 에러처리 라우터중 가장아래쪽~미들웨어 윗부분\n",
    "app.use((req, res, next)=>{\n",
    "    res.status(400).send('404 NOT FOUND X.X');\n",
    "})\n",
    "//에러 처리2, 반드시 매개변수 4개인 콜백\n",
    "app.use((err, req, res, next)=>{\n",
    "    console.error(err); //에러는 서버에만 기록\n",
    "    res.send(\"에러가 났네요... 왜인지는 안알려줌\");\n",
    "});\n",
    "\n",
    "app.listen(app.get('port'), () => { // 변수 가져오기\n",
    "  console.log('익스프레스 서버 실행');\n",
    "});"
   ]
  },
  {
   "cell_type": "code",
   "execution_count": 37,
   "metadata": {},
   "outputs": [
    {
     "name": "stdout",
     "output_type": "stream",
     "text": [
      "Overwriting code/6/learn-express/app.js\n"
     ]
    }
   ],
   "source": [
    "%%writefile code/6/learn-express/app.js\n",
    "\n",
    "const express = require('express');\n",
    "const path = require('path'); //경로 설정을 위한 모듈\n",
    "const morgan = require('morgan');\n",
    "const cookieParser = require('cookie-parser');\n",
    "const session = require('express-session');\n",
    "const app = express();\n",
    "\n",
    "app.use(morgan('dev')); //개발할 때 'dev', 배포할 때 'combined'(브라우저, ip 정보까지 띄울수있음)\n",
    "//app.use(cookieParser());\n",
    "app.use(cookieParser('secretCode')); //쿠키 암호화 key=secretCode\n",
    "\n",
    "// app.set('port', 3000); \n",
    "// set 메소드: 서버에 변수를 저장 port=3000 (전역변수)\n",
    "\n",
    "app.set('port', process.env.PORT || 3000);\n",
    "app.use(session({\n",
    "    resave: false, \n",
    "    saveUninitioalized: false,\n",
    "    secret: process.env.COOKIE_SECRETE,\n",
    "    cookie:{\n",
    "        httpOnly:true,\n",
    "    },\n",
    "    name: 'connect.sid'\n",
    "})); //세션\n",
    "app.use(express.json());\n",
    "app.use(express.urlencoded({extended: true}));\n",
    "\n",
    "app.get('/', (req, res) => { //라우터1  \n",
    "    req.session //세션객체\n",
    "    res.sendFile(path.join(__dirname, '/index.html'));\n",
    "    //파일 읽기 res.sendFile\n",
    "});\n",
    "app.post('/', (req, res) => { //라우터2\n",
    "    res.send('Hello, Express');\n",
    "});\n",
    "app.get('/about', (req, res) => { //라우터3\n",
    "    console.log('about에서만 실행됨');\n",
    "    res.send('about Express');\n",
    "});\n",
    "app.get('/error', (req, res, next)=>{\n",
    "    throw new Error(\"엥 에러가 났어요\"); //에러를 처리하는 코드\n",
    "})\n",
    "\n",
    "//404처리 에러처리 라우터중 가장아래쪽~미들웨어 윗부분\n",
    "app.use((req, res, next)=>{\n",
    "    res.status(400).send('404 NOT FOUND X.X');\n",
    "})\n",
    "//에러 처리2, 반드시 매개변수 4개인 콜백\n",
    "app.use((err, req, res, next)=>{\n",
    "    console.error(err); //에러는 서버에만 기록\n",
    "    res.send(\"에러가 났네요... 왜인지는 안알려줌\");\n",
    "});\n",
    "\n",
    "app.listen(app.get('port'), () => { // 변수 가져오기\n",
    "  console.log('익스프레스 서버 실행');\n",
    "});"
   ]
  },
  {
   "cell_type": "markdown",
   "metadata": {},
   "source": [
    "-----\n",
    "- static  \n",
    "\n",
    " **서버 구조 은닉**  \n",
    "~~~js\n",
    "//app.use('요청경로', express.static('실제경로'));  \n",
    "app.use('/', express.static(__dirname, 'real'));\n",
    "~~~\n",
    "요청 파일을 실제경로에서 찾아줌\n",
    "localhost:3000/index.js 요청 => /real/index.js 를 보냄\n",
    "\n",
    "<p style='color:red'>\n",
    "    주의: static은 파일을 찾으면 next()호출하지 않음, 다음 미들웨어는 실행되지 않는다.\n",
    "</p>"
   ]
  },
  {
   "cell_type": "code",
   "execution_count": 40,
   "metadata": {},
   "outputs": [
    {
     "name": "stdout",
     "output_type": "stream",
     "text": [
      "Overwriting code/6/learn-express/app.js\n"
     ]
    }
   ],
   "source": [
    "%%writefile code/6/learn-express/app.js\n",
    "\n",
    "const express = require('express');\n",
    "const path = require('path'); //경로 설정을 위한 모듈\n",
    "const morgan = require('morgan');\n",
    "const cookieParser = require('cookie-parser');\n",
    "\n",
    "const app = express();\n",
    "\n",
    "app.use(morgan('dev')); //개발할 때 'dev', 배포할 때 'combined'(브라우저, ip 정보까지 띄울수있음)\n",
    "//app.use(cookieParser());\n",
    "app.use(cookieParser('secretCode')); //쿠키 암호화 key=secretCode\n",
    "\n",
    "// app.set('port', 3000); \n",
    "// set 메소드: 서버에 변수를 저장 port=3000 (전역변수)\n",
    "\n",
    "app.set('port', process.env.PORT || 3000);\n",
    "app.use(express.json());\n",
    "app.use(express.urlencoded({extended: true}));\n",
    "\n",
    "//app.use('요청경로', express.static('실제경로'));\n",
    "app.use('/', express.static(__dirname, 'real'));\n",
    "\n",
    "app.get('/', (req, res) => { //라우터1            \n",
    "    res.sendFile(path.join(__dirname, '/index.html'));\n",
    "    //파일 읽기 res.sendFile\n",
    "});\n",
    "app.post('/', (req, res) => { //라우터2\n",
    "    res.send('Hello, Express');\n",
    "});\n",
    "app.get('/about', (req, res) => { //라우터3\n",
    "    console.log('about에서만 실행됨');\n",
    "    res.send('about Express');\n",
    "});\n",
    "app.get('/error', (req, res, next)=>{\n",
    "    throw new Error(\"엥 에러가 났어요\"); //에러를 처리하는 코드\n",
    "})\n",
    "\n",
    "//404처리 에러처리 라우터중 가장아래쪽~미들웨어 윗부분\n",
    "app.use((req, res, next)=>{\n",
    "    res.status(400).send('404 NOT FOUND X.X');\n",
    "})\n",
    "//에러 처리2, 반드시 매개변수 4개인 콜백\n",
    "app.use((err, req, res, next)=>{\n",
    "    console.error(err); //에러는 서버에만 기록\n",
    "    res.send(\"에러가 났네요... 왜인지는 안알려줌\");\n",
    "});\n",
    "\n",
    "app.listen(app.get('port'), () => { // 변수 가져오기\n",
    "  console.log('익스프레스 서버 실행');\n",
    "});"
   ]
  },
  {
   "cell_type": "markdown",
   "metadata": {},
   "source": [
    "-----\n",
    "#### +) 자주 쓰이는 패턴: 미들웨어 확장법\n",
    "아래 두 코드는 동일한 기능이다.\n",
    "~~~js\n",
    "app.use(morgan('dev'));\n",
    "app.use((req, res, next) => {\n",
    "    morgan('dev')(req, res, next);\n",
    "});\n",
    "~~~\n",
    "\n",
    "다음과 같이\n",
    "기존 미들웨어의 기능을 확장할 수 있다.  \n",
    "조건문에 따라 다른 미들웨어를 적용하는 코드\n",
    "~~~js\n",
    "app.use((req, res, next) => {\n",
    "    if(...){\n",
    "        morgan('combinded')(req, res, next);\n",
    "    } else{\n",
    "        morgan('dev')(req, res, next);\n",
    "    }\n",
    "});\n",
    "~~~"
   ]
  },
  {
   "cell_type": "markdown",
   "metadata": {},
   "source": [
    "- multer  \n",
    "\n",
    " form 태그의 enctype이 multipart/form-data인 경우, body-parser로는 요청 본문을 해석할 수 없다. (multer 패키지가 필요함)  \n",
    " \n",
    " 설치\n",
    " ~~~\n",
    " >> npm i multer\n",
    " ~~~"
   ]
  },
  {
   "cell_type": "code",
   "execution_count": 26,
   "metadata": {},
   "outputs": [
    {
     "name": "stdout",
     "output_type": "stream",
     "text": [
      "Overwriting code/6/learn-express/multipart.html\n"
     ]
    }
   ],
   "source": [
    "%%writefile code/6/learn-express/multipart.html\n",
    "<form id=\"form\" action=\"/upload\" method=\"post\" enctype=\"multipart/form-data\">\n",
    "  <input type=\"file\" name=\"image\" />\n",
    "  <input type=\"text\" name=\"title\" />\n",
    "  <button type=\"submit\">업로드</button>\n",
    "</form>\n",
    "<script src=\"https://unpkg.com/axios/dist/axios.min.js\"></script>"
   ]
  },
  {
   "cell_type": "markdown",
   "metadata": {},
   "source": [
    "- multer 함수의 설정 인수\n",
    "  - storage 속성\n",
    "    - destination: 어디에\n",
    "    - filename: 어떤 이름으로 저장할지\n",
    "    - done(error, file): 첫 번째 인수는 에러,두번째 인수는 파일경로나 파일이름 \n",
    "  \n",
    "  - limits 속성\n",
    "    - fileSize: 파일 사이즈, 바이트단위"
   ]
  },
  {
   "cell_type": "code",
   "execution_count": 14,
   "metadata": {},
   "outputs": [
    {
     "name": "stdout",
     "output_type": "stream",
     "text": [
      "Overwriting code/6/learn-express/multer.js\n"
     ]
    }
   ],
   "source": [
    "%%writefile code/6/learn-express/multer.js\n",
    "\n",
    "const multer = require('multer');\n",
    "const fs = reqire('fs');\n",
    "\n",
    "// uploads 파일이 없다면 fs모듈로 생성해주는 코드\n",
    "try{\n",
    "    fs.readdirSync('uploads');\n",
    "} catch(error){\n",
    "    console.error('uploads 폴더가 없어 uploads 폴더를 생성합니다.');\n",
    "    fs.mkdirSync('uploads');\n",
    "}\n",
    "\n",
    "// multer설정하면 upload에 다양한 미들웨어가 생김\n",
    "const upload = multer({\n",
    "  strage: multer.diskStorage({\n",
    "    destination(req, file, done){\n",
    "      done(null, 'uploads/');\n",
    "    }.\n",
    "    filename(req, file, done){\n",
    "      donst ext = path.extname(file.originalname);\n",
    "      done(null, path.basename(file.originalname, ext) + Date.now()+ext);\n",
    "        // 파일이름+저장시간으로 저장\n",
    "    },\n",
    "  }),\n",
    "  limits: {fileSize: 5*1024*1024}, //5MB\n",
    "});\n",
    "\n",
    "// multer 미들웨어 사용\n",
    "app.post('/uploads', upload.single('image'), (req, res) => {\n",
    "    console.log(req.file, req.body);\n",
    "    res.send('ok');\n",
    "});\n",
    "\n",
    "app.post('/uploads', upload.array('many'), (req, res) => {\n",
    "    console.log(req.files, req.body); // files 배열에 저장됨\n",
    "    res.send('ok');\n",
    "});\n",
    "\n",
    "app.post('/uploads', \n",
    "    upload.fields([{name:'image1'}, {name:'image2'}]),\n",
    "    (req, res) => {\n",
    "        console.log(req.files, req.body); // files.image1, files.image2에 저장됨\n",
    "        res.send('ok');\n",
    "    },\n",
    ");\n",
    "\n",
    "app.post('/uploads', upload.none(), (req, res) => {\n",
    "    console.log(req.body); // 파일 업로드하지 않았으므로 body만 존재\n",
    "    res.send('ok');\n",
    "});"
   ]
  },
  {
   "cell_type": "markdown",
   "metadata": {},
   "source": [
    "- multer 미들웨어  \n",
    "  - single: 파일을 하나만 업로드 하는 경우\n",
    "  - array: 파일을 여러개 보내는 경우 (input 태그에 muliple 추가)\n",
    "  ~~~html\n",
    "<form id=\"form\" action=\"/upload\" method=\"post\" enctype=\"multipart/form-data\">\n",
    "  <input type=\"file\" name=\"many\" miltiple/>\n",
    "  <input type=\"text\" name=\"title\" />\n",
    "  <button type=\"submit\">업로드</button>\n",
    "</form>\n",
    "  ~~~\n",
    "  - fields: 파일을 여러개 업로드 하긴 하지만 input 태그나 폼 데이터의 키가 다른 경우\n",
    "    ~~~html\n",
    "<form id=\"form\" action=\"/upload\" method=\"post\" enctype=\"multipart/form-data\">\n",
    "  <input type=\"file\" name=\"image1\" />\n",
    "  <input type=\"file\" name=\"image2\" />\n",
    "  <input type=\"text\" name=\"title\" />\n",
    "  <button type=\"submit\">업로드</button>\n",
    "</form>\n",
    "  ~~~\n",
    "  - none: 파일을 업로드하지 않고 멀티파트 형식으로 업로드하는 경우\n",
    "  \n",
    "  -----\n",
    "- dotenv 모듈 설치\n",
    " ~~~\n",
    " >> npm dotenv\n",
    " ~~~\n",
    " .env 파일로 패스워드 관리"
   ]
  },
  {
   "cell_type": "code",
   "execution_count": 28,
   "metadata": {},
   "outputs": [
    {
     "name": "stdout",
     "output_type": "stream",
     "text": [
      "Overwriting code/6/learn-express/app.js\n"
     ]
    }
   ],
   "source": [
    "%%writefile code/6/learn-express/app.js\n",
    "\n",
    "const express = require('express');\n",
    "const morgan = require('morgan');\n",
    "const cookieParser = require('cookie-parser');\n",
    "const session = require('express-session');\n",
    "const dotenv = require('dotenv');\n",
    "const path = require('path');\n",
    "\n",
    "dotenv.config();\n",
    "const app = express();\n",
    "app.set('port', process.env.PORT || 3000);\n",
    "\n",
    "app.use(morgan('dev'));\n",
    "app.use('/', express.static(path.join(__dirname, 'public')));\n",
    "app.use(express.json());\n",
    "app.use(express.urlencoded({ extended: false }));\n",
    "app.use(cookieParser(process.env.COOKIE_SECRET));\n",
    "app.use(session({\n",
    "  resave: false,\n",
    "  saveUninitialized: false,\n",
    "  secret: process.env.COOKIE_SECRET, //.env에서 COOKIE_SECRET 가져오기\n",
    "  cookie: {\n",
    "    httpOnly: true,\n",
    "    secure: false,\n",
    "  },\n",
    "  name: 'session-cookie',\n",
    "}));\n",
    "\n",
    "const multer = require('multer');\n",
    "const fs = require('fs');\n",
    "\n",
    "try {\n",
    "  fs.readdirSync('uploads');\n",
    "} catch (error) {\n",
    "  console.error('uploads 폴더가 없어 uploads 폴더를 생성합니다.');\n",
    "  fs.mkdirSync('uploads');\n",
    "}\n",
    "const upload = multer({\n",
    "  storage: multer.diskStorage({\n",
    "    destination(req, file, done) {\n",
    "      done(null, 'uploads/');\n",
    "    },\n",
    "    filename(req, file, done) {\n",
    "      const ext = path.extname(file.originalname);\n",
    "      done(null, path.basename(file.originalname, ext) + Date.now() + ext);\n",
    "    },\n",
    "  }),\n",
    "  limits: { fileSize: 5 * 1024 * 1024 },\n",
    "});\n",
    "app.get('/upload', (req, res) => {\n",
    "  res.sendFile(path.join(__dirname, 'multipart.html'));\n",
    "});\n",
    "app.post('/upload', upload.single('image'), (req, res) => {\n",
    "  console.log(req.file);\n",
    "  res.send('ok');\n",
    "});\n",
    "\n",
    "app.get('/', (req, res, next) => {\n",
    "  console.log('GET / 요청에서만 실행됩니다.');\n",
    "  next();\n",
    "}, (req, res) => {\n",
    "  throw new Error('에러는 에러 처리 미들웨어로 갑니다.')\n",
    "});\n",
    "app.use((err, req, res, next) => {\n",
    "  console.error(err);\n",
    "  res.status(500).send(err.message);\n",
    "});\n",
    "\n",
    "app.listen(app.get('port'), () => {\n",
    "  console.log(app.get('port'), '번 포트에서 대기 중');\n",
    "});"
   ]
  },
  {
   "cell_type": "code",
   "execution_count": 24,
   "metadata": {},
   "outputs": [
    {
     "name": "stdout",
     "output_type": "stream",
     "text": [
      "Writing code/6/learn-express/.env\n"
     ]
    }
   ],
   "source": [
    "%%writefile code/6/learn-express/.env\n",
    "\n",
    "COOKIE_SECRET=cookiesecret"
   ]
  },
  {
   "cell_type": "markdown",
   "metadata": {},
   "source": [
    "localhost:3000/upload 에서 파일을 전송하면 uploads 폴더로 전송된다.\n",
    "![](img/result.png)"
   ]
  },
  {
   "cell_type": "markdown",
   "metadata": {},
   "source": [
    "## 6.3 Router 객체로 라우팅 분리하기\n",
    "app에 모든 코드를 작성하면 크기가 커진다. Router를 이용하면 파일에 나눠서 저장할 수 있다."
   ]
  },
  {
   "cell_type": "code",
   "execution_count": 29,
   "metadata": {},
   "outputs": [
    {
     "name": "stdout",
     "output_type": "stream",
     "text": [
      "Overwriting code/6/learn-express/app.js\n"
     ]
    }
   ],
   "source": [
    "%%writefile code/6/learn-express/app.js\n",
    "\n",
    "const express = require('express');\n",
    "const morgan = require('morgan');\n",
    "const cookieParser = require('cookie-parser');\n",
    "const session = require('express-session');\n",
    "const dotenv = require('dotenv');\n",
    "const path = require('path');\n",
    "\n",
    "dotenv.config();\n",
    "const indexRouter = require('./routes'); //index.js는 생략 가능\n",
    "const userRouter = require('./routes/user');\n",
    "\n",
    "const app = express();\n",
    "app.set('port', process.env.PORT || 3000);\n",
    "\n",
    "app.use(morgan('dev'));\n",
    "app.use('/', express.static(path.join(__dirname, 'public')));\n",
    "app.use(express.json());\n",
    "app.use(express.urlencoded({ extended: false }));\n",
    "app.use(cookieParser(process.env.COOKIE_SECRET));\n",
    "app.use(session({\n",
    "  resave: false,\n",
    "  saveUninitialized: false,\n",
    "  secret: process.env.COOKIE_SECRET,\n",
    "  cookie: {\n",
    "    httpOnly: true,\n",
    "    secure: false,\n",
    "  },\n",
    "  name: 'session-cookie',\n",
    "}));\n",
    "\n",
    "app.use('/', indexRouter);\n",
    "app.use('/user', userRouter);\n",
    "\n",
    "app.use((req, res, next) => {\n",
    "  res.status(404).send('Not Found');\n",
    "});\n",
    "\n",
    "app.use((err, req, res, next) => {\n",
    "  console.error(err);\n",
    "  res.status(500).send(err.message);\n",
    "});\n",
    "\n",
    "app.listen(app.get('port'), () => {\n",
    "  console.log(app.get('port'), '번 포트에서 대기 중');\n",
    "});\n"
   ]
  },
  {
   "cell_type": "code",
   "execution_count": 33,
   "metadata": {},
   "outputs": [
    {
     "name": "stdout",
     "output_type": "stream",
     "text": [
      "Overwriting code/6/learn-express/routes/index.js\n"
     ]
    }
   ],
   "source": [
    "%%writefile code/6/learn-express/routes/index.js\n",
    "\n",
    "const express = require('express');\n",
    "const router = express.Router();\n",
    "\n",
    "// GET / 라우터\n",
    "router.get('/', (req, res) => {\n",
    "  res.send('Hello, Express');\n",
    "});\n",
    "\n",
    "module.exports = router;"
   ]
  },
  {
   "cell_type": "code",
   "execution_count": 34,
   "metadata": {},
   "outputs": [
    {
     "name": "stdout",
     "output_type": "stream",
     "text": [
      "Overwriting code/6/learn-express/routes/user.js\n"
     ]
    }
   ],
   "source": [
    "%%writefile code/6/learn-express/routes/user.js\n",
    "\n",
    "const express = require('express');\n",
    "const router = express.Router();\n",
    "\n",
    "// GET /user 라우터\n",
    "router.get('/', (req, res) => {\n",
    "  res.send('Hello, User');\n",
    "});\n",
    "\n",
    "module.exports = router;"
   ]
  },
  {
   "cell_type": "markdown",
   "metadata": {},
   "source": [
    "![](img/router.png)"
   ]
  },
  {
   "cell_type": "markdown",
   "metadata": {},
   "source": [
    "## 6.4 req, res 객체 살펴보기\n",
    "\n",
    "### req 객체  \n",
    "- req.app: req 객체를 통해 app 객체에 접근할 수 있다. \n",
    "~~~js\n",
    "req.app.get('port')\n",
    "~~~\n",
    "- req. body: body-parser 미들웨어가 만드는 요청의 본문을 해석한 객체\n",
    "- req.cookies: cookie-parser 미들웨어가 만드는 요청의 쿠키를 해석한 객체\n",
    "- req.ip: 요청의 ip주소가 담겨 있음\n",
    "- req.params: 라우트 매개변수에 대한 정보가 담긴 객체\n",
    "- req.query: 쿼리스트링에 대한 정보가 담긴 객체\n",
    "- req.signedCookies: 서명된 쿠키들은 req.cookies 대신 여기에 담겨있음\n",
    "- req.get(헤더이름): 헤더 값을 가져오고 싶을 때 사용하는 메소드\n",
    "\n",
    "### res 객체\n",
    "- res.app: req.app처럼 res객체를 통해 app객체에 접근 가능\n",
    "- res.cookie(키, 값, 옵션): 쿠키를 설정하는 메소드\n",
    "- res.clearCookies(키, 값, 옵션): 쿠키를 제거하는 메소드\n",
    "- res.end(): 데이터 없이 응답을 보냄\n",
    "- res.json(JSON): JSON 형식 응답을 보냄\n",
    "- res.redirect(주소): 리다이렉트할 주소와 함께 응답을 보냄\n",
    "- res.render(뷰, 데이터): 템플릿 엔진을 렌더링해서 응답할 때 사용하는 메소드\n",
    "- res.send(데이터): 데이터와 함께 응답을 보냄\n",
    "- res.sendFile(경로): 경로에 위치한 파일을 응답\n",
    "- res.set(헤더, 값): 응답의 헤더를 설정\n",
    "- res.status(코드): 응답 시 HTTP 상태 코드 지정\n",
    "\n",
    "**req, res 객체의 메소드는 체이닝을 지원한다. 메소드 체이닝을 활용하면 코드 양을 줄일 수 있다.**\n",
    "~~~js\n",
    "res\n",
    "    .status(201)\n",
    "    .cookie('test', 'test')\n",
    "    .redirect('/admin')\n",
    "~~~\n",
    "\n"
   ]
  }
 ],
 "metadata": {
  "kernelspec": {
   "display_name": "Python 3",
   "language": "python",
   "name": "python3"
  },
  "language_info": {
   "codemirror_mode": {
    "name": "ipython",
    "version": 3
   },
   "file_extension": ".py",
   "mimetype": "text/x-python",
   "name": "python",
   "nbconvert_exporter": "python",
   "pygments_lexer": "ipython3",
   "version": "3.7.6"
  }
 },
 "nbformat": 4,
 "nbformat_minor": 4
}
