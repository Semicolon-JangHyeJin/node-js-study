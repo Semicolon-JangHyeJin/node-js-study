{
 "cells": [
  {
   "cell_type": "markdown",
   "metadata": {},
   "source": [
    "# Node.js 교과서 2장 \n",
    "# < 알아두어야 할 자바스크립트 >"
   ]
  },
  {
   "cell_type": "markdown",
   "metadata": {},
   "source": [
    "## 2.2 프런트엔드 자바스크립트\n",
    "### 2.2.1 AJAX"
   ]
  },
  {
   "cell_type": "code",
   "execution_count": 18,
   "metadata": {},
   "outputs": [
    {
     "name": "stdout",
     "output_type": "stream",
     "text": [
      "Overwriting code/2/front1.html\n"
     ]
    }
   ],
   "source": [
    "%%writefile code/2/front1.html\n",
    "GET 요청 보내기\n",
    "<!--axios 스크립트 추가-->\n",
    "<script src=\"https://unpkg.com/axios/dist/axios.min.js\"></script>\n",
    "<script>\n",
    "  (async () => {\n",
    "    try {\n",
    "      const result = await axios.get('https://www.zerocho.com/api/get');\n",
    "      console.log(result);\n",
    "      console.log(result.data); // {}\n",
    "    } catch (error) {\n",
    "      console.error(error);\n",
    "    }\n",
    "  })();\n",
    "</script>\n"
   ]
  },
  {
   "cell_type": "code",
   "execution_count": 19,
   "metadata": {},
   "outputs": [
    {
     "name": "stdout",
     "output_type": "stream",
     "text": [
      "Overwriting code/2/front2.html\n"
     ]
    }
   ],
   "source": [
    "%%writefile code/2/front2.html\n",
    "POST 요청 보내기\n",
    "<script src=\"https://unpkg.com/axios/dist/axios.min.js\"></script>\n",
    "<script>\n",
    "  (async () => {\n",
    "    try {\n",
    "      const result = await axios.post('https://www.zerocho.com/api/post/json', {\n",
    "        name: 'zerocho',\n",
    "        birth: 1994,\n",
    "      });\n",
    "      console.log(result);\n",
    "      console.log(result.data);\n",
    "    } catch (error) {\n",
    "      console.error(error);\n",
    "    }\n",
    "  })();\n",
    "</script>\n"
   ]
  },
  {
   "cell_type": "markdown",
   "metadata": {},
   "source": [
    "axios.get 인수: 요청을 보낼 주소   \n",
    "axios.post 인수: 요청을 보낼 주소, 데이터  \n",
    "프로미스 기반 코드라 async/await 사용 가능  \n",
    "\n",
    "### 2.2.2 FormData"
   ]
  },
  {
   "cell_type": "code",
   "execution_count": 22,
   "metadata": {},
   "outputs": [
    {
     "name": "stdout",
     "output_type": "stream",
     "text": [
      "Overwriting code/2/formdata.html\n"
     ]
    }
   ],
   "source": [
    "%%writefile code/2/formdata.html\n",
    "\n",
    "<script>\n",
    "  const formData = new FormData();\n",
    "  formData.append('name', 'zerocho');\n",
    "  formData.append('item', 'orange');\n",
    "  formData.append('item', 'melon');\n",
    "  console.log(formData.has('item')); // true\n",
    "  console.log(formData.has('money')); // false;\n",
    "  console.log(formData.get('item'));// orange\n",
    "  console.log(formData.getAll('item')); // ['orange', 'melon'];\n",
    "  formData.append('test', ['hi', 'zero']);\n",
    "  console.log(formData.get('test')); // hi, zero\n",
    "  formData.delete('test');\n",
    "  console.log(formData.get('test')); // null\n",
    "  formData.set('item', 'apple');\n",
    "  console.log(formData.getAll('item')); // ['apple'];\n",
    "</script>\n"
   ]
  },
  {
   "cell_type": "code",
   "execution_count": 23,
   "metadata": {},
   "outputs": [
    {
     "name": "stdout",
     "output_type": "stream",
     "text": [
      "Writing code/2/formdata2.html\n"
     ]
    }
   ],
   "source": [
    "%%writefile code/2/formdata2.html\n",
    "\n",
    "<script src=\"https://unpkg.com/axios/dist/axios.min.js\"></script>\n",
    "<script>\n",
    "  (async () => {\n",
    "    try {\n",
    "      const formData = new FormData();\n",
    "      formData.append('name', 'zerocho');\n",
    "      formData.append('birth', 1994);\n",
    "      const result = await axios.post('https://www.zerocho.com/api/post/formdata', formData);\n",
    "      console.log(result);\n",
    "      console.log(result.data);\n",
    "    } catch (error) {\n",
    "      console.error(error);\n",
    "    }\n",
    "  })();\n",
    "</script>"
   ]
  },
  {
   "cell_type": "markdown",
   "metadata": {},
   "source": [
    "### 2.2.3 encodeURIComponent, decodeURIComponent"
   ]
  },
  {
   "cell_type": "code",
   "execution_count": 24,
   "metadata": {},
   "outputs": [
    {
     "name": "stdout",
     "output_type": "stream",
     "text": [
      "Writing code/2/endcodeURI.html\n"
     ]
    }
   ],
   "source": [
    "%%writefile code/2/endcodeURI.html\n",
    "\n",
    "<script src=\"https://unpkg.com/axios/dist/axios.min.js\"></script>\n",
    "<script>\n",
    "  (async () => {\n",
    "    try {\n",
    "      const result = await axios.get(`https://www.zerocho.com/api/search/${encodeURIComponent('노드')}`);\n",
    "      console.log(result);\n",
    "      console.log(result.data); // {}\n",
    "    } catch (error) {\n",
    "      console.error(error);\n",
    "    }\n",
    "  })();\n",
    "</script>"
   ]
  },
  {
   "cell_type": "markdown",
   "metadata": {},
   "source": [
    "노드 - > 85%B8%EB%93%9C로 변환됨\n",
    "  \n",
    "\n",
    "decodeURIComponent('85%B8%EB%93%9C'); //노드\n",
    "\n",
    "### 2.2.4 데이터 속성과 dataset"
   ]
  },
  {
   "cell_type": "code",
   "execution_count": 27,
   "metadata": {},
   "outputs": [
    {
     "name": "stdout",
     "output_type": "stream",
     "text": [
      "Overwriting code/2/dataset.html\n"
     ]
    }
   ],
   "source": [
    "%%writefile code/2/dataset.html\n",
    "<ul>\n",
    "  <li data-id=\"1\" data-user-job=\"programmer\">Zero</li>\n",
    "  <li data-id=\"2\" data-user-job=\"designer\">Nero</li>\n",
    "  <li data-id=\"3\" data-user-job=\"programmer\">Hero</li>\n",
    "  <li data-id=\"4\" data-user-job=\"ceo\">Kero</li>\n",
    "</ul>\n",
    "<script>\n",
    "  console.log(document.querySelector('li').dataset);// { id: '1', userJob: 'programmer' }\n",
    "</script>"
   ]
  },
  {
   "cell_type": "markdown",
   "metadata": {},
   "source": [
    "HTML 태그 속성 -> 데이터 속성  \n",
    "data-id -> id  \n",
    "data-user-job -> userJob"
   ]
  }
 ],
 "metadata": {
  "kernelspec": {
   "display_name": "Python 3",
   "language": "python",
   "name": "python3"
  },
  "language_info": {
   "codemirror_mode": {
    "name": "ipython",
    "version": 3
   },
   "file_extension": ".py",
   "mimetype": "text/x-python",
   "name": "python",
   "nbconvert_exporter": "python",
   "pygments_lexer": "ipython3",
   "version": "3.7.6"
  }
 },
 "nbformat": 4,
 "nbformat_minor": 4
}
