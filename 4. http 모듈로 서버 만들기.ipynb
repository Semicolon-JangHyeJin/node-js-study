{
 "cells": [
  {
   "cell_type": "markdown",
   "metadata": {},
   "source": [
    "# Node.js 교과서 4장 \n",
    "# < http 모듈로 서버 만들기 >\n",
    "## 4.1 요청과 응답 이해하기"
   ]
  },
  {
   "cell_type": "code",
   "execution_count": 8,
   "metadata": {
    "scrolled": true
   },
   "outputs": [
    {
     "name": "stdout",
     "output_type": "stream",
     "text": [
      "Overwriting code/4/server1.js\n"
     ]
    }
   ],
   "source": [
    "%%writefile code/4/server1.js\n",
    "\n",
    "const http = require('http');\n",
    "\n",
    "http.createServer((req, res) => {\n",
    "    res.writeHead(200, {'Content-Type': 'text/html; charset=utf-8'});\n",
    "    res.write('<h1>Hello Node!</h1>');\n",
    "    res.write('<p>Hello server ^^</p>');\n",
    "    res.end('<p>Bye ~</p>');\n",
    "})\n",
    "    .listen(8080, ()=>{ //서버 연결\n",
    "        console.log('8080번 포트에서 서버 대기 중입니다.');\n",
    "    });"
   ]
  },
  {
   "cell_type": "markdown",
   "metadata": {},
   "source": [
    "server1.js 실행 후 http://localhost:8080 (또는 http://127.0.0.1:8080) 접속 결과\n",
    "![http](img/http.png)"
   ]
  },
  {
   "cell_type": "code",
   "execution_count": 9,
   "metadata": {},
   "outputs": [
    {
     "name": "stdout",
     "output_type": "stream",
     "text": [
      "Overwriting code/4/server1-1.js\n"
     ]
    }
   ],
   "source": [
    "%%writefile code/4/server1-1.js\n",
    "\n",
    "const http = require('http');\n",
    "\n",
    "const server = http.createServer((req, res) => {\n",
    "    res.writeHead(200, {'Content-Type': 'text/html; charset=utf-8'});\n",
    "    res.write('<h1>Hello Node!</h1>');\n",
    "    res.write('<p>Hello server ^^</p>');\n",
    "    res.end('<p>Bye ~</p>');\n",
    "});\n",
    "server.listen(8080);\n",
    "//listen 콜백 대신 이벤트 리스너 붙이기\n",
    "\n",
    "server.on('listening', ()=>{ //서버 연결\n",
    "    console.log('8080번 포트에서 서버 대기 중입니다.');\n",
    "});\n",
    "server.on('error', console.log);\n",
    "    "
   ]
  },
  {
   "cell_type": "code",
   "execution_count": 11,
   "metadata": {},
   "outputs": [
    {
     "name": "stdout",
     "output_type": "stream",
     "text": [
      "Overwriting code/4/server1-2.js\n"
     ]
    }
   ],
   "source": [
    "%%writefile code/4/server1-2.js\n",
    "//한번에 여러서버 실행\n",
    "const http = require('http');\n",
    "\n",
    "http.createServer((req, res) => {\n",
    "    res.writeHead(200, {'Content-Type': 'text/html; charset=utf-8'});\n",
    "    res.write('<h1>Hello Node!</h1>');\n",
    "    res.write('<p>Hello server ^^</p>');\n",
    "    res.end('<p>Bye ~</p>');\n",
    "})\n",
    "    .listen(8080, ()=>{ //서버 연결1\n",
    "        console.log('8080번 포트에서 서버 대기 중입니다.');\n",
    "    });\n",
    "    \n",
    "http.createServer((req, res) => {\n",
    "    res.writeHead(200, {'Content-Type': 'text/html; charset=utf-8'});\n",
    "    res.write('<h1>Hello Node!</h1>');\n",
    "    res.write('<p>Hello server ^^</p>');\n",
    "    res.end('<p>Bye ~</p>');\n",
    "})\n",
    "    .listen(8081, ()=>{ //서버 연결2\n",
    "        console.log('8081번 포트에서 서버 대기 중입니다.');\n",
    "    });"
   ]
  },
  {
   "cell_type": "markdown",
   "metadata": {},
   "source": [
    "### 파일 내용 읽어서 띄우기"
   ]
  },
  {
   "cell_type": "code",
   "execution_count": 13,
   "metadata": {},
   "outputs": [
    {
     "name": "stdout",
     "output_type": "stream",
     "text": [
      "Writing code/4/server2.html\n"
     ]
    }
   ],
   "source": [
    "%%writefile code/4/server2.html\n",
    "<!DOCTYPE html>\n",
    "<html>\n",
    "<head>\n",
    "    <meta charset=\"utf-8\" />\n",
    "    <title>Node.js 웹 서버</title>\n",
    "</head>\n",
    "<body>\n",
    "    <h1>Node.js 웹 서버</h1>\n",
    "    <p>만들 준비되셨나요?</p>\n",
    "</body>\n",
    "</html>"
   ]
  },
  {
   "cell_type": "code",
   "execution_count": 17,
   "metadata": {},
   "outputs": [
    {
     "name": "stdout",
     "output_type": "stream",
     "text": [
      "Overwriting code/4/server2.js\n"
     ]
    }
   ],
   "source": [
    "%%writefile code/4/server2.js\n",
    "\n",
    "const http = require('http');\n",
    "const fs = require('fs').promises;\n",
    "\n",
    "http.createServer(async (req, res) => {\n",
    "  try {\n",
    "    const data = await fs.readFile('./server2.html');//data에 html 파일 내용 저장\n",
    "    res.writeHead(200, { 'Content-Type': 'text/html; charset=utf-8' });\n",
    "    res.end(data);//data 전달\n",
    "  } catch (error) {\n",
    "    console.error(error);\n",
    "    res.writeHead(500, { 'Content-Type': 'text/plain; charset=utf-8' });\n",
    "    res.end(error.message);\n",
    "  }\n",
    "})\n",
    "  .listen(8081, () => {\n",
    "    console.log('8081번 포트에서 서버 대기 중입니다!');\n",
    "  });"
   ]
  },
  {
   "cell_type": "markdown",
   "metadata": {},
   "source": [
    "## 4.2 REST와 라우팅 사용하기\n",
    "- REpresentational State Transfer(REST):  \n",
    "서버의 자원을 정의하고 자원에 대한 주소를 지정하는 방법(일종의 약속)\n",
    "\n",
    "- [ HTTP 요청 메서드 ]\n",
    " - GET: 서버 자원을 가져오고자 할 때 사용(요청 본문에 데이터를 넣지 않음, 쿼스트링 사용)\n",
    " - POST: 서버에 자원을 새로 등록하고자 할 때 사용 (요청 본문에 데이터를 넣어 보냄)\n",
    " - PUT: 서버의 자원을 요청에 들어있는 자원으로 치환하고자 할 때 사용 (요청 본문에 데이터를 넣어 보냄)\n",
    " - PATCH: 서버의 자원의 일부만 수정하고자 할 때 사용 (요청 본문에 데이터를 넣어 보냄)\n",
    " - DELETE: 서버의 자원을 삭제하고자 할 때 사용\n",
    " - OPTIONS: 요청 하기 전 통신 옵션을 설명하기 위해 사용"
   ]
  },
  {
   "cell_type": "code",
   "execution_count": 18,
   "metadata": {},
   "outputs": [
    {
     "name": "stdout",
     "output_type": "stream",
     "text": [
      "Writing code/4/restFront.css\n"
     ]
    }
   ],
   "source": [
    "%%writefile code/4/restFront.css\n",
    "a { color: blue; text-decoration: none; }"
   ]
  },
  {
   "cell_type": "code",
   "execution_count": 19,
   "metadata": {},
   "outputs": [
    {
     "name": "stdout",
     "output_type": "stream",
     "text": [
      "Writing code/4/restFront.html\n"
     ]
    }
   ],
   "source": [
    "%%writefile code/4/restFront.html\n",
    "\n",
    "<!DOCTYPE html>\n",
    "<html lang=\"ko\">\n",
    "<head>\n",
    "  <meta charset=\"utf-8\" />\n",
    "  <title>RESTful SERVER</title>\n",
    "  <link rel=\"stylesheet\" href=\"./restFront.css\" />\n",
    "</head>\n",
    "<body>\n",
    "<nav>\n",
    "  <a href=\"/\">Home</a>\n",
    "  <a href=\"/about\">About</a>\n",
    "</nav>\n",
    "<div>\n",
    "  <form id=\"form\">\n",
    "    <input type=\"text\" id=\"username\">\n",
    "    <button type=\"submit\">등록</button>\n",
    "  </form>\n",
    "</div>\n",
    "<div id=\"list\"></div>\n",
    "<script src=\"https://unpkg.com/axios/dist/axios.min.js\"></script>\n",
    "<script src=\"./restFront.js\"></script>\n",
    "</body>\n",
    "</html>\n"
   ]
  },
  {
   "cell_type": "code",
   "execution_count": 24,
   "metadata": {},
   "outputs": [
    {
     "name": "stdout",
     "output_type": "stream",
     "text": [
      "Writing code/4/about.html\n"
     ]
    }
   ],
   "source": [
    "%%writefile code/4/about.html\n",
    "\n",
    "<!DOCTYPE html>\n",
    "<html>\n",
    "<head>\n",
    "  <meta charset=\"utf-8\" />\n",
    "  <title>RESTful SERVER</title>\n",
    "  <link rel=\"stylesheet\" href=\"./restFront.css\" />\n",
    "</head>\n",
    "<body>\n",
    "<nav>\n",
    "  <a href=\"/\">Home</a>\n",
    "  <a href=\"/about\">About</a>\n",
    "</nav>\n",
    "<div>\n",
    "  <h2>소개 페이지입니다.</h2>\n",
    "  <p>사용자 이름을 등록하세요!</p>\n",
    "</div>\n",
    "</body>\n",
    "</html>\n"
   ]
  },
  {
   "cell_type": "code",
   "execution_count": 23,
   "metadata": {},
   "outputs": [
    {
     "name": "stdout",
     "output_type": "stream",
     "text": [
      "Overwriting code/4/restFront.js\n"
     ]
    }
   ],
   "source": [
    "%%writefile code/4/restFront.js\n",
    "\n",
    "async function getUser() { // 로딩 시 사용자 가져오는 함수\n",
    "  try {\n",
    "    const res = await axios.get('/users');\n",
    "    const users = res.data;\n",
    "    const list = document.getElementById('list');\n",
    "    list.innerHTML = '';\n",
    "    // 사용자마다 반복적으로 화면 표시 및 이벤트 연결\n",
    "    Object.keys(users).map(function (key) {\n",
    "      const userDiv = document.createElement('div');\n",
    "      const span = document.createElement('span');\n",
    "      span.textContent = users[key];\n",
    "      const edit = document.createElement('button');\n",
    "      edit.textContent = '수정';\n",
    "      edit.addEventListener('click', async () => { // 수정 버튼 클릭\n",
    "        const name = prompt('바꿀 이름을 입력하세요');\n",
    "        if (!name) {\n",
    "          return alert('이름을 반드시 입력하셔야 합니다');\n",
    "        }\n",
    "        try {\n",
    "          await axios.put('/user/' + key, { name });\n",
    "          getUser();\n",
    "        } catch (err) {\n",
    "          console.error(err);\n",
    "        }\n",
    "      });\n",
    "      const remove = document.createElement('button');\n",
    "      remove.textContent = '삭제';\n",
    "      remove.addEventListener('click', async () => { // 삭제 버튼 클릭\n",
    "        try {\n",
    "          await axios.delete('/user/' + key);\n",
    "          getUser();\n",
    "        } catch (err) {\n",
    "          console.error(err);\n",
    "        }\n",
    "      });\n",
    "      userDiv.appendChild(span);\n",
    "      userDiv.appendChild(edit);\n",
    "      userDiv.appendChild(remove);\n",
    "      list.appendChild(userDiv);\n",
    "      console.log(res.data);\n",
    "    });\n",
    "  } catch (err) {\n",
    "    console.error(err);\n",
    "  }\n",
    "}\n",
    "\n",
    "window.onload = getUser; // 화면 로딩 시 getUser 호출\n",
    "// 폼 제출(submit) 시 실행\n",
    "document.getElementById('form').addEventListener('submit', async (e) => {\n",
    "  e.preventDefault();\n",
    "  const name = e.target.username.value;\n",
    "  if (!name) {\n",
    "    return alert('이름을 입력하세요');\n",
    "  }\n",
    "  try {\n",
    "    await axios.post('/user', { name });\n",
    "    getUser();\n",
    "  } catch (err) {\n",
    "    console.error(err);\n",
    "  }\n",
    "  e.target.username.value = '';\n",
    "});\n"
   ]
  },
  {
   "cell_type": "code",
   "execution_count": 29,
   "metadata": {},
   "outputs": [
    {
     "name": "stdout",
     "output_type": "stream",
     "text": [
      "Overwriting code/4/restServer.js\n"
     ]
    }
   ],
   "source": [
    "%%writefile code/4/restServer.js\n",
    "\n",
    "const http = require('http');\n",
    "const fs = require('fs').promises;\n",
    "\n",
    "const users = {}; // 데이터 저장용\n",
    "\n",
    "http.createServer(async (req, res) => {\n",
    "  try {\n",
    "    if (req.method === 'GET') {// GET요청\n",
    "      if (req.url === '/') { //http://localhost:8082/ 페이지 요청했을 때\n",
    "        const data = await fs.readFile('./restFront.html');\n",
    "        res.writeHead(200, { 'Content-Type': 'text/html; charset=utf-8' });\n",
    "        return res.end(data);\n",
    "      } else if (req.url === '/about') { //http://localhost:8082/about 페이지 요청했을 때\n",
    "        const data = await fs.readFile('./about.html');\n",
    "        res.writeHead(200, { 'Content-Type': 'text/html; charset=utf-8' });\n",
    "        return res.end(data);\n",
    "      } else if (req.url === '/users') {\n",
    "        res.writeHead(201, { 'Content-Type': 'application/json; charset=utf-8' }); //json형식으로 전송\n",
    "        return res.end(JSON.stringify(users));\n",
    "      }\n",
    "      // /도 /about도 /users도 아니면\n",
    "      try {\n",
    "        const data = await fs.readFile(`.${req.url}`);\n",
    "        return res.end(data);\n",
    "      } catch (err) {\n",
    "        // 주소에 해당하는 라우트를 못 찾았다는 404 Not Found error 발생\n",
    "      }\n",
    "    } else if (req.method === 'POST') {\n",
    "      if (req.url === '/user') {\n",
    "        let body = '';\n",
    "        // 요청의 body를 stream 형식으로 받음\n",
    "        req.on('data', (data) => {\n",
    "          body += data;\n",
    "        });\n",
    "        // 요청의 body를 다 받은 후 실행됨\n",
    "        return req.on('end', () => {\n",
    "          console.log('POST 본문(Body):', body);\n",
    "          const { name } = JSON.parse(body);\n",
    "          const id = Date.now();\n",
    "          users[id] = name;\n",
    "          res.writeHead(201, { 'Content-Type': 'text/plain; charset=utf-8' });\n",
    "          res.end('ok');\n",
    "        });\n",
    "      }\n",
    "    } else if (req.method === 'PUT') {\n",
    "      if (req.url.startsWith('/user/')) {\n",
    "        const key = req.url.split('/')[2];\n",
    "        let body = '';\n",
    "        req.on('data', (data) => {\n",
    "          body += data;\n",
    "        });\n",
    "        return req.on('end', () => {\n",
    "          console.log('PUT 본문(Body):', body);\n",
    "          users[key] = JSON.parse(body).name;\n",
    "          res.writeHead(200, { 'Content-Type': 'text/plain; charset=utf-8' });\n",
    "          return res.end('ok');\n",
    "        });\n",
    "      }\n",
    "    } else if (req.method === 'DELETE') {\n",
    "      if (req.url.startsWith('/user/')) {\n",
    "        const key = req.url.split('/')[2];\n",
    "        delete users[key];\n",
    "        res.writeHead(200, { 'Content-Type': 'text/plain; charset=utf-8' });\n",
    "        return res.end('ok');\n",
    "      }\n",
    "    }\n",
    "    res.writeHead(404);\n",
    "    return res.end('NOT FOUND');\n",
    "  } catch (err) {\n",
    "    console.error(err);\n",
    "    res.writeHead(500, { 'Content-Type': 'text/plain; charset=utf-8' });\n",
    "    res.end(err.message);\n",
    "  }\n",
    "})\n",
    "  .listen(8082, () => {\n",
    "    console.log('8082번 포트에서 서버 대기 중입니다');\n",
    "  });\n"
   ]
  },
  {
   "cell_type": "markdown",
   "metadata": {},
   "source": [
    "HTTP 응답코드: https://developer.mozilla.org/ko/docs/Web/HTTP/Status"
   ]
  },
  {
   "cell_type": "markdown",
   "metadata": {},
   "source": [
    "## 4.3 쿠키와 세션 이해하기\n",
    "요청을 보냈을 때 서버에서는 누가 요청을 보냈는지 모름...  \n",
    "로그인구현에 쿠키와 세션 필요  \n",
    "- 쿠키: 키-값의 쌍, 매 요청마다 서버에 동봉해서 쿠키를 보내면 서버는 쿠키를 읽어서 누구인지 파악"
   ]
  },
  {
   "cell_type": "code",
   "execution_count": 32,
   "metadata": {},
   "outputs": [
    {
     "name": "stdout",
     "output_type": "stream",
     "text": [
      "Overwriting code/4/cookie.js\n"
     ]
    }
   ],
   "source": [
    "%%writefile code/4/cookie.js\n",
    "\n",
    "const http = require('http');\n",
    "\n",
    "http.createServer((req, res) => {\n",
    "  console.log(req.url, req.headers.cookie);\n",
    "  res.writeHead(200, { 'Set-Cookie': 'mycookie=test' }); //쿠키: mycookie=test\n",
    "  res.end('Hello Cookie');\n",
    "})\n",
    "  .listen(8083, () => {\n",
    "    console.log('8083번 포트에서 서버 대기 중입니다!');\n",
    "  });"
   ]
  },
  {
   "cell_type": "markdown",
   "metadata": {},
   "source": [
    "/ undefined  \n",
    "/favicon.ico <a style=\"color:red;\">mycookie=test </a>\n",
    "\n",
    "/(첫번째 요쳥): 쿠키 정보 없음\n",
    "/favicon.ico(두번째 요청): favicon(웹사이트 탭에 보이는 이미지)를 웹브라우저가 요청한 것, 쿠키 정보를 포함하고 있음"
   ]
  },
  {
   "cell_type": "markdown",
   "metadata": {},
   "source": [
    "![cookie.png](img/cookie.png)"
   ]
  },
  {
   "cell_type": "markdown",
   "metadata": {},
   "source": [
    "### 쿠키를 이용해서 사용자를 식별하기"
   ]
  },
  {
   "cell_type": "code",
   "execution_count": 41,
   "metadata": {},
   "outputs": [
    {
     "name": "stdout",
     "output_type": "stream",
     "text": [
      "Overwriting code/4/cookie2.html\n"
     ]
    }
   ],
   "source": [
    "%%writefile code/4/cookie2.html\n",
    "\n",
    "<!DOCTYPE html>\n",
    "<html>\n",
    "<head>\n",
    "    <meta charset=\"utf-8\" />\n",
    "    <title>쿠키&세션 이해하기</title>\n",
    "</head>\n",
    "<body>\n",
    "<form action=\"/login\">\n",
    "    <input id=\"name\" name=\"name\" placeholder=\"이름을 입력하세요\" />\n",
    "    <button id=\"login\">로그인</button>\n",
    "</form>\n",
    "</body>\n",
    "</html>"
   ]
  },
  {
   "cell_type": "code",
   "execution_count": 44,
   "metadata": {},
   "outputs": [
    {
     "name": "stdout",
     "output_type": "stream",
     "text": [
      "Overwriting code/4/cookie2.js\n"
     ]
    }
   ],
   "source": [
    "%%writefile code/4/cookie2.js\n",
    "\n",
    "// 쿠키에 한글값이 들어가면 문제생김...\n",
    "// 인코딩을 해주는 parseCookies\n",
    "const http = require('http');\n",
    "const fs = require('fs').promises;\n",
    "const url = require('url');\n",
    "const qs = require('querystring');\n",
    "\n",
    "const parseCookies = (cookie = '') =>\n",
    "  cookie\n",
    "    .split(';')\n",
    "    .map(v => v.split('='))\n",
    "    .reduce((acc, [k, v]) => {\n",
    "      acc[k.trim()] = decodeURIComponent(v);\n",
    "      return acc;\n",
    "    }, {});\n",
    "\n",
    "http.createServer(async (req, res) => {\n",
    "  const cookies = parseCookies(req.headers.cookie);\n",
    "  // 주소가 /login으로 시작하는 경우\n",
    "  if (req.url.startsWith('/login')) {\n",
    "    const { query } = url.parse(req.url);\n",
    "    const { name } = qs.parse(query);\n",
    "    const expires = new Date();\n",
    "    // 쿠키 유효 시간을 현재시간 + 5분으로 설정\n",
    "    expires.setMinutes(expires.getMinutes() + 5);\n",
    "    res.writeHead(302, {\n",
    "      Location: '/',\n",
    "      'Set-Cookie': `name=${encodeURIComponent(name)}; Expires=${expires.toGMTString()}; HttpOnly; Path=/`,\n",
    "    });\n",
    "    res.end();\n",
    "  // name이라는 쿠키가 있는 경우\n",
    "  } else if (cookies.name) {\n",
    "    res.writeHead(200, { 'Content-Type': 'text/plain; charset=utf-8' });\n",
    "    res.end(`${cookies.name}님 안녕하세요`);\n",
    "  } else {\n",
    "    try {\n",
    "      const data = await fs.readFile('./cookie2.html');\n",
    "      res.writeHead(200, { 'Content-Type': 'text/html; charset=utf-8' });\n",
    "      res.end(data);\n",
    "    } catch (err) {\n",
    "      res.writeHead(500, { 'Content-Type': 'text/plain; charset=utf-8' });\n",
    "      res.end(err.message);\n",
    "    }\n",
    "  }\n",
    "})\n",
    "  .listen(8084, () => {\n",
    "    console.log('8084번 포트에서 서버 대기 중입니다!');\n",
    "  });\n"
   ]
  },
  {
   "cell_type": "markdown",
   "metadata": {},
   "source": [
    "~~~js\n",
    "res.writeHead(302, { //302: 리다이렉션  \n",
    "      Location: '/',  \n",
    "      'Set-Cookie': `name=${encodeURIComponent(name)}; //인코딩  \n",
    "                     Expires=${expires.toGMTString()}; //쿠키 만료기간 설정  \n",
    "                     HttpOnly; //자바스크립트로 접근비허용(보안문제)  \n",
    "                     Path=/`,  // path 하위항목에서 쿠키 유효함  \n",
    "    });  \n",
    "~~~"
   ]
  },
  {
   "cell_type": "markdown",
   "metadata": {},
   "source": [
    "**쿠키옵션**\n",
    "- 쿠키명 = 쿠키값\n",
    "- Expires = 날짜 :쿠키 만료기간, 기본값은 클라이언트가 종료될 때 까지\n",
    "- Max-age = 초 :Expires와 비슷하지만 날짜 대신 초를 입력할 수 있음\n",
    "- Domain = 도메인명 :쿠키가 전송될 도메인 특정, 기본값은 현재 도메인\n",
    "- Path = URL :쿠키가 전송될 URL 특정, 기본값 '/'(모든 URL에서 쿠키 전송)\n",
    "- Secure: https인 경우에만 쿠키가 전송됨\n",
    "- HttpOnly: 자바스크립트에서 쿠키에 접근할 수 없음(쿠키 조작 방지)"
   ]
  },
  {
   "cell_type": "markdown",
   "metadata": {},
   "source": [
    "### 세션 사용하기\n",
    "(쿠키보다 안전한 방법)"
   ]
  },
  {
   "cell_type": "code",
   "execution_count": 45,
   "metadata": {},
   "outputs": [
    {
     "name": "stdout",
     "output_type": "stream",
     "text": [
      "Writing code/4/session.js\n"
     ]
    }
   ],
   "source": [
    "%%writefile code/4/session.js\n",
    "\n",
    "const http = require('http');\n",
    "const fs = require('fs').promises;\n",
    "const url = require('url');\n",
    "const qs = require('querystring');\n",
    "\n",
    "const parseCookies = (cookie = '') =>\n",
    "  cookie\n",
    "    .split(';')\n",
    "    .map(v => v.split('='))\n",
    "    .reduce((acc, [k, v]) => {\n",
    "      acc[k.trim()] = decodeURIComponent(v);\n",
    "      return acc;\n",
    "    }, {});\n",
    "\n",
    "const session = {}; //데이터저장용\n",
    "\n",
    "http.createServer(async (req, res) => {\n",
    "  const cookies = parseCookies(req.headers.cookie);\n",
    "  if (req.url.startsWith('/login')) {\n",
    "    const { query } = url.parse(req.url);\n",
    "    const { name } = qs.parse(query);\n",
    "    const expires = new Date();\n",
    "    expires.setMinutes(expires.getMinutes() + 5);\n",
    "    const uniqueInt = Date.now(); //uniqueInt를 key로 사용\n",
    "    session[uniqueInt] = {\n",
    "      name,\n",
    "      expires, \n",
    "    };\n",
    "    res.writeHead(302, {\n",
    "      Location: '/',\n",
    "      'Set-Cookie': `session=${uniqueInt}; Expires=${expires.toGMTString()}; HttpOnly; Path=/`,\n",
    "    });\n",
    "    res.end();\n",
    "  // 세션쿠키가 존재하고, 만료 기간이 지나지 않았다면\n",
    "  } else if (cookies.session && session[cookies.session].expires > new Date()) {\n",
    "    res.writeHead(200, { 'Content-Type': 'text/plain; charset=utf-8' });\n",
    "    res.end(`${session[cookies.session].name}님 안녕하세요`);\n",
    "  } else {\n",
    "    try {\n",
    "      const data = await fs.readFile('./cookie2.html');\n",
    "      res.writeHead(200, { 'Content-Type': 'text/html; charset=utf-8' });\n",
    "      res.end(data);\n",
    "    } catch (err) {\n",
    "      res.writeHead(500, { 'Content-Type': 'text/plain; charset=utf-8' });\n",
    "      res.end(err.message);\n",
    "    }\n",
    "  }\n",
    "})\n",
    "  .listen(8085, () => {\n",
    "    console.log('8085번 포트에서 서버 대기 중입니다!');\n",
    "  });\n"
   ]
  },
  {
   "cell_type": "markdown",
   "metadata": {},
   "source": [
    "Set-Cookie: session=1601128738068; Expires=Sat, 26 Sep 2020 14:03:58 GMT; HttpOnly; Path=/  \n",
    "세션쿠키로 key만 넘겨짐, 서버에서 key를 이용해 처리"
   ]
  },
  {
   "cell_type": "markdown",
   "metadata": {},
   "source": [
    "## 4.4 https와 http2\n",
    "http는 보안상 문제 발생 가능  \n",
    "보안을 위해서 https 사용하는 것이 좋다  \n",
    "**https.createServer(cert, key, ca, callback())**  \n",
    "<a style='color:skyblue'>https는 인증서가 있어야 사용가능하므로... 실습은 할수 없음</a>"
   ]
  },
  {
   "cell_type": "code",
   "execution_count": 47,
   "metadata": {},
   "outputs": [
    {
     "name": "stdout",
     "output_type": "stream",
     "text": [
      "Overwriting code/4/https.js\n"
     ]
    }
   ],
   "source": [
    "%%writefile code/4/https.js\n",
    "\n",
    "const https = require('https'); //https모듈\n",
    "const fs = require('fs');\n",
    "\n",
    "https.createServer({\n",
    "  cert: fs.readFileSync('도메인 인증서 경로'), //인증서가 있다면\n",
    "  key: fs.readFileSync('도메인 비밀키 경로'),  //입력할수 있겠지만\n",
    "  ca: [\n",
    "    fs.readFileSync('상위 인증서 경로'), //인증서를 받는게\n",
    "    fs.readFileSync('상위 인증서 경로'), //어렵다고 한다\n",
    "  ],\n",
    "}, (req, res) => {\n",
    "  res.writeHead(200, { 'Content-Type': 'text/html; charset=utf-8' });\n",
    "  res.write('<h1>Hello Node!</h1>');\n",
    "  res.end('<p>Hello Server!</p>');\n",
    "})\n",
    "  .listen(443, () => {\n",
    "    console.log('443번 포트에서 서버 대기 중입니다!');\n",
    "  });"
   ]
  },
  {
   "cell_type": "markdown",
   "metadata": {},
   "source": [
    "**http2는 속도를 향상시킨 버전(인증서필요)**"
   ]
  },
  {
   "cell_type": "code",
   "execution_count": 48,
   "metadata": {},
   "outputs": [
    {
     "name": "stdout",
     "output_type": "stream",
     "text": [
      "Writing code/4/http2.js\n"
     ]
    }
   ],
   "source": [
    "%%writefile code/4/http2.js\n",
    "\n",
    "const http2 = require('http2'); //http2모듈\n",
    "const fs = require('fs');\n",
    "\n",
    "http2.createSecureServer({\n",
    "  cert: fs.readFileSync('도메인 인증서 경로'),\n",
    "  key: fs.readFileSync('도메인 비밀키 경로'),\n",
    "  ca: [\n",
    "    fs.readFileSync('상위 인증서 경로'),\n",
    "    fs.readFileSync('상위 인증서 경로'),\n",
    "  ],\n",
    "}, (req, res) => {\n",
    "  res.writeHead(200, { 'Content-Type': 'text/html; charset=utf-8' });\n",
    "  res.write('<h1>Hello Node!</h1>');\n",
    "  res.end('<p>Hello Server!</p>');\n",
    "})\n",
    "  .listen(443, () => {\n",
    "    console.log('443번 포트에서 서버 대기 중입니다!');\n",
    "  });"
   ]
  },
  {
   "cell_type": "markdown",
   "metadata": {},
   "source": [
    "## 4.5 cluster\n",
    "싱글 프로세스로 동작하는 노드가 CPU 코어를 모두 사용할 수 있게 해주는 모듈  \n",
    "- 장점: 코어 하나당 노드 프로세스 하나 배정 가능(성능이 개선됨)\n",
    "- 단점: 자원 공유 불가능"
   ]
  },
  {
   "cell_type": "code",
   "execution_count": 55,
   "metadata": {},
   "outputs": [
    {
     "name": "stdout",
     "output_type": "stream",
     "text": [
      "Overwriting code/4/cluster.js\n"
     ]
    }
   ],
   "source": [
    "%%writefile code/4/cluster.js\n",
    "\n",
    "const cluster = require('cluster');\n",
    "const http = require('http');\n",
    "const numCPUs = require('os').cpus().length; //cpu 개수 구하기\n",
    "\n",
    "if (cluster.isMaster) { //마스터 스레드에서\n",
    "  console.log(`마스터 프로세스 아이디: ${process.pid}`);\n",
    "  // CPU 개수만큼 워커를 생산\n",
    "  for (let i = 0; i < numCPUs; i += 1) {\n",
    "    cluster.fork();\n",
    "  }\n",
    "  // 워커가 종료되었을 때\n",
    "  cluster.on('exit', (worker, code, signal) => {\n",
    "    console.log(`${worker.process.pid}번 워커가 종료되었습니다.`);\n",
    "    console.log('code', code, 'signal', signal);\n",
    "    //cluster.fork(); //프로세스를 다시 생성\n",
    "  });\n",
    "} else {\n",
    "  // 워커들이 포트에서 대기\n",
    "  http.createServer((req, res) => {\n",
    "    res.writeHead(200, { 'Content-Type': 'text/html; charset=utf-8' });\n",
    "    res.write('<h1>Hello Node!</h1>');\n",
    "    res.end('<p>Hello Cluster!</p>');\n",
    "      \n",
    "    setTimeout(() => { // 워커 존재를 확인하기 위해 1초마다 강제 종료\n",
    "      process.exit(1);\n",
    "    }, 1000);\n",
    "   \n",
    "  }).listen(8086); //서버 여러개가 8086포트를 함께 사용\n",
    "\n",
    "  console.log(`${process.pid}번 워커 실행`);\n",
    "}"
   ]
  },
  {
   "cell_type": "markdown",
   "metadata": {},
   "source": [
    "워커 4개가 생성되었다가 종료되었다.\n",
    "~~~\n",
    "C:\\Users\\maild\\node-js-study\\code\\4>node cluster.js\n",
    "마스터 프로세스 아이디: 16984\n",
    "5804번 워커 실행\n",
    "21076번 워커 실행\n",
    "22260번 워커 실행\n",
    "23268번 워커 실행\n",
    "23268번 워커가 종료되었습니다.\n",
    "code 1 signal null\n",
    "22260번 워커가 종료되었습니다.\n",
    "code 1 signal null\n",
    "21076번 워커가 종료되었습니다.\n",
    "code 1 signal null\n",
    "5804번 워커가 종료되었습니다.\n",
    "code 1 signal null\n",
    "~~~"
   ]
  }
 ],
 "metadata": {
  "kernelspec": {
   "display_name": "Python 3",
   "language": "python",
   "name": "python3"
  },
  "language_info": {
   "codemirror_mode": {
    "name": "ipython",
    "version": 3
   },
   "file_extension": ".py",
   "mimetype": "text/x-python",
   "name": "python",
   "nbconvert_exporter": "python",
   "pygments_lexer": "ipython3",
   "version": "3.7.6"
  }
 },
 "nbformat": 4,
 "nbformat_minor": 4
}
