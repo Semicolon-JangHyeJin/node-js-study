{
 "cells": [
  {
   "cell_type": "markdown",
   "metadata": {},
   "source": [
    "# Node.js 교과서 1장 \n",
    "# < 노드 시작하기 >\n",
    "\n",
    "![node.js 공식 사이트](img/00nodejs.png)\n",
    "\n",
    "\n",
    "[ Node.js®는 Chrome V8 JavaScript 엔진으로 빌드된 JavaScript 런타임입니다. ] \n",
    "\n",
    "----"
   ]
  },
  {
   "cell_type": "markdown",
   "metadata": {},
   "source": [
    "### 노드의 특징\n",
    " 1. 서버\n",
    " 2. 자바스크립트 런타임\n",
    " 3. 이벤트 기반\n",
    " 4. 논 블로킹 I/O\n",
    " 5. 싱글 스레드\n",
    "\n",
    "### 함께 보면 좋은 자료\n",
    "- 노드 공식 사이트 : https://nodejs.org/ko\n",
    "- 노드 공식 사이트의 가이드 : https://nodejs.org/ko/docs/guides/\n",
    "- 노드에 대한 전반적인 설명 : https://nodejs.dev/\n",
    "- 모던 JavaScript 튜토리얼 : https://ko.javascript.info/"
   ]
  },
  {
   "cell_type": "markdown",
   "metadata": {},
   "source": [
    "---\n",
    "\n",
    "### +) jupyter notebook에서 js 작성, 실행하기\n",
    "#### 파일 작성\n",
    " %%writefile path/filename.js\n",
    "#### 파일 읽기\n",
    " !type path\\filename.js\n",
    "#### 파일 실행\n",
    " !node path\\filename.js"
   ]
  },
  {
   "cell_type": "code",
   "execution_count": 7,
   "metadata": {},
   "outputs": [
    {
     "name": "stdout",
     "output_type": "stream",
     "text": [
      "Writing code/1/hello.js\n"
     ]
    }
   ],
   "source": [
    "%%writefile code/1/hello.js\n",
    "console.log('hello world!');"
   ]
  },
  {
   "cell_type": "code",
   "execution_count": 9,
   "metadata": {},
   "outputs": [
    {
     "name": "stdout",
     "output_type": "stream",
     "text": [
      "console.log('hello world!');\n"
     ]
    }
   ],
   "source": [
    "!type code\\1\\hello.js"
   ]
  },
  {
   "cell_type": "code",
   "execution_count": 10,
   "metadata": {},
   "outputs": [
    {
     "name": "stdout",
     "output_type": "stream",
     "text": [
      "hello world!\n"
     ]
    }
   ],
   "source": [
    "!node code\\1\\hello.js"
   ]
  },
  {
   "cell_type": "markdown",
   "metadata": {},
   "source": [
    "### 또는 ijavascript 커널 설치\n",
    "https://blog.itpaper.co.kr/js_on_jupyter/"
   ]
  }
 ],
 "metadata": {
  "kernelspec": {
   "display_name": "Python 3",
   "language": "python",
   "name": "python3"
  },
  "language_info": {
   "codemirror_mode": {
    "name": "ipython",
    "version": 3
   },
   "file_extension": ".py",
   "mimetype": "text/x-python",
   "name": "python",
   "nbconvert_exporter": "python",
   "pygments_lexer": "ipython3",
   "version": "3.7.6"
  }
 },
 "nbformat": 4,
 "nbformat_minor": 4
}
