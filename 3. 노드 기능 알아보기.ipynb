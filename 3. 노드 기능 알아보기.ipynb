{
 "cells": [
  {
   "cell_type": "markdown",
   "metadata": {},
   "source": [
    "# Node.js 교과서 3장 \n",
    "# < 노드 기능 알아보기 >\n",
    "\n",
    "## 3.1 REPL 사용하기\n",
    "콘솔에서 노드 실행  \n",
    "코드를   \n",
    "[ 읽고(Read), 해석하고(Eval), 결과물을 반환하고(Print) ]  \n",
    "종료할때 까지 반복(Loop) "
   ]
  },
  {
   "cell_type": "markdown",
   "metadata": {},
   "source": [
    "![REPL](img/repl.png)"
   ]
  },
  {
   "cell_type": "markdown",
   "metadata": {},
   "source": [
    "## 3.2 JS 파일 실행하기"
   ]
  },
  {
   "cell_type": "code",
   "execution_count": 12,
   "metadata": {},
   "outputs": [
    {
     "name": "stdout",
     "output_type": "stream",
     "text": [
      "Overwriting code/3/helloWorld.js\n"
     ]
    }
   ],
   "source": [
    "%%writefile code/3/helloWorld.js\n",
    "function helloWorld(){\n",
    "    console.log('Hello World');\n",
    "    helloNode();\n",
    "}\n",
    "\n",
    "function helloNode(){\n",
    "    console.log('Hello Node!');\n",
    "}\n",
    "\n",
    "helloWorld();"
   ]
  },
  {
   "cell_type": "code",
   "execution_count": 13,
   "metadata": {},
   "outputs": [
    {
     "name": "stdout",
     "output_type": "stream",
     "text": [
      "Hello World\n",
      "Hello Node!\n"
     ]
    }
   ],
   "source": [
    "!node code\\3\\helloWorld"
   ]
  },
  {
   "cell_type": "markdown",
   "metadata": {},
   "source": [
    "## 3.3 모듈로 만들기\n",
    "\n",
    "코드 재사용  "
   ]
  },
  {
   "cell_type": "code",
   "execution_count": 30,
   "metadata": {},
   "outputs": [
    {
     "name": "stdout",
     "output_type": "stream",
     "text": [
      "Overwriting code/3/var.js\n"
     ]
    }
   ],
   "source": [
    "%%writefile code/3/var.js\n",
    "const odd = 'ODD NUMBER';\n",
    "const even = 'EVEN NUMBER';\n",
    "\n",
    "module.exports = {\n",
    "  odd,\n",
    "  even,\n",
    "};"
   ]
  },
  {
   "cell_type": "code",
   "execution_count": 37,
   "metadata": {},
   "outputs": [
    {
     "name": "stdout",
     "output_type": "stream",
     "text": [
      "Overwriting code/3/func.js\n"
     ]
    }
   ],
   "source": [
    "%%writefile code/3/func.js\n",
    "\n",
    "const { odd, even } = require('./var'); //모듈 넘겨받기\n",
    "//구조분해할당\n",
    "//const value=require('./var');\n",
    "//const odd=value.odd;\n",
    "//const even=value.even;\n",
    "\n",
    "function checkOddOrEven(num) {\n",
    "  if (num % 2) { // 홀수면\n",
    "    return odd;\n",
    "  }\n",
    "  return even;\n",
    "}\n",
    "\n",
    "module.exports = checkOddOrEven; //모듈 넘겨주기"
   ]
  },
  {
   "cell_type": "code",
   "execution_count": 38,
   "metadata": {},
   "outputs": [
    {
     "name": "stdout",
     "output_type": "stream",
     "text": [
      "Overwriting code/3/index.js\n"
     ]
    }
   ],
   "source": [
    "%%writefile code/3/index.js\n",
    "\n",
    "const { odd, even } = require('./var');\n",
    "const checkNumber = require('./func');\n",
    "\n",
    "function checkStringOddOrEven(str) {\n",
    "  if (str.length % 2) { // 홀수면\n",
    "    return odd;\n",
    "  }\n",
    "  return even;\n",
    "}\n",
    "\n",
    "console.log(checkNumber(10));\n",
    "console.log(checkStringOddOrEven('hello'));"
   ]
  },
  {
   "cell_type": "code",
   "execution_count": 39,
   "metadata": {},
   "outputs": [
    {
     "name": "stdout",
     "output_type": "stream",
     "text": [
      "EVEN NUMBER\n",
      "ODD NUMBER\n"
     ]
    }
   ],
   "source": [
    "!node code\\3\\index"
   ]
  },
  {
   "cell_type": "markdown",
   "metadata": {},
   "source": [
    "### +) ES2015 모듈\n",
    "자바스크립트 자체 모듈 시스템이 도입되었으나 기존 노드 모듈 시스템과 조금 다른 문법  \n",
    "import, export 방식이 다르다."
   ]
  },
  {
   "cell_type": "code",
   "execution_count": 41,
   "metadata": {},
   "outputs": [
    {
     "name": "stdout",
     "output_type": "stream",
     "text": [
      "Overwriting code/3/func.mjs\n"
     ]
    }
   ],
   "source": [
    "%%writefile code/3/func.mjs\n",
    "\n",
    "import { odd, even } from './var';\n",
    "\n",
    "function checkOddOrEven(num) {\n",
    "  if (num % 2) { // 홀수면\n",
    "    return odd;\n",
    "  }\n",
    "  return even;\n",
    "}\n",
    "\n",
    "export default checkOddOrEven;"
   ]
  },
  {
   "cell_type": "markdown",
   "metadata": {},
   "source": [
    "## 3.4 노드 내장 객체 알아보기\n",
    "### 3.4.1 global"
   ]
  },
  {
   "cell_type": "code",
   "execution_count": 1,
   "metadata": {},
   "outputs": [
    {
     "data": {
      "text/plain": [
       "Object [global] {\n",
       "  global: [Circular],\n",
       "  clearInterval: [Function: clearInterval],\n",
       "  clearTimeout: [Function: clearTimeout],\n",
       "  setInterval: [Function: setInterval],\n",
       "  setTimeout: [Function: setTimeout] {\n",
       "    [Symbol(nodejs.util.promisify.custom)]: [Function]\n",
       "  },\n",
       "  queueMicrotask: [Function: queueMicrotask],\n",
       "  clearImmediate: [Function: clearImmediate],\n",
       "  setImmediate: [Function: setImmediate] {\n",
       "    [Symbol(nodejs.util.promisify.custom)]: [Function]\n",
       "  },\n",
       "  __filename: '[eval]',\n",
       "  exports: {},\n",
       "  module: Module {\n",
       "    id: '[eval]',\n",
       "    path: '.',\n",
       "    exports: {},\n",
       "    parent: undefined,\n",
       "    filename: 'C:\\\\Users\\\\maild\\\\node-js-study\\\\[eval]',\n",
       "    loaded: false,\n",
       "    children: [],\n",
       "    paths: [\n",
       "      'C:\\\\Users\\\\maild\\\\node-js-study\\\\node_modules',\n",
       "      'C:\\\\Users\\\\maild\\\\node_modules',\n",
       "      'C:\\\\Users\\\\node_modules',\n",
       "      'C:\\\\node_modules'\n",
       "    ]\n",
       "  },\n",
       "  __dirname: '.',\n",
       "  require: [Function: require] {\n",
       "    resolve: [Function: resolve] { paths: [Function: paths] },\n",
       "    main: undefined,\n",
       "    extensions: [Object: null prototype] {\n",
       "      '.js': [Function],\n",
       "      '.json': [Function],\n",
       "      '.node': [Function]\n",
       "    },\n",
       "    cache: [Object: null prototype] {}\n",
       "  },\n",
       "  '$$mimer$$': [Function: defaultMimer],\n",
       "  '$$done$$': [Function: bound bound done],\n",
       "  console: Console {\n",
       "    log: [Function: bound log],\n",
       "    warn: [Function: bound warn],\n",
       "    dir: [Function: bound dir],\n",
       "    time: [Function: bound time],\n",
       "    timeEnd: [Function: bound timeEnd],\n",
       "    timeLog: [Function: bound timeLog],\n",
       "    trace: [Function: bound trace],\n",
       "    assert: [Function: bound assert],\n",
       "    clear: [Function: bound clear],\n",
       "    count: [Function: bound count],\n",
       "    countReset: [Function: bound countReset],\n",
       "    group: [Function: bound group],\n",
       "    groupEnd: [Function: bound groupEnd],\n",
       "    table: [Function: bound table],\n",
       "    debug: [Function: bound log],\n",
       "    info: [Function: bound log],\n",
       "    dirxml: [Function: bound log],\n",
       "    error: [Function: bound warn],\n",
       "    groupCollapsed: [Function: bound group],\n",
       "    Console: [Function: Console]\n",
       "  },\n",
       "  '$$': [Object: null prototype] {\n",
       "    async: [Function: bound async],\n",
       "    done: [Function: bound done],\n",
       "    sendResult: [Function: bound ],\n",
       "    sendError: [Function: bound ],\n",
       "    mime: [Function: bound ],\n",
       "    text: [Function: bound ],\n",
       "    html: [Function: bound ],\n",
       "    svg: [Function: bound ],\n",
       "    png: [Function: bound ],\n",
       "    jpeg: [Function: bound ],\n",
       "    json: [Function: bound ],\n",
       "    input: [Function: bound input],\n",
       "    display: [Function: bound createDisplay],\n",
       "    clear: [Function: bound clear]\n",
       "  }\n",
       "}"
      ]
     },
     "execution_count": 1,
     "metadata": {},
     "output_type": "execute_result"
    }
   ],
   "source": [
    "global"
   ]
  },
  {
   "cell_type": "code",
   "execution_count": 2,
   "metadata": {},
   "outputs": [
    {
     "data": {
      "text/plain": [
       "Console {\n",
       "  log: [Function: bound log],\n",
       "  warn: [Function: bound warn],\n",
       "  dir: [Function: bound dir],\n",
       "  time: [Function: bound time],\n",
       "  timeEnd: [Function: bound timeEnd],\n",
       "  timeLog: [Function: bound timeLog],\n",
       "  trace: [Function: bound trace],\n",
       "  assert: [Function: bound assert],\n",
       "  clear: [Function: bound clear],\n",
       "  count: [Function: bound count],\n",
       "  countReset: [Function: bound countReset],\n",
       "  group: [Function: bound group],\n",
       "  groupEnd: [Function: bound groupEnd],\n",
       "  table: [Function: bound table],\n",
       "  debug: [Function: bound log],\n",
       "  info: [Function: bound log],\n",
       "  dirxml: [Function: bound log],\n",
       "  error: [Function: bound warn],\n",
       "  groupCollapsed: [Function: bound group],\n",
       "  Console: [Function: Console]\n",
       "}"
      ]
     },
     "execution_count": 2,
     "metadata": {},
     "output_type": "execute_result"
    }
   ],
   "source": [
    "global.console"
   ]
  },
  {
   "cell_type": "code",
   "execution_count": 1,
   "metadata": {},
   "outputs": [
    {
     "name": "stdout",
     "output_type": "stream",
     "text": [
      "Writing code/3/globalA.js\n"
     ]
    }
   ],
   "source": [
    "%%writefile code/3/globalA.js\n",
    "\n",
    "module.exports = () => global.message;"
   ]
  },
  {
   "cell_type": "code",
   "execution_count": 6,
   "metadata": {},
   "outputs": [
    {
     "name": "stdout",
     "output_type": "stream",
     "text": [
      "Overwriting code/3/globalB.js\n"
     ]
    }
   ],
   "source": [
    "%%writefile code/3/globalB.js\n",
    "\n",
    "const A = require('./globalA');\n",
    "\n",
    "global.message = 'hello~~~';\n",
    "console.log(A());"
   ]
  },
  {
   "cell_type": "code",
   "execution_count": 7,
   "metadata": {},
   "outputs": [
    {
     "name": "stdout",
     "output_type": "stream",
     "text": [
      "hello~~~\n"
     ]
    }
   ],
   "source": [
    "!node code\\3\\globalB"
   ]
  },
  {
   "cell_type": "markdown",
   "metadata": {},
   "source": [
    "global 속성에 값을 대입하여 다른 파일에서 사용하는 코드  \n",
    "(프로그램 규모가 커지면 유지보수가 어렵기 때문에 다른 파일의 값을 사용하고싶다면 모듈형식으로 만들어 명시적 사용을 권함)"
   ]
  },
  {
   "cell_type": "markdown",
   "metadata": {},
   "source": [
    "### 3.4.2 console"
   ]
  },
  {
   "cell_type": "code",
   "execution_count": 15,
   "metadata": {},
   "outputs": [
    {
     "name": "stdout",
     "output_type": "stream",
     "text": [
      "Overwriting code/3/console.js\n"
     ]
    }
   ],
   "source": [
    "%%writefile code/3/console.js\n",
    "\n",
    "const string = 'abc';\n",
    "const number = 1;\n",
    "const boolean = true;\n",
    "const obj = {\n",
    "  outside: {\n",
    "    inside: {\n",
    "      key: 'value',\n",
    "    },\n",
    "  },\n",
    "};\n",
    "console.time('전체시간');\n",
    "console.log('평범한 로그입니다 쉼표로 구분해 여러 값을 찍을 수 있습니다');\n",
    "console.log(string, number, boolean);\n",
    "console.error('에러 메시지는 console.error에 담아주세요');\n",
    "\n",
    "console.table([{ name: '제로', birth: 1994 }, { name: 'hero', birth: 1988}]);\n",
    "\n",
    "console.dir(obj, { colors: false, depth: 2 });\n",
    "console.dir(obj, { colors: true, depth: 1 });\n",
    "\n",
    "console.time('시간측정');\n",
    "for (let i = 0; i < 100000; i++) {}\n",
    "console.timeEnd('시간측정');\n",
    "\n",
    "function b() {\n",
    "  console.trace('에러 위치 추적');\n",
    "}\n",
    "function a() {\n",
    "  b();\n",
    "}\n",
    "a();\n",
    "\n",
    "console.timeEnd('전체시간');\n"
   ]
  },
  {
   "cell_type": "markdown",
   "metadata": {},
   "source": [
    "![console.log](img/console.png)"
   ]
  },
  {
   "cell_type": "markdown",
   "metadata": {},
   "source": [
    "- console.time(레이블): console.timeEnd(레이블)과 대응, 같은 레이블을 가진 timd~timeEnd 사이의 시간을 측정함\n",
    "- console.log(내용): 로그를 콘솔에 표시\n",
    "- console.dir(객체, 옵션): 객체를 콘솔에 표시할 때 사용\n",
    "- console.trace(레이블): 에러 위치를 추적하여 알려줌\n",
    "- console.error(에러내용): 에러를 콘솔에 표시\n",
    "- console.table(배열): 객체 리터럴을 넣으면, 객체의 속성들이 테이블 형식으로 표현됨\n",
    "\n",
    "### 3.4.3 타이머"
   ]
  },
  {
   "cell_type": "code",
   "execution_count": 18,
   "metadata": {},
   "outputs": [
    {
     "name": "stdout",
     "output_type": "stream",
     "text": [
      "Overwriting code/3/timer.js\n"
     ]
    }
   ],
   "source": [
    "%%writefile code/3/timer.js\n",
    "\n",
    "const timeout = setTimeout(() => { //1.5초\n",
    "  console.log('1.5초 후 실행');\n",
    "}, 1500);\n",
    "\n",
    "const interval = setInterval(() => { //1초, 2초, 2.5초 취소\n",
    "  console.log('1초마다 실행');\n",
    "}, 1000);\n",
    "\n",
    "const timeout2 = setTimeout(() => { //3초, 2.5초 취소\n",
    "  console.log('실행되지 않습니다');\n",
    "}, 3000);\n",
    "\n",
    "setTimeout(() => { //2.5초\n",
    "  clearTimeout(timeout2);\n",
    "  clearInterval(interval);\n",
    "}, 2500);\n",
    "\n",
    "const immediate = setImmediate(() => { //0초\n",
    "  console.log('즉시 실행');\n",
    "});\n",
    "\n",
    "const immediate2 = setImmediate(() => { //0초, 0초 취소\n",
    "  console.log('실행되지 않습니다');\n",
    "});\n",
    "\n",
    "clearImmediate(immediate2); //0초"
   ]
  },
  {
   "cell_type": "markdown",
   "metadata": {},
   "source": [
    "즉시 실행  \n",
    "1초마다 실행  \n",
    "1.5초 후 실행  \n",
    "1초마다 실행  "
   ]
  },
  {
   "cell_type": "markdown",
   "metadata": {},
   "source": [
    "- setTimeout(콜백함수, 밀리초): 주어진 밀리초(1000분의1초) 이후 콜백함수 실행\n",
    "- setInterval(콜백함수, 밀리초): 주어진 밀리초마다 콜백함수 반복 실행\n",
    "- setImmediate(콜백함수): 콜백함수를 즉시 실행\n",
    "- clearTimeout(id): setTimeout 취소\n",
    "- clearInterval(id): setInterval 취소\n",
    "- clearImmediate(id): setImmediate 취소\n",
    "    "
   ]
  },
  {
   "cell_type": "markdown",
   "metadata": {},
   "source": [
    "### 3.4.4 __filename, __dirname"
   ]
  },
  {
   "cell_type": "code",
   "execution_count": 19,
   "metadata": {},
   "outputs": [
    {
     "name": "stdout",
     "output_type": "stream",
     "text": [
      "Writing code/3/filename.js\n"
     ]
    }
   ],
   "source": [
    "%%writefile code/3/filename.js\n",
    "console.log(__filename);\n",
    "console.log(__dirname);"
   ]
  },
  {
   "cell_type": "code",
   "execution_count": 20,
   "metadata": {},
   "outputs": [
    {
     "name": "stdout",
     "output_type": "stream",
     "text": [
      "C:\\Users\\maild\\node-js-study\\code\\3\\filename.js\n",
      "C:\\Users\\maild\\node-js-study\\code\\3\n"
     ]
    }
   ],
   "source": [
    "!node code\\3\\filename"
   ]
  },
  {
   "cell_type": "markdown",
   "metadata": {},
   "source": [
    "실행시 파일명, 현재 파일 경로 출력\n",
    "\n",
    "### 3.4.5 module, exports, require"
   ]
  },
  {
   "cell_type": "code",
   "execution_count": 28,
   "metadata": {},
   "outputs": [
    {
     "name": "stdout",
     "output_type": "stream",
     "text": [
      "Overwriting code/3/var.js\n"
     ]
    }
   ],
   "source": [
    "%%writefile code/3/var.js\n",
    "//3.3절 var.js를 수정\n",
    "exports.odd = 'ODD NUMBER2';\n",
    "exports.even = 'EVEN NUMBER2';\n",
    "\n",
    "//module.exports = { odd, even }과 같은코드"
   ]
  },
  {
   "cell_type": "code",
   "execution_count": 29,
   "metadata": {},
   "outputs": [
    {
     "name": "stdout",
     "output_type": "stream",
     "text": [
      "EVEN NUMBER2\n",
      "ODD NUMBER2\n"
     ]
    }
   ],
   "source": [
    "!node code\\3\\index"
   ]
  },
  {
   "cell_type": "markdown",
   "metadata": {},
   "source": [
    "module.exports === exports === {} //빈 객체  \n",
    "참조관계를 유지하려면 module.exports나 exports중 하나만 사용할것"
   ]
  },
  {
   "cell_type": "code",
   "execution_count": 32,
   "metadata": {},
   "outputs": [
    {
     "name": "stdout",
     "output_type": "stream",
     "text": [
      "Overwriting code/3/this.js\n"
     ]
    }
   ],
   "source": [
    "%%writefile code/3/this.js\n",
    "\n",
    "console.log(this);\n",
    "console.log(this === module.exports);\n",
    "console.log(this === exports);\n",
    "\n",
    "function whatIsThis() {\n",
    "  console.log('function', this === exports, this === global);\n",
    "    //함수 내부의 this는 global 객체\n",
    "}\n",
    "whatIsThis();"
   ]
  },
  {
   "cell_type": "code",
   "execution_count": 33,
   "metadata": {},
   "outputs": [
    {
     "name": "stdout",
     "output_type": "stream",
     "text": [
      "{}\n",
      "true\n",
      "true\n",
      "function false true\n"
     ]
    }
   ],
   "source": [
    "!node code\\3\\this"
   ]
  },
  {
   "cell_type": "code",
   "execution_count": 34,
   "metadata": {},
   "outputs": [
    {
     "name": "stdout",
     "output_type": "stream",
     "text": [
      "Writing code/3/require.js\n"
     ]
    }
   ],
   "source": [
    "%%writefile code/3/require.js\n",
    "console.log('console.log...');\n",
    "\n",
    "module.exports = '!!!find me!!!';\n",
    "\n",
    "require('./var');\n",
    "\n",
    "console.log('require.cache....');\n",
    "console.log(require.cache);\n",
    "console.log('require.main....');\n",
    "console.log(require.main === module);\n",
    "console.log(require.main.filename);"
   ]
  },
  {
   "cell_type": "code",
   "execution_count": 35,
   "metadata": {},
   "outputs": [
    {
     "name": "stdout",
     "output_type": "stream",
     "text": [
      "console.log...\n",
      "require.cache....\n",
      "[Object: null prototype] {\n",
      "  'C:\\\\Users\\\\maild\\\\node-js-study\\\\code\\\\3\\\\require.js': Module {\n",
      "    id: '.',\n",
      "    path: 'C:\\\\Users\\\\maild\\\\node-js-study\\\\code\\\\3',\n",
      "    exports: '!!!find me!!!',\n",
      "    parent: null,\n",
      "    filename: 'C:\\\\Users\\\\maild\\\\node-js-study\\\\code\\\\3\\\\require.js',\n",
      "    loaded: false,\n",
      "    children: [ [Module] ],\n",
      "    paths: [\n",
      "      'C:\\\\Users\\\\maild\\\\node-js-study\\\\code\\\\3\\\\node_modules',\n",
      "      'C:\\\\Users\\\\maild\\\\node-js-study\\\\code\\\\node_modules',\n",
      "      'C:\\\\Users\\\\maild\\\\node-js-study\\\\node_modules',\n",
      "      'C:\\\\Users\\\\maild\\\\node_modules',\n",
      "      'C:\\\\Users\\\\node_modules',\n",
      "      'C:\\\\node_modules'\n",
      "    ]\n",
      "  },\n",
      "  'C:\\\\Users\\\\maild\\\\node-js-study\\\\code\\\\3\\\\var.js': Module {\n",
      "    id: 'C:\\\\Users\\\\maild\\\\node-js-study\\\\code\\\\3\\\\var.js',\n",
      "    path: 'C:\\\\Users\\\\maild\\\\node-js-study\\\\code\\\\3',\n",
      "    exports: { odd: 'ODD NUMBER2', even: 'EVEN NUMBER2' },\n",
      "    parent: Module {\n",
      "      id: '.',\n",
      "      path: 'C:\\\\Users\\\\maild\\\\node-js-study\\\\code\\\\3',\n",
      "      exports: '!!!find me!!!',\n",
      "      parent: null,\n",
      "      filename: 'C:\\\\Users\\\\maild\\\\node-js-study\\\\code\\\\3\\\\require.js',\n",
      "      loaded: false,\n",
      "      children: [Array],\n",
      "      paths: [Array]\n",
      "    },\n",
      "    filename: 'C:\\\\Users\\\\maild\\\\node-js-study\\\\code\\\\3\\\\var.js',\n",
      "    loaded: true,\n",
      "    children: [],\n",
      "    paths: [\n",
      "      'C:\\\\Users\\\\maild\\\\node-js-study\\\\code\\\\3\\\\node_modules',\n",
      "      'C:\\\\Users\\\\maild\\\\node-js-study\\\\code\\\\node_modules',\n",
      "      'C:\\\\Users\\\\maild\\\\node-js-study\\\\node_modules',\n",
      "      'C:\\\\Users\\\\maild\\\\node_modules',\n",
      "      'C:\\\\Users\\\\node_modules',\n",
      "      'C:\\\\node_modules'\n",
      "    ]\n",
      "  }\n",
      "}\n",
      "require.main....\n",
      "true\n",
      "C:\\Users\\maild\\node-js-study\\code\\3\\require.js\n"
     ]
    }
   ],
   "source": [
    "!node code\\3\\require"
   ]
  },
  {
   "cell_type": "markdown",
   "metadata": {},
   "source": [
    "- require과 module.exports는 아무데나 위치할 수 있음"
   ]
  },
  {
   "cell_type": "code",
   "execution_count": 38,
   "metadata": {},
   "outputs": [
    {
     "name": "stdout",
     "output_type": "stream",
     "text": [
      "Writing code/3/dep1.js\n"
     ]
    }
   ],
   "source": [
    "%%writefile code/3/dep1.js\n",
    "\n",
    "const dep2 = require('./dep2');\n",
    "console.log('require dep2', dep2);\n",
    "module.exports = () => {\n",
    "  console.log('dep2', dep2);\n",
    "};"
   ]
  },
  {
   "cell_type": "code",
   "execution_count": 39,
   "metadata": {},
   "outputs": [
    {
     "name": "stdout",
     "output_type": "stream",
     "text": [
      "Writing code/3/dep2.js\n"
     ]
    }
   ],
   "source": [
    "%%writefile code/3/dep2.js\n",
    "\n",
    "const dep1 = require('./dep1');\n",
    "console.log('require dep1', dep1);\n",
    "module.exports = () => {\n",
    "  console.log('dep1', dep1);\n",
    "};"
   ]
  },
  {
   "cell_type": "code",
   "execution_count": 40,
   "metadata": {},
   "outputs": [
    {
     "name": "stdout",
     "output_type": "stream",
     "text": [
      "Writing code/3/dep-run.js\n"
     ]
    }
   ],
   "source": [
    "%%writefile code/3/dep-run.js\n",
    "\n",
    "const dep1 = require('./dep1');\n",
    "const dep2 = require('./dep2');\n",
    "\n",
    "dep1();\n",
    "dep2();"
   ]
  },
  {
   "cell_type": "code",
   "execution_count": 41,
   "metadata": {},
   "outputs": [
    {
     "name": "stdout",
     "output_type": "stream",
     "text": [
      "require dep1 {}\n",
      "require dep2 [Function]\n",
      "dep2 [Function]\n",
      "dep1 {}\n"
     ]
    }
   ],
   "source": [
    "!node code\\3\\dep-run"
   ]
  },
  {
   "cell_type": "markdown",
   "metadata": {},
   "source": [
    "dep1의 module.exports가 빈 객체로 표시됨  \n",
    "순환참조가 있는 경우 순환참조되는 대상을 빈객체로 만든다."
   ]
  },
  {
   "cell_type": "markdown",
   "metadata": {},
   "source": [
    "### 3.4.6 process"
   ]
  },
  {
   "cell_type": "code",
   "execution_count": 9,
   "metadata": {},
   "outputs": [
    {
     "data": {
      "text/plain": [
       "'v12.16.2'"
      ]
     },
     "execution_count": 9,
     "metadata": {},
     "output_type": "execute_result"
    }
   ],
   "source": [
    "process.version //노드 버전"
   ]
  },
  {
   "cell_type": "code",
   "execution_count": 10,
   "metadata": {},
   "outputs": [
    {
     "data": {
      "text/plain": [
       "'x64'"
      ]
     },
     "execution_count": 10,
     "metadata": {},
     "output_type": "execute_result"
    }
   ],
   "source": [
    "process.arch //프로세서 아키텍쳐 정보"
   ]
  },
  {
   "cell_type": "code",
   "execution_count": 11,
   "metadata": {},
   "outputs": [
    {
     "data": {
      "text/plain": [
       "'win32'"
      ]
     },
     "execution_count": 11,
     "metadata": {},
     "output_type": "execute_result"
    }
   ],
   "source": [
    "process.platform //운영체제 플랫폼 정보"
   ]
  },
  {
   "cell_type": "code",
   "execution_count": 12,
   "metadata": {},
   "outputs": [
    {
     "data": {
      "text/plain": [
       "1420"
      ]
     },
     "execution_count": 12,
     "metadata": {},
     "output_type": "execute_result"
    }
   ],
   "source": [
    "process.pid //현재 프로세스"
   ]
  },
  {
   "cell_type": "code",
   "execution_count": 15,
   "metadata": {},
   "outputs": [
    {
     "data": {
      "text/plain": [
       "126.5132079"
      ]
     },
     "execution_count": 15,
     "metadata": {},
     "output_type": "execute_result"
    }
   ],
   "source": [
    "process.uptime() //프로세스 시작 후 흐른 시간(초)"
   ]
  },
  {
   "cell_type": "code",
   "execution_count": 14,
   "metadata": {},
   "outputs": [
    {
     "data": {
      "text/plain": [
       "'C:\\\\Program Files\\\\nodejs\\\\node.exe'"
      ]
     },
     "execution_count": 14,
     "metadata": {},
     "output_type": "execute_result"
    }
   ],
   "source": [
    "process.execPath //노드의 경로"
   ]
  },
  {
   "cell_type": "code",
   "execution_count": 16,
   "metadata": {},
   "outputs": [
    {
     "data": {
      "text/plain": [
       "'C:\\\\Users\\\\maild\\\\node-js-study'"
      ]
     },
     "execution_count": 16,
     "metadata": {},
     "output_type": "execute_result"
    }
   ],
   "source": [
    "process.cwd() //현재 프로세스 실해 위치"
   ]
  },
  {
   "cell_type": "code",
   "execution_count": 17,
   "metadata": {},
   "outputs": [
    {
     "data": {
      "text/plain": [
       "{ user: 78000, system: 78000 }"
      ]
     },
     "execution_count": 17,
     "metadata": {},
     "output_type": "execute_result"
    }
   ],
   "source": [
    "process.cpuUsage() //현재 cpu 사용량"
   ]
  },
  {
   "cell_type": "markdown",
   "metadata": {},
   "source": [
    "#### 3.4.6.1 process.env\n",
    "\n",
    "시스템 환경변수들이 들어있는 객체"
   ]
  },
  {
   "cell_type": "code",
   "execution_count": 1,
   "metadata": {},
   "outputs": [
    {
     "data": {
      "text/plain": [
       "{\n",
       "  ALLUSERSPROFILE: 'C:\\\\ProgramData',\n",
       "  APPDATA: 'C:\\\\Users\\\\maild\\\\AppData\\\\Roaming',\n",
       "  CLASSPATH: 'C:\\\\Program Files\\\\Java\\\\jdk1.8.0_221\\\\lib\\\\;.;',\n",
       "  COMMONPROGRAMFILES: 'C:\\\\Program Files\\\\Common Files',\n",
       "  'COMMONPROGRAMFILES(X86)': 'C:\\\\Program Files (x86)\\\\Common Files',\n",
       "  COMMONPROGRAMW6432: 'C:\\\\Program Files\\\\Common Files',\n",
       "  COMPUTERNAME: 'DESKTOP-CFFAVNQ',\n",
       "  COMSPEC: 'C:\\\\WINDOWS\\\\system32\\\\cmd.exe',\n",
       "  CONDA_PREFIX: 'C:\\\\Users\\\\maild\\\\anaconda3',\n",
       "  dp0: 'C:\\\\Users\\\\maild\\\\AppData\\\\Roaming\\\\npm\\\\',\n",
       "  DRIVERDATA: 'C:\\\\Windows\\\\System32\\\\Drivers\\\\DriverData',\n",
       "  ETHEREUM_SOCKET: '\\\\\\\\.\\\\pipe\\\\geth.ipc',\n",
       "  FPS_BROWSER_APP_PROFILE_STRING: 'Internet Explorer',\n",
       "  FPS_BROWSER_USER_PROFILE_STRING: 'Default',\n",
       "  HOMEDRIVE: 'C:',\n",
       "  HOMEPATH: '\\\\Users\\\\maild',\n",
       "  IPY_INTERRUPT_EVENT: '4284',\n",
       "  JAVA_HOME: 'C:\\\\Program Files\\\\Java\\\\jdk1.8.0_221',\n",
       "  JPY_INTERRUPT_EVENT: '4284',\n",
       "  JPY_PARENT_PID: '4192',\n",
       "  KERNEL_LAUNCH_TIMEOUT: '40',\n",
       "  LOCALAPPDATA: 'C:\\\\Users\\\\maild\\\\AppData\\\\Local',\n",
       "  LOGONSERVER: '\\\\\\\\DESKTOP-CFFAVNQ',\n",
       "  NUMBER_OF_PROCESSORS: '4',\n",
       "  ONEDRIVE: 'C:\\\\Users\\\\maild\\\\OneDrive',\n",
       "  OPENCV_BUILD: 'C:\\\\Users\\\\maild\\\\opencv\\\\build',\n",
       "  OS: 'Windows_NT',\n",
       "  PATH: 'C:\\\\Users\\\\maild\\\\anaconda3;C:\\\\Users\\\\maild\\\\anaconda3\\\\Library\\\\mingw-w64\\\\bin;C:\\\\Users\\\\maild\\\\anaconda3\\\\Library\\\\usr\\\\bin;C:\\\\Users\\\\maild\\\\anaconda3\\\\Library\\\\bin;C:\\\\Users\\\\maild\\\\anaconda3\\\\Scripts;C:\\\\Program Files (x86)\\\\Common Files\\\\Oracle\\\\Java\\\\javapath;C:\\\\WINDOWS\\\\system32;C:\\\\WINDOWS;C:\\\\WINDOWS\\\\System32\\\\Wbem;C:\\\\WINDOWS\\\\System32\\\\WindowsPowerShell\\\\v1.0\\\\;C:\\\\WINDOWS\\\\System32\\\\OpenSSH\\\\;C:\\\\Program Files\\\\Java\\\\jdk1.8.0_221\\\\bin;C:\\\\Program Files\\\\Java\\\\jdk1.8.0_221\\\\bin;C:\\\\Program Files\\\\dotnet\\\\;C:\\\\Users\\\\maild\\\\opencv\\\\build\\\\x64\\\\vc15\\\\bin;C:\\\\Program Files\\\\Geth;C:\\\\Users\\\\maild\\\\anaconda3\\\\Scripts;C:\\\\Users\\\\maild\\\\anaconda3;C:\\\\Users\\\\maild\\\\anaconda3\\\\Library\\\\bin;C:\\\\Program Files\\\\MySQL\\\\MySQL Server 5.7\\\\bin;C:\\\\Program Files\\\\nodejs\\\\;C:\\\\Users\\\\maild\\\\AppData\\\\Local\\\\Microsoft\\\\WindowsApps;C:\\\\Users\\\\maild\\\\AppData\\\\Local\\\\GitHubDesktop\\\\bin;C:\\\\ProgramData\\\\maild\\\\GitHubDesktop\\\\bin;C:\\\\Users\\\\maild\\\\AppData\\\\Local\\\\Microsoft\\\\WindowsApps;C:\\\\Program Files\\\\Geth;C:\\\\Program Files\\\\solidity-windows;C:\\\\Users\\\\maild\\\\AppData\\\\Roaming\\\\npm;C:\\\\Program Files\\\\nodejs;C:\\\\Users\\\\maild\\\\AppData\\\\Local\\\\atom\\\\bin',\n",
       "  PATHEXT: '.COM;.EXE;.BAT;.CMD;.VBS;.VBE;.JSE;.WSF;.WSH;.MSC',\n",
       "  PROCESSOR_ARCHITECTURE: 'AMD64',\n",
       "  PROCESSOR_IDENTIFIER: 'Intel64 Family 6 Model 142 Stepping 9, GenuineIntel',\n",
       "  PROCESSOR_LEVEL: '6',\n",
       "  PROCESSOR_REVISION: '8e09',\n",
       "  PROGRAMDATA: 'C:\\\\ProgramData',\n",
       "  PROGRAMFILES: 'C:\\\\Program Files',\n",
       "  'PROGRAMFILES(X86)': 'C:\\\\Program Files (x86)',\n",
       "  PROGRAMW6432: 'C:\\\\Program Files',\n",
       "  PROMPT: '$P$G',\n",
       "  PSMODULEPATH: 'C:\\\\Program Files\\\\WindowsPowerShell\\\\Modules;C:\\\\WINDOWS\\\\system32\\\\WindowsPowerShell\\\\v1.0\\\\Modules',\n",
       "  PUBLIC: 'C:\\\\Users\\\\Public',\n",
       "  SESSIONNAME: 'Console',\n",
       "  SYSTEMDRIVE: 'C:',\n",
       "  SYSTEMROOT: 'C:\\\\WINDOWS',\n",
       "  TEMP: 'C:\\\\Users\\\\maild\\\\AppData\\\\Local\\\\Temp',\n",
       "  TMP: 'C:\\\\Users\\\\maild\\\\AppData\\\\Local\\\\Temp',\n",
       "  USERDOMAIN: 'DESKTOP-CFFAVNQ',\n",
       "  USERDOMAIN_ROAMINGPROFILE: 'DESKTOP-CFFAVNQ',\n",
       "  USERNAME: 'maild',\n",
       "  USERPROFILE: 'C:\\\\Users\\\\maild',\n",
       "  WINDIR: 'C:\\\\WINDOWS',\n",
       "  _prog: 'node'\n",
       "}"
      ]
     },
     "execution_count": 1,
     "metadata": {},
     "output_type": "execute_result"
    }
   ],
   "source": [
    "process.env"
   ]
  },
  {
   "cell_type": "markdown",
   "metadata": {},
   "source": [
    "#### 3.4.6.2 process.nextTick(콜백)\n",
    "\n",
    "이벤트 루프가 다른 콜백함수들 보다 nextTick의 콜백함수를 우선적으로 처리하도록 만든다."
   ]
  },
  {
   "cell_type": "code",
   "execution_count": 1,
   "metadata": {},
   "outputs": [
    {
     "name": "stdout",
     "output_type": "stream",
     "text": [
      "Writing code/3/nextTick.js\n"
     ]
    }
   ],
   "source": [
    "%%writefile code/3/nextTick.js\n",
    "\n",
    "setImmediate(() => {\n",
    "  console.log('immediate');\n",
    "});\n",
    "process.nextTick(() => {\n",
    "  console.log('nextTick');\n",
    "});\n",
    "setTimeout(() => {\n",
    "  console.log('timeout');\n",
    "}, 0);\n",
    "Promise.resolve().then(() => console.log('promise'));"
   ]
  },
  {
   "cell_type": "code",
   "execution_count": 2,
   "metadata": {},
   "outputs": [
    {
     "name": "stdout",
     "output_type": "stream",
     "text": [
      "nextTick\n",
      "promise\n",
      "timeout\n",
      "immediate\n"
     ]
    }
   ],
   "source": [
    "!node code\\3\\nextTick"
   ]
  },
  {
   "cell_type": "markdown",
   "metadata": {},
   "source": [
    "#### 3.4.6.3 process.exit(코드)\n",
    "실행중인 노드 프로세스를 종료함"
   ]
  },
  {
   "cell_type": "code",
   "execution_count": 4,
   "metadata": {},
   "outputs": [
    {
     "name": "stdout",
     "output_type": "stream",
     "text": [
      "Overwriting code/3/exit.js\n"
     ]
    }
   ],
   "source": [
    "%%writefile code/3/exit.js\n",
    "\n",
    "let i = 1;\n",
    "setInterval(() => {\n",
    "  if (i === 5) {\n",
    "    console.log('exit!');\n",
    "    process.exit();\n",
    "  }\n",
    "  console.log(i);\n",
    "  i += 1;\n",
    "}, 1000);\n"
   ]
  },
  {
   "cell_type": "code",
   "execution_count": 5,
   "metadata": {},
   "outputs": [
    {
     "name": "stdout",
     "output_type": "stream",
     "text": [
      "1\n",
      "2\n",
      "3\n",
      "4\n",
      "exit!\n"
     ]
    }
   ],
   "source": [
    "!node code\\3\\exit"
   ]
  },
  {
   "cell_type": "markdown",
   "metadata": {},
   "source": [
    "## 3.5 노드 내장 모듈 사용하기\n",
    "노드 API 공식문서 >>\n",
    "https://nodejs.org/dist/latest-v14.x/docs/api/\n",
    "### 3.5.1 os"
   ]
  },
  {
   "cell_type": "code",
   "execution_count": 6,
   "metadata": {},
   "outputs": [
    {
     "name": "stdout",
     "output_type": "stream",
     "text": [
      "Writing code/3/os.js\n"
     ]
    }
   ],
   "source": [
    "%%writefile code/3/os.js\n",
    "\n",
    "const os = require('os');\n",
    "\n",
    "console.log('OS infrom---------------------------------');\n",
    "console.log('os.arch():', os.arch());\n",
    "console.log('os.platform():', os.platform());\n",
    "console.log('os.type():', os.type());\n",
    "console.log('os.uptime():', os.uptime());\n",
    "console.log('os.hostname():', os.hostname());\n",
    "console.log('os.release():', os.release());\n",
    "\n",
    "console.log('Path------------------------------------------');\n",
    "console.log('os.homedir():', os.homedir());\n",
    "console.log('os.tmpdir():', os.tmpdir());\n",
    "\n",
    "console.log('cpu inform--------------------------------------');\n",
    "console.log('os.cpus():', os.cpus());\n",
    "console.log('os.cpus().length:', os.cpus().length);\n",
    "\n",
    "console.log('Memory inform-----------------------------------');\n",
    "console.log('os.freemem():', os.freemem());\n",
    "console.log('os.totalmem():', os.totalmem());"
   ]
  },
  {
   "cell_type": "code",
   "execution_count": 7,
   "metadata": {},
   "outputs": [
    {
     "name": "stdout",
     "output_type": "stream",
     "text": [
      "OS infrom---------------------------------\n",
      "os.arch(): x64\n",
      "os.platform(): win32\n",
      "os.type(): Windows_NT\n",
      "os.uptime(): 380718\n",
      "os.hostname(): DESKTOP-CFFAVNQ\n",
      "os.release(): 10.0.18363\n",
      "Path------------------------------------------\n",
      "os.homedir(): C:\\Users\\maild\n",
      "os.tmpdir(): C:\\Users\\maild\\AppData\\Local\\Temp\n",
      "cpu inform--------------------------------------\n",
      "os.cpus(): [\n",
      "  {\n",
      "    model: 'Intel(R) Core(TM) i5-7200U CPU @ 2.50GHz',\n",
      "    speed: 2712,\n",
      "    times: {\n",
      "      user: 9898859,\n",
      "      nice: 0,\n",
      "      sys: 11209781,\n",
      "      idle: 101958921,\n",
      "      irq: 2311625\n",
      "    }\n",
      "  },\n",
      "  {\n",
      "    model: 'Intel(R) Core(TM) i5-7200U CPU @ 2.50GHz',\n",
      "    speed: 2712,\n",
      "    times: {\n",
      "      user: 7402953,\n",
      "      nice: 0,\n",
      "      sys: 6837031,\n",
      "      idle: 108827156,\n",
      "      irq: 343421\n",
      "    }\n",
      "  },\n",
      "  {\n",
      "    model: 'Intel(R) Core(TM) i5-7200U CPU @ 2.50GHz',\n",
      "    speed: 2712,\n",
      "    times: {\n",
      "      user: 10257218,\n",
      "      nice: 0,\n",
      "      sys: 8978750,\n",
      "      idle: 103831171,\n",
      "      irq: 227312\n",
      "    }\n",
      "  },\n",
      "  {\n",
      "    model: 'Intel(R) Core(TM) i5-7200U CPU @ 2.50GHz',\n",
      "    speed: 2712,\n",
      "    times: {\n",
      "      user: 8656671,\n",
      "      nice: 0,\n",
      "      sys: 7354343,\n",
      "      idle: 107056125,\n",
      "      irq: 95562\n",
      "    }\n",
      "  }\n",
      "]\n",
      "os.cpus().length: 4\n",
      "Memory inform-----------------------------------\n",
      "os.freemem(): 4095578112\n",
      "os.totalmem(): 8469491712\n"
     ]
    }
   ],
   "source": [
    "!node code\\3\\os"
   ]
  },
  {
   "cell_type": "markdown",
   "metadata": {},
   "source": [
    "- os.arch(): process.arch와 동일\n",
    "- os.platform(): process.platform과 동일\n",
    "- os.type(); 운영체제 종류\n",
    "- os.uptime(): 운영체제 부팅 이후 흐른 시간 (process.uptime()은 노드 실행시간)\n",
    "- os.hostname(): 컴퓨터 이름\n",
    "- os.release(): 운영체제 버전\n",
    "- os.homedir(): 홈디렉터리 경로\n",
    "- os. tmpdir(): 임시파일 저장경로\n",
    "- os.cpus(): 코어 정보\n",
    "- os.freemem(): 사용가능한 메모리\n",
    "- os.totalmem(): 전체 메모리 용량"
   ]
  },
  {
   "cell_type": "markdown",
   "metadata": {},
   "source": [
    "### 3.5.2 path"
   ]
  },
  {
   "cell_type": "code",
   "execution_count": 61,
   "metadata": {},
   "outputs": [
    {
     "name": "stdout",
     "output_type": "stream",
     "text": [
      "Overwriting code/3/path.js\n"
     ]
    }
   ],
   "source": [
    "%%writefile code/3/path.js\n",
    "\n",
    "const path = require('path');\n",
    "\n",
    "const string = __filename;\n",
    "\n",
    "console.log('path.sep:', path.sep);\n",
    "console.log('path.delimiter:', path.delimiter);\n",
    "console.log('------------------------------');\n",
    "console.log('path.dirname():', path.dirname(string));\n",
    "console.log('path.extname():', path.extname(string));\n",
    "console.log('path.basename():', path.basename(string));\n",
    "console.log('path.basename - extname:', path.basename(string, path.extname(string)));\n",
    "console.log('------------------------------');\n",
    "console.log('path.parse()', path.parse(string));\n",
    "console.log('path.format():', path.format({\n",
    "  dir: 'C:\\\\users\\\\zerocho',\n",
    "  name: 'path',\n",
    "  ext: '.js',\n",
    "}));\n",
    "console.log('path.normalize():', path.normalize('C://users\\\\\\\\zerocho\\\\\\path.js'));\n",
    "console.log('------------------------------');\n",
    "console.log('path.isAbsolute(C:\\\\):', path.isAbsolute('C:\\\\'));\n",
    "console.log('path.isAbsolute(./home):', path.isAbsolute('./home'));\n",
    "console.log('------------------------------');\n",
    "console.log('path.relative():', path.relative('C:\\\\users\\\\zerocho\\\\path.js', 'C:\\\\'));\n",
    "console.log('path.join():', path.join(__dirname, '..', '..', '/users', '.', '/zerocho'));\n",
    "console.log('path.resolve():', path.resolve(__dirname, '..', 'users', '.', '/zerocho'));"
   ]
  },
  {
   "cell_type": "code",
   "execution_count": 62,
   "metadata": {},
   "outputs": [
    {
     "name": "stdout",
     "output_type": "stream",
     "text": [
      "path.sep: \\\n",
      "path.delimiter: ;\n",
      "------------------------------\n",
      "path.dirname(): C:\\Users\\maild\\node-js-study\\code\\3\n",
      "path.extname(): .js\n",
      "path.basename(): path.js\n",
      "path.basename - extname: path\n",
      "------------------------------\n",
      "path.parse() {\n",
      "  root: 'C:\\\\',\n",
      "  dir: 'C:\\\\Users\\\\maild\\\\node-js-study\\\\code\\\\3',\n",
      "  base: 'path.js',\n",
      "  ext: '.js',\n",
      "  name: 'path'\n",
      "}\n",
      "path.format(): C:\\users\\zerocho\\path.js\n",
      "path.normalize(): C:\\users\\zerocho\\path.js\n",
      "------------------------------\n",
      "path.isAbsolute(C:\\): true\n",
      "path.isAbsolute(./home): false\n",
      "------------------------------\n",
      "path.relative(): ..\\..\\..\n",
      "path.join(): C:\\Users\\maild\\node-js-study\\users\\zerocho\n",
      "path.resolve(): C:\\zerocho\n"
     ]
    }
   ],
   "source": [
    "!node code\\3\\path"
   ]
  },
  {
   "cell_type": "markdown",
   "metadata": {},
   "source": [
    "- path.sep: 경로의 구분자(윈도우 \\, POSIX /)  \n",
    "- path.delimiter: 환경변수 구분자(윈도우 ;, POSIX :)\n",
    "- path.dirname(경로): 파일이 위치한 폴더 경로\n",
    "- path.extname(경로): 파일의 확장자\n",
    "- path.basename(경로, 확장자): 파일의 이름 표시\n",
    "- path.parse(경로): 파일 경로를 root, dir, base, ext, name으로 분리\n",
    "- path.format(객체): path.parse()한 객체를 파일 경로로 합침\n",
    "- path.normalize(경로): \\,/ 혼용했을 때 정상적인 경로로 변환\n",
    "- path.isAbsolute(경로): true\n",
    "- path.relative(기준경로, 비교경로): 경로를 두개 넣으면 첫번째 경로에서 두번째 경로로 가는방법을 알려준다.\n",
    "- path.join(경로, ): 여러 인수를 넣으면 하나의 경로로 합침, 상대경로로 처리\n",
    "- path.resolve(경로, ): 여러 인수를 넣으면 하나의 경로로 합침, 절대경로로 처리"
   ]
  },
  {
   "cell_type": "markdown",
   "metadata": {},
   "source": [
    "### 3.5.3 url"
   ]
  },
  {
   "cell_type": "code",
   "execution_count": 63,
   "metadata": {},
   "outputs": [
    {
     "name": "stdout",
     "output_type": "stream",
     "text": [
      "Overwriting code/3/url.js\n"
     ]
    }
   ],
   "source": [
    "%%writefile code/3/url.js\n",
    "\n",
    "const url = require('url');\n",
    "\n",
    "const { URL } = url;\n",
    "const myURL = new URL('http://www.gilbut.co.kr/book/bookList.aspx?sercate1=001001000#anchor');\n",
    "console.log('new URL():', myURL);\n",
    "console.log('url.format():', url.format(myURL)); //WHATWG방식\n",
    "console.log('------------------------------');\n",
    "const parsedUrl = url.parse('http://www.gilbut.co.kr/book/bookList.aspx?sercate1=001001000#anchor');\n",
    "console.log('url.parse():', parsedUrl);\n",
    "console.log('url.format():', url.format(parsedUrl)); //기존방식"
   ]
  },
  {
   "cell_type": "code",
   "execution_count": 64,
   "metadata": {},
   "outputs": [
    {
     "name": "stdout",
     "output_type": "stream",
     "text": [
      "new URL(): URL {\n",
      "  href: 'http://www.gilbut.co.kr/book/bookList.aspx?sercate1=001001000#anchor',\n",
      "  origin: 'http://www.gilbut.co.kr',\n",
      "  protocol: 'http:',\n",
      "  username: '',\n",
      "  password: '',\n",
      "  host: 'www.gilbut.co.kr',\n",
      "  hostname: 'www.gilbut.co.kr',\n",
      "  port: '',\n",
      "  pathname: '/book/bookList.aspx',\n",
      "  search: '?sercate1=001001000',\n",
      "  searchParams: URLSearchParams { 'sercate1' => '001001000' },\n",
      "  hash: '#anchor'\n",
      "}\n",
      "url.format(): http://www.gilbut.co.kr/book/bookList.aspx?sercate1=001001000#anchor\n",
      "------------------------------\n",
      "url.parse(): Url {\n",
      "  protocol: 'http:',\n",
      "  slashes: true,\n",
      "  auth: null,\n",
      "  host: 'www.gilbut.co.kr',\n",
      "  port: null,\n",
      "  hostname: 'www.gilbut.co.kr',\n",
      "  hash: '#anchor',\n",
      "  search: '?sercate1=001001000',\n",
      "  query: 'sercate1=001001000',\n",
      "  pathname: '/book/bookList.aspx',\n",
      "  path: '/book/bookList.aspx?sercate1=001001000',\n",
      "  href: 'http://www.gilbut.co.kr/book/bookList.aspx?sercate1=001001000#anchor'\n",
      "}\n",
      "url.format(): http://www.gilbut.co.kr/book/bookList.aspx?sercate1=001001000#anchor\n"
     ]
    }
   ],
   "source": [
    "!node code\\3\\url"
   ]
  },
  {
   "cell_type": "code",
   "execution_count": 67,
   "metadata": {},
   "outputs": [
    {
     "name": "stdout",
     "output_type": "stream",
     "text": [
      "Overwriting code/3/searchParams.js\n"
     ]
    }
   ],
   "source": [
    "%%writefile code/3/searchParams.js\n",
    "//queryString을 객체로 만들어줌\n",
    "const { URL } = require('url');\n",
    "\n",
    "const myURL = new URL('http://www.gilbut.co.kr/?page=3&limit=10&category=nodejs&category=javascript');\n",
    "console.log('searchParams:', myURL.searchParams);\n",
    "console.log('searchParams.getAll():', myURL.searchParams.getAll('category'));\n",
    "console.log('searchParams.get():', myURL.searchParams.get('limit'));\n",
    "console.log('searchParams.has():', myURL.searchParams.has('page'));\n",
    "\n",
    "console.log('searchParams.keys():', myURL.searchParams.keys());\n",
    "console.log('searchParams.values():', myURL.searchParams.values());\n",
    "\n",
    "myURL.searchParams.append('filter', 'es3');\n",
    "myURL.searchParams.append('filter', 'es5');\n",
    "console.log(myURL.searchParams.getAll('filter'));\n",
    "\n",
    "myURL.searchParams.set('filter', 'es6');\n",
    "console.log(myURL.searchParams.getAll('filter'));\n",
    "\n",
    "myURL.searchParams.delete('filter');\n",
    "console.log(myURL.searchParams.getAll('filter'));\n",
    "\n",
    "console.log('searchParams.toString():', myURL.searchParams.toString());\n",
    "myURL.search = myURL.searchParams.toString();"
   ]
  },
  {
   "cell_type": "code",
   "execution_count": 68,
   "metadata": {},
   "outputs": [
    {
     "name": "stdout",
     "output_type": "stream",
     "text": [
      "searchParams: URLSearchParams {\n",
      "  'page' => '3',\n",
      "  'limit' => '10',\n",
      "  'category' => 'nodejs',\n",
      "  'category' => 'javascript' }\n",
      "searchParams.getAll(): [ 'nodejs', 'javascript' ]\n",
      "searchParams.get(): 10\n",
      "searchParams.has(): true\n",
      "searchParams.keys(): URLSearchParams Iterator { 'page', 'limit', 'category', 'category' }\n",
      "searchParams.values(): URLSearchParams Iterator { '3', '10', 'nodejs', 'javascript' }\n",
      "[ 'es3', 'es5' ]\n",
      "[ 'es6' ]\n",
      "[]\n",
      "searchParams.toString(): page=3&limit=10&category=nodejs&category=javascript\n"
     ]
    }
   ],
   "source": [
    "!node code\\3\\searchParams"
   ]
  },
  {
   "cell_type": "markdown",
   "metadata": {},
   "source": [
    "- getAll(키): 키에 해당하는 모든 값들을 가져옴, category 키에는 nodejs와 javascript가 있음\n",
    "- get(키): 키에 해당하는 첫번째 값만 가져옴\n",
    "- has(키): 해당 키가 있는지 검사\n",
    "- keys(): searchParams의 모든 키를 iterator 객체로 가져옴\n",
    "- values(): searchParams의 모든 값을 반복기 객체로 가져옴\n",
    "- append(키, 값): 해당 키를 추가, 같은 키의 값이 있다면 유지하고 하나 더 추가\n",
    "- set(키, 값): 같은 키의 값들을 모두 지우고 새로 추가\n",
    "- delete(키): 해당 키 삭제\n",
    "- toString(): 조작한 searchParams 객체를 문자열로 만듬"
   ]
  },
  {
   "cell_type": "markdown",
   "metadata": {},
   "source": [
    "### 3.5.4 querystring"
   ]
  },
  {
   "cell_type": "code",
   "execution_count": 14,
   "metadata": {},
   "outputs": [
    {
     "name": "stdout",
     "output_type": "stream",
     "text": [
      "Writing code/3/querystring.js\n"
     ]
    }
   ],
   "source": [
    "%%writefile code/3/querystring.js\n",
    "\n",
    "const url = require('url');\n",
    "const querystring = require('querystring');\n",
    "\n",
    "const parsedUrl = url.parse('http://www.gilbut.co.kr/?page=3&limit=10&category=nodejs&category=javascript');\n",
    "const query = querystring.parse(parsedUrl.query);\n",
    "console.log('querystring.parse():', query);\n",
    "console.log('querystring.stringify():', querystring.stringify(query));"
   ]
  },
  {
   "cell_type": "code",
   "execution_count": 15,
   "metadata": {},
   "outputs": [
    {
     "name": "stdout",
     "output_type": "stream",
     "text": [
      "querystring.parse(): [Object: null prototype] {\n",
      "  page: '3',\n",
      "  limit: '10',\n",
      "  category: [ 'nodejs', 'javascript' ]\n",
      "}\n",
      "querystring.stringify(): page=3&limit=10&category=nodejs&category=javascript\n"
     ]
    }
   ],
   "source": [
    "!node code\\3\\querystring"
   ]
  },
  {
   "cell_type": "markdown",
   "metadata": {},
   "source": [
    "- querystring.parse(쿼리): url의 query 부분을 자바스크립트 객체로 분해\n",
    "- querystring.stringify(객체): 분해된 query객체를 문자열로 다시 조립"
   ]
  },
  {
   "cell_type": "markdown",
   "metadata": {},
   "source": [
    "### 3.5.5 crypto\n",
    "#### 3.5.5.1 단방향 암호화\n",
    "\n",
    "- crypto.createHash(알고리즘).update(문자열).digest(인코딩)"
   ]
  },
  {
   "cell_type": "code",
   "execution_count": 16,
   "metadata": {},
   "outputs": [
    {
     "name": "stdout",
     "output_type": "stream",
     "text": [
      "Writing code/3/hash.js\n"
     ]
    }
   ],
   "source": [
    "%%writefile code/3/hash.js\n",
    "\n",
    "const crypto = require('crypto');\n",
    "\n",
    "console.log('base64:', crypto.createHash('sha512').update('비밀번호').digest('base64'));\n",
    "console.log('hex:', crypto.createHash('sha512').update('비밀번호').digest('hex'));\n",
    "console.log('base64:', crypto.createHash('sha512').update('다른 비밀번호').digest('base64'));"
   ]
  },
  {
   "cell_type": "code",
   "execution_count": 17,
   "metadata": {},
   "outputs": [
    {
     "name": "stdout",
     "output_type": "stream",
     "text": [
      "base64: dvfV6nyLRRt3NxKSlTHOkkEGgqW2HRtfu19Ou/psUXvwlebbXCboxIPmDYOFRIpqav2eUTBFuHaZri5x+usy1g==\n",
      "hex: 76f7d5ea7c8b451b773712929531ce92410682a5b61d1b5fbb5f4ebbfa6c517bf095e6db5c26e8c483e60d8385448a6a6afd9e513045b87699ae2e71faeb32d6\n",
      "base64: cx49cjC8ctKtMzwJGBY853itZeb6qxzXGvuUJkbWTGn5VXAFbAwXGEOxU2Qksoj+aM2GWPhc1O7mmkyohXMsQw==\n"
     ]
    }
   ],
   "source": [
    "!node code\\3\\hash"
   ]
  },
  {
   "cell_type": "code",
   "execution_count": 18,
   "metadata": {},
   "outputs": [
    {
     "name": "stdout",
     "output_type": "stream",
     "text": [
      "Writing code/3/pbkdf2.js\n"
     ]
    }
   ],
   "source": [
    "%%writefile code/3/pbkdf2.js\n",
    "\n",
    "const crypto = require('crypto');\n",
    "\n",
    "crypto.randomBytes(64, (err, buf) => {\n",
    "  const salt = buf.toString('base64');\n",
    "  console.log('salt:', salt);\n",
    "  crypto.pbkdf2('비밀번호', salt, 100000, 64, 'sha512', (err, key) => {\n",
    "    console.log('password:', key.toString('base64'));\n",
    "  });\n",
    "});"
   ]
  },
  {
   "cell_type": "code",
   "execution_count": 19,
   "metadata": {},
   "outputs": [
    {
     "name": "stdout",
     "output_type": "stream",
     "text": [
      "salt: n2CRZinvwhFG0T+hCp9FXex2lWaLDy3SDrkjPqTeSUbvCy66LcomTn6pNf/qkyEO1dM38ptvtgSowxofno0edw==\n",
      "password: EHFrVF471awuN2sKXCssBC8Gi1olQMzV+/9sTl4HizRTLYQLTN9bEDcEChFS/nxeMpNNtfWrk6SMkI5p1MOLDg==\n"
     ]
    }
   ],
   "source": [
    "!node code\\3\\pbkdf2"
   ]
  },
  {
   "cell_type": "markdown",
   "metadata": {},
   "source": [
    "#### 3.5.5.2 양방향 암호화\n",
    "- 암호화된 문자열을 복호화 할 수 있으며 키를 사용함"
   ]
  },
  {
   "cell_type": "code",
   "execution_count": 69,
   "metadata": {},
   "outputs": [
    {
     "name": "stdout",
     "output_type": "stream",
     "text": [
      "Overwriting code/3/cipher.js\n"
     ]
    }
   ],
   "source": [
    "%%writefile code/3/cipher.js\n",
    "\n",
    "const crypto = require('crypto');\n",
    "\n",
    "const algorithm = 'aes-256-cbc';\n",
    "const key = 'abcdefghijklmnopqrstuvwxyz123456'; //32바이트\n",
    "const iv = '1234567890123456'; //16바이트\n",
    "\n",
    "const cipher = crypto.createCipheriv(algorithm, key, iv);\n",
    "let result = cipher.update('helloABC', 'utf8', 'base64');\n",
    "result += cipher.final('base64');\n",
    "console.log('result:', result); //암호화\n",
    "\n",
    "const decipher = crypto.createDecipheriv(algorithm, key, iv);\n",
    "let result2 = decipher.update(result, 'base64', 'utf8');\n",
    "result2 += decipher.final('utf8');\n",
    "console.log('string:', result2); //복호화"
   ]
  },
  {
   "cell_type": "code",
   "execution_count": 70,
   "metadata": {},
   "outputs": [
    {
     "name": "stdout",
     "output_type": "stream",
     "text": [
      "result: oN6nBO+KHAOh5KIzCCg7pw==\n",
      "string: helloABC\n"
     ]
    }
   ],
   "source": [
    "!node code\\3\\cipher"
   ]
  },
  {
   "cell_type": "markdown",
   "metadata": {},
   "source": [
    "### 3.5.6 util"
   ]
  },
  {
   "cell_type": "code",
   "execution_count": 71,
   "metadata": {},
   "outputs": [
    {
     "name": "stdout",
     "output_type": "stream",
     "text": [
      "Overwriting code/3/util.js\n"
     ]
    }
   ],
   "source": [
    "%%writefile code/3/util.js\n",
    "const util = require('util');\n",
    "const crypto = require('crypto');\n",
    "\n",
    "const dontUseMe = util.deprecate((x, y) => {\n",
    "  console.log(x + y);\n",
    "}, 'dontUseMe function is deprecated...');\n",
    "dontUseMe(1, 2);\n",
    "\n",
    "//콜백을 프로미스패턴으로 바꿈\n",
    "const randomBytesPromise = util.promisify(crypto.randomBytes);\n",
    "randomBytesPromise(64)\n",
    "  .then((buf) => {\n",
    "    console.log(buf.toString('base64'));\n",
    "  })\n",
    "  .catch((error) => {\n",
    "    console.error(error);\n",
    "  });"
   ]
  },
  {
   "cell_type": "code",
   "execution_count": 72,
   "metadata": {},
   "outputs": [
    {
     "name": "stdout",
     "output_type": "stream",
     "text": [
      "3\n",
      "liu2xJ4Jl2EyyFf+O8R7WZt0wdGXq5DmCJW0JDi2UVM4+J5Sg66hSY9ay99ZeMFiBS/TTBb5wX+E+BEHwXRAvQ==\n"
     ]
    },
    {
     "name": "stderr",
     "output_type": "stream",
     "text": [
      "(node:9032) DeprecationWarning: dontUseMe function is deprecated...\n"
     ]
    }
   ],
   "source": [
    "!node code\\3\\util"
   ]
  },
  {
   "cell_type": "markdown",
   "metadata": {},
   "source": [
    "- deprecated: 중요도가 떨어져 더 이상 사용되지 않고 앞으로 사라지게 될 것, 새로운 기능이 나와서 기존 기능보다 더 좋을 때 기존 기능을 deprecated 처리함, 곧 삭제할 기능을 더이상 사용하지 말라는 의미"
   ]
  },
  {
   "cell_type": "markdown",
   "metadata": {},
   "source": [
    "### 3.5.7 worker_threads\n",
    "노드에서 멀티 스레드 방식으로 작업가능"
   ]
  },
  {
   "cell_type": "code",
   "execution_count": 32,
   "metadata": {},
   "outputs": [
    {
     "name": "stdout",
     "output_type": "stream",
     "text": [
      "Writing code/3/worker_threads.js\n"
     ]
    }
   ],
   "source": [
    "%%writefile code/3/worker_threads.js\n",
    "\n",
    "const {\n",
    "  Worker, isMainThread, parentPort,\n",
    "} = require('worker_threads');\n",
    "\n",
    "if (isMainThread) { // 부모일 때\n",
    "  const worker = new Worker(__filename);\n",
    "  worker.on('message', message => console.log('from worker', message));\n",
    "  worker.on('exit', () => console.log('worker exit'));\n",
    "  worker.postMessage('ping');\n",
    "} else { // 워커일 때\n",
    "  parentPort.on('message', (value) => {\n",
    "    console.log('from parent', value);\n",
    "    parentPort.postMessage('pong');\n",
    "    parentPort.close();\n",
    "  });\n",
    "}"
   ]
  },
  {
   "cell_type": "code",
   "execution_count": 33,
   "metadata": {},
   "outputs": [
    {
     "name": "stdout",
     "output_type": "stream",
     "text": [
      "from parent ping\n",
      "from worker pong\n",
      "worker exit\n"
     ]
    }
   ],
   "source": [
    "!node code\\3\\worker_threads"
   ]
  },
  {
   "cell_type": "code",
   "execution_count": 73,
   "metadata": {},
   "outputs": [
    {
     "name": "stdout",
     "output_type": "stream",
     "text": [
      "Overwriting code/3/worker_data.js\n"
     ]
    }
   ],
   "source": [
    "%%writefile code/3/worker_data.js\n",
    "\n",
    "const {\n",
    "  Worker, isMainThread, parentPort, workerData,\n",
    "} = require('worker_threads');\n",
    "\n",
    "if (isMainThread) { // 부모일 때\n",
    "  const threads = new Set(); //중복없는 배열 Set\n",
    "  threads.add(new Worker(__filename, {\n",
    "    workerData: { start: 1 },//worker1\n",
    "  }));\n",
    "  threads.add(new Worker(__filename, {\n",
    "    workerData: { start: 2 },//worker2\n",
    "  }));\n",
    "  for (let worker of threads) {\n",
    "    worker.on('message', message => console.log('from worker', message));\n",
    "    worker.on('exit', () => {\n",
    "      threads.delete(worker); //끝난 worker 삭제\n",
    "      if (threads.size === 0) { //worker가 0이면 끝\n",
    "        console.log('job done');\n",
    "      }\n",
    "    });\n",
    "  }\n",
    "} else { // 워커일 때\n",
    "  const data = workerData;\n",
    "  parentPort.postMessage(data.start + 100);\n",
    "}"
   ]
  },
  {
   "cell_type": "code",
   "execution_count": 74,
   "metadata": {},
   "outputs": [
    {
     "name": "stdout",
     "output_type": "stream",
     "text": [
      "from worker 101\n",
      "from worker 102\n",
      "job done\n"
     ]
    }
   ],
   "source": [
    "!node code\\3\\worker_data"
   ]
  },
  {
   "cell_type": "code",
   "execution_count": 75,
   "metadata": {},
   "outputs": [
    {
     "name": "stdout",
     "output_type": "stream",
     "text": [
      "Overwriting code/3/prime.js\n"
     ]
    }
   ],
   "source": [
    "%%writefile code/3/prime.js\n",
    "//소수 찾기\n",
    "const min = 2;\n",
    "const max = 10000000;\n",
    "const primes = [];\n",
    "\n",
    "function findPrimes(start, range) {\n",
    "  let isPrime = true;\n",
    "  const end = start + range;\n",
    "  for (let i = start; i < end; i++) {\n",
    "    for (let j = min; j < Math.sqrt(end); j++) {\n",
    "      if (i !== j && i % j === 0) {\n",
    "        isPrime = false;\n",
    "        break;\n",
    "      }\n",
    "    }\n",
    "    if (isPrime) {\n",
    "      primes.push(i);\n",
    "    }\n",
    "    isPrime = true;\n",
    "  }\n",
    "}\n",
    "\n",
    "console.time('prime');\n",
    "findPrimes(min, max);\n",
    "console.timeEnd('prime');\n",
    "console.log(primes.length);"
   ]
  },
  {
   "cell_type": "code",
   "execution_count": 76,
   "metadata": {},
   "outputs": [
    {
     "name": "stdout",
     "output_type": "stream",
     "text": [
      "prime: 12871.900ms\n",
      "664579\n"
     ]
    }
   ],
   "source": [
    "!node code\\3\\prime"
   ]
  },
  {
   "cell_type": "code",
   "execution_count": 83,
   "metadata": {},
   "outputs": [
    {
     "name": "stdout",
     "output_type": "stream",
     "text": [
      "Overwriting code/3/prime_worker.js\n"
     ]
    }
   ],
   "source": [
    "%%writefile code/3/prime_worker.js\n",
    "//소수 찾기, 멀티스레드\n",
    "const { Worker, isMainThread, parentPort, workerData } = require('worker_threads');\n",
    "\n",
    "const min = 2;\n",
    "let primes = [];\n",
    "\n",
    "function findPrimes(start, range) {\n",
    "  let isPrime = true;\n",
    "  const end = start + range;\n",
    "  for (let i = start; i < end; i++) {\n",
    "    for (let j = min; j < Math.sqrt(end); j++) {\n",
    "      if (i !== j && i % j === 0) {\n",
    "        isPrime = false;\n",
    "        break;\n",
    "      }\n",
    "    }\n",
    "    if (isPrime) {\n",
    "      primes.push(i);\n",
    "    }\n",
    "    isPrime = true;\n",
    "  }\n",
    "}\n",
    "\n",
    "if (isMainThread) {\n",
    "  const max = 10000000;\n",
    "  const threadCount = 6;\n",
    "  const threads = new Set();\n",
    "  const range = Math.ceil((max - min) / threadCount);\n",
    "  let start = min;\n",
    "  console.time('prime');\n",
    "  for (let i = 0; i < threadCount - 1; i++) {\n",
    "    const wStart = start;\n",
    "    threads.add(new Worker(__filename, { workerData: { start: wStart, range } }));\n",
    "    start += range;\n",
    "  }\n",
    "  threads.add(new Worker(__filename, { workerData: { start, range: range + ((max - min + 1) % threadCount) } }));\n",
    "  for (let worker of threads) {\n",
    "    worker.on('error', (err) => {\n",
    "      throw err;\n",
    "    });\n",
    "    worker.on('exit', () => {\n",
    "      threads.delete(worker);\n",
    "      if (threads.size === 0) {\n",
    "        console.timeEnd('prime');\n",
    "        console.log(primes.length);\n",
    "      }\n",
    "    });\n",
    "    worker.on('message', (msg) => {\n",
    "      primes = primes.concat(msg);\n",
    "    });\n",
    "  }\n",
    "} else {\n",
    "  findPrimes(workerData.start, workerData.range);\n",
    "  parentPort.postMessage(primes);\n",
    "}\n"
   ]
  },
  {
   "cell_type": "code",
   "execution_count": 84,
   "metadata": {},
   "outputs": [
    {
     "name": "stdout",
     "output_type": "stream",
     "text": [
      "prime: 4426.624ms\n",
      "664579\n"
     ]
    }
   ],
   "source": [
    "!node code\\3\\prime_worker"
   ]
  },
  {
   "cell_type": "markdown",
   "metadata": {},
   "source": [
    "멀티스레드가 3배 빠르다"
   ]
  },
  {
   "cell_type": "markdown",
   "metadata": {},
   "source": [
    "### 3.5.8 child_process\n",
    "- 다른 프로세스에서 cmd 명령 실행"
   ]
  },
  {
   "cell_type": "code",
   "execution_count": 40,
   "metadata": {},
   "outputs": [
    {
     "name": "stdout",
     "output_type": "stream",
     "text": [
      "Writing code/3/exec.js\n"
     ]
    }
   ],
   "source": [
    "%%writefile code/3/exec.js\n",
    "const exec = require('child_process').exec;\n",
    "\n",
    "var process = exec('dir');\n",
    "\n",
    "process.stdout.on('data', function(data) {\n",
    "  console.log(data.toString());\n",
    "}); // 실행 결과\n",
    "\n",
    "process.stderr.on('data', function(data) {\n",
    "  console.error(data.toString());\n",
    "}); // 실행 에러"
   ]
  },
  {
   "cell_type": "markdown",
   "metadata": {},
   "source": [
    "!node code\\3\\exec\n",
    "\n",
    "2020-09-21  오전 12:48    <DIR>          .  \n",
    "2020-09-21  오전 12:48    <DIR>          ..  \n",
    "2020-09-21  오전 12:40               559 cipher.js  \n",
    "2020-09-20  오후 10:46               809 console.js  \n",
    "2020-09-20  오후 11:47                88 dep-run.js  \n",
    "2020-09-20  오후 11:46               131 dep1.js  \n",
    "2020-09-20  오후 11:46               131 dep2.js  \n",
    "2020-09-21  오전 12:48               279 exec.js  \n",
    "2020-09-21  오전 12:30               147 exit.js  \n",
    "2020-09-20  오후 11:24                51 filename.js  \n",
    "2020-09-20  오후 10:05               334 func.js  \n",
    "2020-09-20  오후 10:10               178 func.mjs  \n",
    "2020-09-20  오후 10:17                42 globalA.js  \n",
    "2020-09-20  오후 10:17                86 globalB.js  \n",
    "2020-09-21  오전 12:37               322 hash.js  \n",
    "2020-09-20  오후 09:39               156 helloWorld.js  \n",
    "2020-09-20  오후 10:05               280 index.js  \n",
    "2020-09-20  오후 11:58               227 nextTick.js  \n",
    "2020-09-21  오전 12:31               825 os.js  \n",
    "2020-09-21  오전 12:33             1,248 path.js  \n",
    "2020-09-21  오전 12:38               294 pbkdf2.js  \n",
    "2020-09-21  오전 12:45               521 prime.js  \n",
    "2020-09-21  오전 12:47             1,446 prime_worker.js  \n",
    "2020-09-21  오전 12:36               356 querystring.js  \n",
    "2020-09-20  오후 11:43               266 require.js  \n",
    "2020-09-21  오전 12:35               997 searchParams.js  \n",
    "2020-09-20  오후 11:39               247 this.js  \n",
    "2020-09-20  오후 11:22               663 timer.js  \n",
    "2020-09-21  오전 12:35               481 url.js  \n",
    "2020-09-21  오전 12:42               414 util.js  \n",
    "2020-09-20  오후 11:33               141 var.js  \n",
    "2020-09-20  오후 11:27                58 var2.js  \n",
    "2020-09-21  오전 12:44               683 worker_data.js  \n",
    "2020-09-21  오전 12:43               502 worker_threads.js  \n",
    "              32 File(s)         12,962 bytes  \n",
    "               2 Dir(s)  143,119,933,440 bytes free  \n",
    "    "
   ]
  },
  {
   "cell_type": "code",
   "execution_count": 53,
   "metadata": {},
   "outputs": [
    {
     "name": "stdout",
     "output_type": "stream",
     "text": [
      "Writing code/3/test.py\n"
     ]
    }
   ],
   "source": [
    "%%writefile code/3/test.py\n",
    "print('hello python')"
   ]
  },
  {
   "cell_type": "code",
   "execution_count": 54,
   "metadata": {},
   "outputs": [
    {
     "name": "stdout",
     "output_type": "stream",
     "text": [
      "Overwriting code/3/spawn.js\n"
     ]
    }
   ],
   "source": [
    "%%writefile code/3/spawn.js\n",
    "const spawn = require('child_process').spawn;\n",
    "\n",
    "var process = spawn('python', ['test.py']);\n",
    "\n",
    "process.stdout.on('data', function(data) {\n",
    "  console.log(data.toString());\n",
    "}); // 실행 결과\n",
    "\n",
    "process.stderr.on('data', function(data) {\n",
    "  console.error(data.toString());\n",
    "}); // 실행 에러"
   ]
  },
  {
   "cell_type": "markdown",
   "metadata": {},
   "source": [
    "!node code\\3\\spawn.js\n",
    "\n",
    "hello python"
   ]
  },
  {
   "cell_type": "markdown",
   "metadata": {},
   "source": [
    "### 3.5.9 기타 모듈들\n",
    "- assert: 값을 비교하여 프로그램이 제대로 동작하는지 테스트 할 때 사용\n",
    "- dns: 도메인 이름에 대한 IP 주소를 얻는데 사용\n",
    "- net: HTTP보다 로우레벨인 TCP나 IPC통신에 사용\n",
    "- string_decoder: 버퍼 데이터를 문자열로 바꾸는데 사용\n",
    "- tls: TLS와 SSL에 관련된 작업에 사용\n",
    "- tty: 터미널과 관련된 작업에 사용\n",
    "- dgram: UDP와 관련된 작업에 사용\n",
    "- v8: V8엔진에 직접 접근할 때 사용\n",
    "- vm: 가상 머신에 접근 할 때 사용\n",
    "\n",
    "## 3.6 파일 시스템 접근하기\n",
    "fs 모듈: 파일 생성, 삭제, 읽기, 쓰기"
   ]
  },
  {
   "cell_type": "code",
   "execution_count": 2,
   "metadata": {},
   "outputs": [
    {
     "name": "stdout",
     "output_type": "stream",
     "text": [
      "Overwriting code/3/readme.txt\n"
     ]
    }
   ],
   "source": [
    "%%writefile code/3/readme.txt\n",
    "저를 읽어주세요"
   ]
  },
  {
   "cell_type": "code",
   "execution_count": 3,
   "metadata": {},
   "outputs": [
    {
     "name": "stdout",
     "output_type": "stream",
     "text": [
      "Overwriting code/3/readFile.js\n"
     ]
    }
   ],
   "source": [
    "%%writefile code/3/readFile.js\n",
    "const fs = require('fs');\n",
    "\n",
    "fs.readFile('./readme.txt', (err, data) => { //파일 읽기\n",
    "  if (err) {\n",
    "    throw err;\n",
    "  }\n",
    "  console.log(data);\n",
    "  console.log(data.toString());\n",
    "});"
   ]
  },
  {
   "cell_type": "markdown",
   "metadata": {},
   "source": [
    "!node code\\3\\readFile.js  \n",
    "<Buffer ec a0 80 eb a5 bc 20 ec 9d bd ec 96 b4 ec a3 bc ec 84 b8 ec 9a 94 0d 0a>  \n",
    "  저를 읽어주세요"
   ]
  },
  {
   "cell_type": "code",
   "execution_count": 4,
   "metadata": {},
   "outputs": [
    {
     "name": "stdout",
     "output_type": "stream",
     "text": [
      "Overwriting code/3/readFilePromise.js\n"
     ]
    }
   ],
   "source": [
    "%%writefile code/3/readFilePromise.js\n",
    "\n",
    "//프로미스 형식 fs\n",
    "const fs = require('fs').promises;\n",
    "\n",
    "fs.readFile('./readme.txt')\n",
    "  .then((data) => {\n",
    "    console.log(data);\n",
    "    console.log(data.toString());\n",
    "  })\n",
    "  .catch((err) => {\n",
    "    console.error(err);\n",
    "  });\n"
   ]
  },
  {
   "cell_type": "markdown",
   "metadata": {},
   "source": [
    "fs는 콜백형식 모듈이기 때문에프로미스 형식으로 사용하는 것이 좋음"
   ]
  },
  {
   "cell_type": "code",
   "execution_count": 5,
   "metadata": {},
   "outputs": [
    {
     "name": "stdout",
     "output_type": "stream",
     "text": [
      "Overwriting code/3/writeFile.js\n"
     ]
    }
   ],
   "source": [
    "%%writefile code/3/writeFile.js\n",
    "\n",
    "const fs = require('fs');\n",
    "\n",
    "fs.writeFile('code/3/writeme.txt', 'write file: hello~', (err) => { //파일 생성\n",
    "  if (err) {\n",
    "    throw err;\n",
    "  }\n",
    "  fs.readFile('code/3/writeme.txt', (err, data) => {\n",
    "    if (err) {\n",
    "      throw err;\n",
    "    }\n",
    "    console.log(data.toString());\n",
    "  });\n",
    "});"
   ]
  },
  {
   "cell_type": "code",
   "execution_count": 6,
   "metadata": {},
   "outputs": [
    {
     "name": "stdout",
     "output_type": "stream",
     "text": [
      "write file: hello~\n"
     ]
    }
   ],
   "source": [
    "!node code\\3\\writeFile"
   ]
  },
  {
   "cell_type": "markdown",
   "metadata": {},
   "source": [
    "### 3.6.1 동기 메서드와 비동기 메서드"
   ]
  },
  {
   "cell_type": "code",
   "execution_count": 99,
   "metadata": {},
   "outputs": [
    {
     "name": "stdout",
     "output_type": "stream",
     "text": [
      "Writing code/3/readme2.txt\n"
     ]
    }
   ],
   "source": [
    "%%writefile code/3/readme2.txt\n",
    "My name is readme2.txt"
   ]
  },
  {
   "cell_type": "code",
   "execution_count": 100,
   "metadata": {},
   "outputs": [
    {
     "name": "stdout",
     "output_type": "stream",
     "text": [
      "Writing code/3/async.js\n"
     ]
    }
   ],
   "source": [
    "%%writefile code/3/async.js\n",
    "\n",
    "const fs = require('fs');\n",
    "\n",
    "console.log('start');\n",
    "fs.readFile('./readme2.txt', (err, data) => {\n",
    "  if (err) {\n",
    "    throw err;\n",
    "  }\n",
    "  console.log('first', data.toString());\n",
    "});\n",
    "fs.readFile('./readme2.txt', (err, data) => {\n",
    "  if (err) {\n",
    "    throw err;\n",
    "  }\n",
    "  console.log('second', data.toString());\n",
    "});\n",
    "fs.readFile('./readme2.txt', (err, data) => {\n",
    "  if (err) {\n",
    "    throw err;\n",
    "  }\n",
    "  console.log('third', data.toString());\n",
    "});\n",
    "console.log('end');"
   ]
  },
  {
   "cell_type": "markdown",
   "metadata": {},
   "source": [
    "!node code\\3\\async\n",
    "\n",
    "\n",
    "start  \n",
    "end  \n",
    "third My name is readme2.txt  \n",
    "  \n",
    "\n",
    "first My name is readme2.txt  \n",
    "  \n",
    "\n",
    "second My name is readme2.txt\n",
    "\n",
    "------\n",
    "- fs.readFile  \n",
    "비동기 방식: 비동기 메서드들은 백그라운드에 해당 파일을 읽으라고만 요청하고 다음 작업으로 넘어간다. 읽기가 완료되면 백그라운드가 다시 메인 스레드에 읽기 완료를 알리고, 메인스레드에서는 등록된 콜백 함수들을 실행한다."
   ]
  },
  {
   "cell_type": "code",
   "execution_count": 102,
   "metadata": {},
   "outputs": [
    {
     "name": "stdout",
     "output_type": "stream",
     "text": [
      "Writing code/3/sync.js\n"
     ]
    }
   ],
   "source": [
    "%%writefile code/3/sync.js\n",
    "\n",
    "const fs = require('fs');\n",
    "\n",
    "console.log('start');\n",
    "let data = fs.readFileSync('./readme2.txt');\n",
    "console.log('first', data.toString());\n",
    "data = fs.readFileSync('./readme2.txt');\n",
    "console.log('second', data.toString());\n",
    "data = fs.readFileSync('./readme2.txt');\n",
    "console.log('third', data.toString());\n",
    "console.log('end');\n"
   ]
  },
  {
   "cell_type": "markdown",
   "metadata": {},
   "source": [
    "!node code\\3\\sync  \n",
    "\n",
    "start  \n",
    "first My name is readme2.txt  \n",
    "  \n",
    "second My name is readme2.txt  \n",
    "  \n",
    "third My name is readme2.txt  \n",
    "  \n",
    "end  \n",
    "\n",
    "----\n",
    "- fs.readFileSync: 동기방식 지원"
   ]
  },
  {
   "cell_type": "code",
   "execution_count": 8,
   "metadata": {},
   "outputs": [
    {
     "name": "stdout",
     "output_type": "stream",
     "text": [
      "Overwriting code/3/asyncOrder.js\n"
     ]
    }
   ],
   "source": [
    "%%writefile code/3/asyncOrder.js\n",
    "//비동기 방식 & 순서대로 출력\n",
    "//이전 readFile의 콜백에 다음 readFile을 넣기\n",
    "const fs = require('fs');\n",
    "\n",
    "console.log('start');\n",
    "fs.readFile('./readme2.txt', (err, data) => {\n",
    "  if (err) {\n",
    "    throw err;\n",
    "  }\n",
    "  console.log('first', data.toString());\n",
    "  fs.readFile('./readme2.txt', (err, data) => {\n",
    "    if (err) {\n",
    "      throw err;\n",
    "    }\n",
    "    console.log('second', data.toString());\n",
    "    fs.readFile('./readme2.txt', (err, data) => {\n",
    "      if (err) {\n",
    "        throw err;\n",
    "      }\n",
    "      console.log('third', data.toString());\n",
    "      console.log('end');\n",
    "    });\n",
    "  });\n",
    "});"
   ]
  },
  {
   "cell_type": "markdown",
   "metadata": {},
   "source": [
    "!node code\\3\\asyncOrder  \n",
    "\n",
    "start  \n",
    "first My name is readme2.txt  \n",
    "  \n",
    "second My name is readme2.txt  \n",
    "  \n",
    "third My name is readme2.txt  \n",
    "  \n",
    "end  "
   ]
  },
  {
   "cell_type": "code",
   "execution_count": 9,
   "metadata": {},
   "outputs": [
    {
     "name": "stdout",
     "output_type": "stream",
     "text": [
      "Overwriting code/3/asyncOrderPromise.js\n"
     ]
    }
   ],
   "source": [
    "%%writefile code/3/asyncOrderPromise.js\n",
    "//asyncOrder.js의 프로미스 형태\n",
    "const fs = require('fs').promises;\n",
    "\n",
    "console.log('시작');\n",
    "fs.readFile('./readme2.txt')\n",
    "  .then((data) => {\n",
    "    console.log('1번', data.toString());\n",
    "    return fs.readFile('./readme2.txt');\n",
    "  })\n",
    "  .then((data) => {\n",
    "    console.log('2번', data.toString());\n",
    "    return fs.readFile('./readme2.txt');\n",
    "  })\n",
    "  .then((data) => {\n",
    "    console.log('3번', data.toString());\n",
    "    console.log('끝');\n",
    "  })\n",
    "  .catch((err) => {\n",
    "    console.error(err);\n",
    "  });"
   ]
  },
  {
   "cell_type": "markdown",
   "metadata": {},
   "source": [
    "### 3.6.2 버퍼와 스트림 이해하기"
   ]
  },
  {
   "cell_type": "code",
   "execution_count": 109,
   "metadata": {},
   "outputs": [
    {
     "name": "stdout",
     "output_type": "stream",
     "text": [
      "Overwriting code/3/buffer.js\n"
     ]
    }
   ],
   "source": [
    "%%writefile code/3/buffer.js\n",
    "\n",
    "const buffer = Buffer.from('bufferbuffer');\n",
    "console.log('from():', buffer);\n",
    "console.log('length:', buffer.length);\n",
    "console.log('toString():', buffer.toString());\n",
    "\n",
    "const array = [Buffer.from('oo '), Buffer.from('oo '), Buffer.from('oooo')];\n",
    "const buffer2 = Buffer.concat(array);\n",
    "console.log('concat():', buffer2.toString());\n",
    "\n",
    "const buffer3 = Buffer.alloc(5);\n",
    "console.log('alloc():', buffer3);"
   ]
  },
  {
   "cell_type": "code",
   "execution_count": 110,
   "metadata": {},
   "outputs": [
    {
     "name": "stdout",
     "output_type": "stream",
     "text": [
      "from(): <Buffer 62 75 66 66 65 72 62 75 66 66 65 72>\n",
      "length: 12\n",
      "toString(): bufferbuffer\n",
      "concat(): oo oo oooo\n",
      "alloc(): <Buffer 00 00 00 00 00>\n"
     ]
    }
   ],
   "source": [
    "!node code\\3\\buffer"
   ]
  },
  {
   "cell_type": "markdown",
   "metadata": {},
   "source": [
    "- from(문자열): 문자열을 버퍼로 바꿈, length: 버퍼의 크기(바이트 단위)\n",
    "- toString(버퍼): 버퍼를 다시 문자열로 바꿈\n",
    "- concat(배열): 배열 안에 든 버퍼들을 하나로 합침\n",
    "- alloc(바이트): 인수로 들어온 바이트 크기의 빈 버퍼를 생성"
   ]
  },
  {
   "cell_type": "code",
   "execution_count": 111,
   "metadata": {},
   "outputs": [
    {
     "name": "stdout",
     "output_type": "stream",
     "text": [
      "Writing code/3/readme3.txt\n"
     ]
    }
   ],
   "source": [
    "%%writefile code/3/readme3.txt\n",
    "저는 조금씩 조금씩 나눠서 전달됩니다. 나눠진 조각을 chunk라고 부릅니다."
   ]
  },
  {
   "cell_type": "code",
   "execution_count": 11,
   "metadata": {},
   "outputs": [
    {
     "name": "stdout",
     "output_type": "stream",
     "text": [
      "Overwriting code/3/createReadStream.js\n"
     ]
    }
   ],
   "source": [
    "%%writefile code/3/createReadStream.js\n",
    "const fs = require('fs');\n",
    "\n",
    "//16바이트 단위로 읽기\n",
    "//서버가 16바이트여도 스트림 방식을 이용해서 데이터 전송 가능\n",
    "\n",
    "const readStream = fs.createReadStream('./readme3.txt', { highWaterMark: 16 });\n",
    "const data = [];\n",
    "\n",
    "readStream.on('data', (chunk) => {\n",
    "  data.push(chunk);\n",
    "  console.log('data :', chunk, chunk.length);\n",
    "});\n",
    "\n",
    "readStream.on('end', () => {\n",
    "  console.log('end :', Buffer.concat(data).toString());\n",
    "});\n",
    "\n",
    "readStream.on('error', (err) => {\n",
    "  console.log('error :', err);\n",
    "});"
   ]
  },
  {
   "cell_type": "markdown",
   "metadata": {},
   "source": [
    "!node code\\3\\createReadStream\n",
    "\n",
    "data : <Buffer ec a0 80 eb 8a 94 20 ec a1 b0 ea b8 88 ec 94 a9> 16  \n",
    "data : <Buffer 20 ec a1 b0 ea b8 88 ec 94 a9 20 eb 82 98 eb 88> 16  \n",
    "data : <Buffer a0 ec 84 9c 20 ec a0 84 eb 8b ac eb 90 a9 eb 8b> 16  \n",
    "data : <Buffer 88 eb 8b a4 2e 20 eb 82 98 eb 88 a0 ec a7 84 20> 16  \n",
    "data : <Buffer ec a1 b0 ea b0 81 ec 9d 84 20 63 68 75 6e 6b eb> 16  \n",
    "data : <Buffer 9d bc ea b3 a0 20 eb b6 80 eb a6 85 eb 8b 88 eb> 16  \n",
    "data : <Buffer 8b a4 2e 0d 0a> 5  \n",
    "end : 저는 조금씩 조금씩 나눠서 전달됩니다. 나눠진 조각을 chunk라고 부릅니다.  "
   ]
  },
  {
   "cell_type": "code",
   "execution_count": 15,
   "metadata": {},
   "outputs": [
    {
     "name": "stdout",
     "output_type": "stream",
     "text": [
      "Overwriting code/3/createWriteStream.js\n"
     ]
    }
   ],
   "source": [
    "%%writefile code/3/createWriteStream.js\n",
    "//스트림을 이용한 파일쓰기\n",
    "const fs = require('fs');\n",
    "\n",
    "const writeStream = fs.createWriteStream('code/3/writeme2.txt');\n",
    "writeStream.on('finish', () => {\n",
    "  console.log('write... finish');\n",
    "});\n",
    "\n",
    "writeStream.write('write and write.\\n'); //첫번째 버퍼\n",
    "writeStream.write('one more write.'); //두번째 버퍼\n",
    "writeStream.end();"
   ]
  },
  {
   "cell_type": "code",
   "execution_count": 16,
   "metadata": {},
   "outputs": [
    {
     "name": "stdout",
     "output_type": "stream",
     "text": [
      "write... finish\n"
     ]
    }
   ],
   "source": [
    "!node code\\3\\createWriteStream"
   ]
  },
  {
   "cell_type": "code",
   "execution_count": 17,
   "metadata": {},
   "outputs": [
    {
     "name": "stdout",
     "output_type": "stream",
     "text": [
      "write and write.\n",
      "one more write.\n"
     ]
    }
   ],
   "source": [
    "!type code\\3\\writeme2.txt"
   ]
  },
  {
   "cell_type": "code",
   "execution_count": 132,
   "metadata": {},
   "outputs": [
    {
     "name": "stdout",
     "output_type": "stream",
     "text": [
      "Writing code/3/readme4.txt\n"
     ]
    }
   ],
   "source": [
    "%%writefile code/3/readme4.txt\n",
    "저를 writeme3.txt로 보내줘요"
   ]
  },
  {
   "cell_type": "code",
   "execution_count": 18,
   "metadata": {},
   "outputs": [
    {
     "name": "stdout",
     "output_type": "stream",
     "text": [
      "Overwriting code/3/pipe.js\n"
     ]
    }
   ],
   "source": [
    "%%writefile code/3/pipe.js\n",
    "\n",
    "const fs = require('fs');\n",
    "\n",
    "const readStream = fs.createReadStream('readme4.txt'); //readme4를 읽어서\n",
    "const writeStream = fs.createWriteStream('writeme3.txt'); //writeme3에 저장\n",
    "readStream.pipe(writeStream);"
   ]
  },
  {
   "cell_type": "markdown",
   "metadata": {},
   "source": [
    "!node code\\3\\pipe.js  \n",
    "실행 후  \n",
    "!type writeme3.txt  \n",
    "\n",
    "\n",
    "저를 writeme3.txt로 보내줘요\n",
    "\n",
    "------\n",
    "- 파이핑: 스트림 끼리 연결함"
   ]
  },
  {
   "cell_type": "code",
   "execution_count": 19,
   "metadata": {},
   "outputs": [
    {
     "name": "stdout",
     "output_type": "stream",
     "text": [
      "Overwriting code/3/gzip.js\n"
     ]
    }
   ],
   "source": [
    "%%writefile code/3/gzip.js\n",
    "//파일 읽고 압축\n",
    "const zlib = require('zlib');\n",
    "const fs = require('fs');\n",
    "\n",
    "const readStream = fs.createReadStream('./readme4.txt');\n",
    "const zlibStream = zlib.createGzip();\n",
    "const writeStream = fs.createWriteStream('./readme4.txt.gz');\n",
    "readStream.pipe(zlibStream).pipe(writeStream);"
   ]
  },
  {
   "cell_type": "markdown",
   "metadata": {},
   "source": [
    "!node code\\3\\gzip\n",
    "\n",
    "![gzip result](img/gzip.png)\n",
    "\n",
    "readme4.txt.gz 생성"
   ]
  },
  {
   "cell_type": "code",
   "execution_count": 139,
   "metadata": {},
   "outputs": [
    {
     "name": "stdout",
     "output_type": "stream",
     "text": [
      "Writing code/3/createBigFile.js\n"
     ]
    }
   ],
   "source": [
    "%%writefile code/3/createBigFile.js\n",
    "\n",
    "const fs = require('fs');\n",
    "const file = fs.createWriteStream('./big.txt');\n",
    "\n",
    "for (let i = 0; i <= 10000000; i++) {\n",
    "  file.write('안녕하세요. 엄청나게 큰 파일을 만들어 볼 것입니다. 각오 단단히 하세요!\\n');\n",
    "}\n",
    "file.end();"
   ]
  },
  {
   "cell_type": "markdown",
   "metadata": {},
   "source": [
    "!node code\\3\\createBigFile  \n",
    "976,563KB 크기의 엄청난 txt 파일이 생성되었다..."
   ]
  },
  {
   "cell_type": "code",
   "execution_count": 22,
   "metadata": {},
   "outputs": [
    {
     "name": "stdout",
     "output_type": "stream",
     "text": [
      "Overwriting code/3/buffer-memory.js\n"
     ]
    }
   ],
   "source": [
    "%%writefile code/3/buffer-memory.js\n",
    "//버퍼방식 파일 복사\n",
    "const fs = require('fs');\n",
    "\n",
    "console.log('before: ', process.memoryUsage().rss);\n",
    "\n",
    "const data1 = fs.readFileSync('./big.txt');\n",
    "fs.writeFileSync('./big2.txt', data1);\n",
    "console.log('buffer: ', process.memoryUsage().rss);"
   ]
  },
  {
   "cell_type": "markdown",
   "metadata": {},
   "source": [
    "!node code\\3\\buffer-memory  \n",
    "before:  20234240  \n",
    "buffer:  1021321216\n",
    "\n",
    "\n",
    "-----\n",
    "\n",
    "메모리 용량이 20MB -> 1GB로 증가  \n",
    "1GB를 복사하는 데 1GB 공간 사용"
   ]
  },
  {
   "cell_type": "code",
   "execution_count": 23,
   "metadata": {},
   "outputs": [
    {
     "name": "stdout",
     "output_type": "stream",
     "text": [
      "Overwriting code/3/stream-memory.js\n"
     ]
    }
   ],
   "source": [
    "%%writefile code/3/stream-memory.js\n",
    "//스트림 방식 파일 복사\n",
    "const fs = require('fs');\n",
    "\n",
    "console.log('before: ', process.memoryUsage().rss);\n",
    "\n",
    "const readStream = fs.createReadStream('./big.txt');\n",
    "const writeStream = fs.createWriteStream('./big3.txt');\n",
    "readStream.pipe(writeStream);\n",
    "readStream.on('end', () => {\n",
    "  console.log('stream: ', process.memoryUsage().rss);\n",
    "});"
   ]
  },
  {
   "cell_type": "markdown",
   "metadata": {},
   "source": [
    "!node code\\3\\stream-memory  \n",
    "\n",
    "before:  20131840  \n",
    "stream:  69468160  \n",
    "\n",
    "------\n",
    "\n",
    "메모리 용량이 20MB -> 70MB로 증가  \n",
    "1GB를 복사하는 데 70MB만 사용"
   ]
  },
  {
   "cell_type": "markdown",
   "metadata": {},
   "source": [
    "### 기타 fs 메서드 알아보기"
   ]
  },
  {
   "cell_type": "code",
   "execution_count": 5,
   "metadata": {},
   "outputs": [
    {
     "name": "stdout",
     "output_type": "stream",
     "text": [
      "Writing code/3/fsCreate.js\n"
     ]
    }
   ],
   "source": [
    "%%writefile code/3/fsCreate.js\n",
    "\n",
    "const fs = require('fs');\n",
    "\n",
    "fs.access('./folder', fs.constants.F_OK | fs.constants.R_OK | fs.constants.W_OK, (err) => {\n",
    "  if (err) {\n",
    "    if (err.code === 'ENOENT') {\n",
    "      console.log('폴더 없음');\n",
    "      fs.mkdir('./folder', (err) => {\n",
    "        if (err) {\n",
    "          throw err;\n",
    "        }\n",
    "        console.log('폴더 만들기 성공');\n",
    "        fs.open('./folder/file.js', 'w', (err, fd) => {\n",
    "          if (err) {\n",
    "            throw err;\n",
    "          }\n",
    "          console.log('빈 파일 만들기 성공', fd);\n",
    "          fs.rename('./folder/file.js', './folder/newfile.js', (err) => {\n",
    "            if (err) {\n",
    "              throw err;\n",
    "            }\n",
    "            console.log('이름 바꾸기 성공');\n",
    "          });\n",
    "        });\n",
    "      });\n",
    "    } else {\n",
    "      throw err;\n",
    "    }\n",
    "  } else {\n",
    "    console.log('이미 폴더 있음');\n",
    "  }\n",
    "});"
   ]
  },
  {
   "cell_type": "markdown",
   "metadata": {},
   "source": [
    "!node code\\3\\fsCreate\n",
    "\n",
    "폴더 없음  \n",
    "폴더 만들기 성공  \n",
    "빈 파일 만들기 성공 3  \n",
    "이름 바꾸기 성공  \n",
    "\n",
    "!node code\\3\\fsCreate  \n",
    "\n",
    "이미 폴더 있음\n",
    "\n",
    "\n",
    "\n",
    "-----\n",
    "\n",
    "\n",
    "\n",
    "- fs.access(경로, 옵션, 콜백): 폴더나 파일 접근 권한 체크\n",
    "- fs.mkdir(경로, 콜백): 폴더 생성\n",
    "- fs.open(경로, 옵션, 콜백): 파일 id 리턴\n",
    "- fs.rename(기존 경로, 새 경로, 콜백): 파일 이름 수정"
   ]
  },
  {
   "cell_type": "code",
   "execution_count": 7,
   "metadata": {},
   "outputs": [
    {
     "name": "stdout",
     "output_type": "stream",
     "text": [
      "Writing code/3/fsDelete.js\n"
     ]
    }
   ],
   "source": [
    "%%writefile code/3/fsDelete.js\n",
    "\n",
    "const fs = require('fs');\n",
    "\n",
    "fs.readdir('./folder', (err, dir) => {\n",
    "  if (err) {\n",
    "    throw err;\n",
    "  }\n",
    "  console.log('폴더 내용 확인', dir);\n",
    "  fs.unlink('./folder/newFile.js', (err) => {\n",
    "    if (err) {\n",
    "      throw err;\n",
    "    }\n",
    "    console.log('파일 삭제 성공');\n",
    "    fs.rmdir('./folder', (err) => {\n",
    "      if (err) {\n",
    "        throw err;\n",
    "      }\n",
    "      console.log('폴더 삭제 성공');\n",
    "    });\n",
    "  });\n",
    "});"
   ]
  },
  {
   "cell_type": "markdown",
   "metadata": {},
   "source": [
    "!node code\\3\\fsDelete  \n",
    "\n",
    "폴더 내용 확인 [ 'newfile.js' ]  \n",
    "파일 삭제 성공  \n",
    "폴더 삭제 성공  "
   ]
  },
  {
   "cell_type": "code",
   "execution_count": 8,
   "metadata": {},
   "outputs": [
    {
     "name": "stdout",
     "output_type": "stream",
     "text": [
      "Writing code/3/copyFile.js\n"
     ]
    }
   ],
   "source": [
    "%%writefile code/3/copyFile.js\n",
    "\n",
    "const fs = require('fs');\n",
    "\n",
    "fs.copyFile('readme4.txt', 'writeme4.txt', (error) => {\n",
    "  if (error) {\n",
    "    return console.error(error);\n",
    "  }\n",
    "  console.log('복사 완료');\n",
    "});"
   ]
  },
  {
   "cell_type": "markdown",
   "metadata": {},
   "source": [
    "!node code\\3\\copyFile  \n",
    "\n",
    "복사 완료"
   ]
  },
  {
   "cell_type": "code",
   "execution_count": 24,
   "metadata": {},
   "outputs": [
    {
     "name": "stdout",
     "output_type": "stream",
     "text": [
      "Overwriting code/3/watch.js\n"
     ]
    }
   ],
   "source": [
    "%%writefile code/3/watch.js\n",
    "//파일 감시\n",
    "//파일 변경 사항이 발생하면 이벤트 호출\n",
    "\n",
    "const fs = require('fs');\n",
    "\n",
    "fs.watch('./target.txt', (eventType, filename) => {\n",
    "  console.log(eventType, filename);\n",
    "});"
   ]
  },
  {
   "cell_type": "markdown",
   "metadata": {},
   "source": [
    "!node code\\3\\watch  \n",
    "( 파일 수정, 파일 수정, 파일 삭제 )  \n",
    "change target.txt  \n",
    "change target.txt  \n",
    "rename target.txt  "
   ]
  },
  {
   "cell_type": "markdown",
   "metadata": {},
   "source": [
    "### 3.6.4 스레드풀 알아보기\n",
    "\n",
    "- 최대 4개 작업이 동시에 실행\n",
    " (SET UV_THREADPOOL_SIZE로 조절할 수 있다)"
   ]
  },
  {
   "cell_type": "code",
   "execution_count": 11,
   "metadata": {},
   "outputs": [
    {
     "name": "stdout",
     "output_type": "stream",
     "text": [
      "Writing code/3/threadpool.js\n"
     ]
    }
   ],
   "source": [
    "%%writefile code/3/threadpool.js\n",
    "\n",
    "const crypto = require('crypto');\n",
    "\n",
    "const pass = 'pass';\n",
    "const salt = 'salt';\n",
    "const start = Date.now();\n",
    "\n",
    "crypto.pbkdf2(pass, salt, 1000000, 128, 'sha512', () => {\n",
    "  console.log('1:', Date.now() - start);\n",
    "});\n",
    "\n",
    "crypto.pbkdf2(pass, salt, 1000000, 128, 'sha512', () => {\n",
    "  console.log('2:', Date.now() - start);\n",
    "});\n",
    "\n",
    "crypto.pbkdf2(pass, salt, 1000000, 128, 'sha512', () => {\n",
    "  console.log('3:', Date.now() - start);\n",
    "});\n",
    "\n",
    "crypto.pbkdf2(pass, salt, 1000000, 128, 'sha512', () => {\n",
    "  console.log('4:', Date.now() - start);\n",
    "});\n",
    "\n",
    "crypto.pbkdf2(pass, salt, 1000000, 128, 'sha512', () => {\n",
    "  console.log('5:', Date.now() - start);\n",
    "});\n",
    "\n",
    "crypto.pbkdf2(pass, salt, 1000000, 128, 'sha512', () => {\n",
    "  console.log('6:', Date.now() - start);\n",
    "});\n",
    "\n",
    "crypto.pbkdf2(pass, salt, 1000000, 128, 'sha512', () => {\n",
    "  console.log('7:', Date.now() - start);\n",
    "});\n",
    "\n",
    "crypto.pbkdf2(pass, salt, 1000000, 128, 'sha512', () => {\n",
    "  console.log('8:', Date.now() - start);\n",
    "});"
   ]
  },
  {
   "cell_type": "code",
   "execution_count": 12,
   "metadata": {},
   "outputs": [
    {
     "name": "stdout",
     "output_type": "stream",
     "text": [
      "4: 3835\n",
      "3: 3941\n",
      "1: 4080\n",
      "2: 4102\n",
      "5: 7519\n",
      "6: 7621\n",
      "7: 7810\n",
      "8: 7849\n"
     ]
    }
   ],
   "source": [
    "!node code\\3\\threadpool"
   ]
  },
  {
   "cell_type": "markdown",
   "metadata": {},
   "source": [
    "## 3.7 이벤트 이해하기"
   ]
  },
  {
   "cell_type": "code",
   "execution_count": 25,
   "metadata": {},
   "outputs": [
    {
     "name": "stdout",
     "output_type": "stream",
     "text": [
      "Overwriting code/3/event.js\n"
     ]
    }
   ],
   "source": [
    "%%writefile code/3/event.js\n",
    "\n",
    "const EventEmitter = require('events');\n",
    "\n",
    "const myEvent = new EventEmitter();\n",
    "myEvent.addListener('event1', () => {\n",
    "  console.log('event 1');\n",
    "});\n",
    "myEvent.on('event2', () => {\n",
    "  console.log('event 2');\n",
    "});\n",
    "myEvent.on('event2', () => {\n",
    "  console.log('event 2 ++');\n",
    "});\n",
    "myEvent.once('event3', () => { //한번만 실행\n",
    "  console.log('event 3');\n",
    "}); // 한 번만 실행됨\n",
    "\n",
    "myEvent.emit('event1'); // 이벤트 호출\n",
    "myEvent.emit('event2'); // 이벤트 호출\n",
    "\n",
    "myEvent.emit('event3');\n",
    "myEvent.emit('event3'); // 실행 안 됨\n",
    "\n",
    "myEvent.on('event4', () => {\n",
    "  console.log('event 4');\n",
    "});\n",
    "myEvent.removeAllListeners('event4'); //모든 listener를 지움\n",
    "myEvent.emit('event4'); // 실행 안 됨\n",
    "\n",
    "const listener = () => {\n",
    "  console.log('event 5');\n",
    "};\n",
    "myEvent.on('event5', listener);\n",
    "myEvent.removeListener('event5', listener); //listener하나만 지움\n",
    "myEvent.emit('event5'); // 실행 안 됨\n",
    "\n",
    "console.log(myEvent.listenerCount('event2'));\n"
   ]
  },
  {
   "cell_type": "code",
   "execution_count": 26,
   "metadata": {},
   "outputs": [
    {
     "name": "stdout",
     "output_type": "stream",
     "text": [
      "event 1\n",
      "event 2\n",
      "event 2 ++\n",
      "event 3\n",
      "2\n"
     ]
    }
   ],
   "source": [
    "!node code\\3\\event"
   ]
  },
  {
   "cell_type": "markdown",
   "metadata": {},
   "source": [
    "## 3.8 예외 처리하기"
   ]
  },
  {
   "cell_type": "code",
   "execution_count": 27,
   "metadata": {},
   "outputs": [
    {
     "name": "stdout",
     "output_type": "stream",
     "text": [
      "Overwriting code/3/error1.js\n"
     ]
    }
   ],
   "source": [
    "%%writefile code/3/error1.js\n",
    "\n",
    "setInterval(() => {\n",
    "  console.log('시작');\n",
    "  try { //에러가 발생해도 계속 실행됨\n",
    "    throw new Error('서버를 고장내주마!');\n",
    "  } catch (err) {\n",
    "    console.error(err);\n",
    "  }\n",
    "}, 1000);"
   ]
  },
  {
   "cell_type": "markdown",
   "metadata": {},
   "source": [
    "!node code\\3\\error1  \n",
    "\n",
    "시작  \n",
    "Error: 서버를 고장내주마!  \n",
    "    at Timeout._onTimeout (C:\\Users\\maild\\node-js-study\\code\\3\\error1.js:5:11)  \n",
    "    at listOnTimeout (internal/timers.js:549:17)  \n",
    "    at processTimers (internal/timers.js:492:7)  \n",
    "    \n",
    "시작  \n",
    "Error: 서버를 고장내주마!  \n",
    "    at Timeout._onTimeout (C:\\Users\\maild\\node-js-study\\code\\3\\error1.js:5:11)  \n",
    "    at listOnTimeout (internal/timers.js:549:17)  \n",
    "    at processTimers (internal/timers.js:492:7) \n",
    "    \n",
    "----- \n",
    "무한반복\n"
   ]
  },
  {
   "cell_type": "code",
   "execution_count": 28,
   "metadata": {},
   "outputs": [
    {
     "name": "stdout",
     "output_type": "stream",
     "text": [
      "Overwriting code/3/error2.js\n"
     ]
    }
   ],
   "source": [
    "%%writefile code/3/error2.js\n",
    "\n",
    "const fs = require('fs');\n",
    "\n",
    "setInterval(() => {\n",
    "  fs.unlink('./abcdefg.js', (err) => { //콜백 에러정의\n",
    "    if (err) {\n",
    "      console.error(err);\n",
    "    }\n",
    "  });\n",
    "}, 1000);"
   ]
  },
  {
   "cell_type": "markdown",
   "metadata": {},
   "source": [
    "!node code\\3\\error2  \n",
    "\n",
    "[Error: ENOENT: no such file or directory, unlink 'C:\\Users\\maild\\node-js-study\\code\\3\\abcdefg.js'] {  \n",
    "      errno: -4058,  \n",
    "      code: 'ENOENT',  \n",
    "      syscall: 'unlink',  \n",
    "      path: 'C:\\\\Users\\\\maild\\\\node-js-study\\\\code\\\\3\\\\abcdefg.js'  \n",
    "}  \n",
    "\n",
    "------\n",
    "무한반복"
   ]
  },
  {
   "cell_type": "code",
   "execution_count": 19,
   "metadata": {},
   "outputs": [
    {
     "name": "stdout",
     "output_type": "stream",
     "text": [
      "Writing code/3/error3.js\n"
     ]
    }
   ],
   "source": [
    "%%writefile code/3/error3.js\n",
    "\n",
    "const fs = require('fs').promises;\n",
    "\n",
    "setInterval(() => { //프로미스 에러는 catch하지 않아도 알아서 처리\n",
    "  fs.unlink('./abcdefg.js')\n",
    "}, 1000);"
   ]
  },
  {
   "cell_type": "markdown",
   "metadata": {},
   "source": [
    "!node code\\3\\error3  \n",
    "\n",
    "(node:18720) UnhandledPromiseRejectionWarning: Error: ENOENT: no such file or directory, unlink 'C:\\Users\\maild\\node-js-study\\code\\3\\abcdefg.js'\n",
    "(node:18720) UnhandledPro\n",
    "miseRejectionWarning: Unhandled promise rejection. This error originated either by throwing inside of an async function without a catch block, or by rejecting a promise which was not handled with .catch(). To terminate the node process on unhandled promise rejection, use the CLI flag `--unhandled-rejections=strict` (see https://nodejs.org/api/cli.html#cli_unhandled_rejections_mode). (rejection id: 1)\n",
    "(node:18720) [DEP0018] DeprecationWarning: Unhandled promise rejections are deprecated. In the future, promise rejections that are not handled will terminate the Node.js process with a non-zero exit code.\n",
    "(node:18720) UnhandledPromiseRejectionWarning: Error: ENOENT: no such file or directory, unlink 'C:\\Users\\maild\\node-js-study\\code\\3\\abcdefg.js'\n",
    "(node:18720) UnhandledPromiseRejectionWarning: Unhandled promise rejection. This error originated either by throwing inside of an async function without a catch block, or by rejecting a promise which was not handled with .catch(). To terminate the node process on unhandled promise rejection, use the CLI flag `--unhandled-rejections=strict` (see https://nodejs.org/api/cli.html#cli_unhandled_rejections_mode). (rejection id: 2)\n",
    "\n",
    "------\n",
    "무한반복\n",
    "\n",
    "  \n",
    "** 프로미스 사용 시 catch를 붙이는 것을 권장함"
   ]
  },
  {
   "cell_type": "code",
   "execution_count": 32,
   "metadata": {},
   "outputs": [
    {
     "name": "stdout",
     "output_type": "stream",
     "text": [
      "Overwriting code/3/error4.js\n"
     ]
    }
   ],
   "source": [
    "%%writefile code/3/error4.js\n",
    "//예측 불가능한에러 처리\n",
    "process.on('uncaughtException', (err) => { //uncaughtException이 모든 에러를 처리함\n",
    "  console.error('예기치 못한 에러', err); //에러 기록을 하되 에러 복구 코드를 작성하는것은 아님\n",
    "});\n",
    "\n",
    "setInterval(() => {\n",
    "  throw new Error('서버를 고장내주마!');\n",
    "}, 1000);\n",
    "\n",
    "setTimeout(() => {\n",
    "  console.log('실행됩니다');\n",
    "}, 2000);"
   ]
  },
  {
   "cell_type": "markdown",
   "metadata": {},
   "source": [
    "!node code\\3\\error4  \n",
    "\n",
    "예기치 못한 에러 Error: 서버를 고장내주마!  \n",
    "    at Timeout._onTimeout (C:\\Users\\maild\\node-js-study\\code\\3\\error4.js:7:9)  \n",
    "    at listOnTimeout (internal/timers.js:549:17)  \n",
    "    at processTimers (internal/timers.js:492:7)  \n",
    "실행됩니다  \n",
    "예기치 못한 에러 Error: 서버를 고장내주마!  \n",
    "    at Timeout._onTimeout (C:\\Users\\maild\\node-js-study\\code\\3\\error4.js:7:9)  \n",
    "    at listOnTimeout (internal/timers.js:549:17)  \n",
    "    at processTimers (internal/timers.js:492:7)  \n",
    "    \n",
    "-----\n",
    "무한반복\n"
   ]
  },
  {
   "cell_type": "markdown",
   "metadata": {},
   "source": [
    "#### +) 윈도우에서 프로세스 종료\n",
    "cmd 명령\n",
    "- netstat -ano | findstr 포트\n",
    "- taskkill /pid 프로세스아이디 /f"
   ]
  }
 ],
 "metadata": {
  "kernelspec": {
   "display_name": "Python 3",
   "language": "python",
   "name": "python3"
  },
  "language_info": {
   "codemirror_mode": {
    "name": "ipython",
    "version": 3
   },
   "file_extension": ".py",
   "mimetype": "text/x-python",
   "name": "python",
   "nbconvert_exporter": "python",
   "pygments_lexer": "ipython3",
   "version": "3.7.6"
  }
 },
 "nbformat": 4,
 "nbformat_minor": 4
}
