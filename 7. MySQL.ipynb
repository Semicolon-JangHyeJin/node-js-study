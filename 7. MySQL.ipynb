{
 "cells": [
  {
   "cell_type": "markdown",
   "metadata": {},
   "source": [
    "# Node.js 교과서 7장\n",
    "# < MySQL >\n",
    "\n",
    "## 7.4 ~ 7.5 SQL문 작성은 아래를 참고\n",
    "![](img/MySQL1.png)\n",
    "![](img/MySQL2.png)\n",
    "\n",
    "## 7.6 시퀄라이즈 사용하기\n",
    "시퀄라이즈는 자바스크립트 객체와 데이터베이스 릴레이션을 매핑해주는 ORM(Object-Relational Mapping)도구이다."
   ]
  },
  {
   "cell_type": "code",
   "execution_count": 1,
   "metadata": {},
   "outputs": [
    {
     "name": "stdout",
     "output_type": "stream",
     "text": [
      "Writing code/7/package.json\n"
     ]
    }
   ],
   "source": [
    "%%writefile code/7/package.json\n",
    "{\n",
    "  \"name\": \"learn-sequelize\",\n",
    "  \"version\": \"0.0.1\",\n",
    "  \"description\": \"시퀄라이즈를 배우자\",\n",
    "  \"main\": \"app.js\",\n",
    "  \"scripts\": {\n",
    "    \"start\": \"nodemon app\"\n",
    "  },\n",
    "  \"author\": \"hyejin\",\n",
    "  \"license\": \"MIT\"\n",
    "}"
   ]
  },
  {
   "cell_type": "markdown",
   "metadata": {},
   "source": [
    "**모듈 설치**\n",
    "> npm i express morgan nunjucks sequelize sequelize-cli mysql2\n",
    "\n",
    " - sequelize-cli: 시퀄라이즈 명령어를 실행하기 위한 패키지 \n",
    " - mysql2: MySQL과 시퀄라이즈를 이어주는 드라이버\n",
    " \n",
    "> npm i -D nodemon\n",
    "\n",
    "> npx sequelize init\n",
    "\n",
    "config, models, migations, seeders 폴더가 생성된다.  \n",
    "models 폴더 안에 index.js가 있는데, sequelize-cli 설치 후 자동생성되는 코드가 들어가있다.  \n",
    "그대로 사용하면 에러가 발생하고 필요없는 부분도 많으므로 아래와 같이 수정한다."
   ]
  },
  {
   "cell_type": "code",
   "execution_count": 7,
   "metadata": {},
   "outputs": [
    {
     "name": "stdout",
     "output_type": "stream",
     "text": [
      "Overwriting code/7/models/index.js\n"
     ]
    }
   ],
   "source": [
    "%%writefile code/7/models/index.js\n",
    "\n",
    "const Sequelize = require('sequelize');\n",
    "\n",
    "const env = process.env.NODE_ENV || 'development';\n",
    "const config = require('../config/config')[env];\n",
    "const db = {};\n",
    "\n",
    "const sequelize = new Sequelize(config.database, config.username, config.password, config);\n",
    "\n",
    "db.sequelize = sequelize;\n",
    "\n",
    "module.exports = db;"
   ]
  },
  {
   "cell_type": "markdown",
   "metadata": {},
   "source": [
    "### 7.6.1 MySQL 연결하기"
   ]
  },
  {
   "cell_type": "markdown",
   "metadata": {},
   "source": [
    "MySQL연동을 위해서는 config 폴더에 config.json 정보를 넣어주어야한다.  \n",
    "MySQL 커넥션과 일치하도록 development.password와 development.database를 수정한다."
   ]
  },
  {
   "cell_type": "markdown",
   "metadata": {},
   "source": [
    "```json\n",
    "{\n",
    "  \"development\": {\n",
    "    \"username\": \"root\",\n",
    "    \"password\": \"비밀번호\",   < MySQL 접속 비밀번호를 넣는다.\n",
    "    \"database\": \"nodejs\",     < 생성해둔 스키마 이름을 넣는다.\n",
    "    \"host\": \"127.0.0.1\",\n",
    "    \"dialect\": \"mysql\"\n",
    "  },\n",
    "  \"test\": {\n",
    "    \"username\": \"root\",\n",
    "    \"password\": null,\n",
    "    \"database\": \"database_test\",\n",
    "    \"host\": \"127.0.0.1\",\n",
    "    \"dialect\": \"mysql\"\n",
    "  },\n",
    "  \"production\": {\n",
    "    \"username\": \"root\",\n",
    "    \"password\": null,\n",
    "    \"database\": \"database_production\",\n",
    "    \"host\": \"127.0.0.1\",\n",
    "    \"dialect\": \"mysql\"\n",
    "  }\n",
    "}\n",
    "```"
   ]
  },
  {
   "cell_type": "code",
   "execution_count": 8,
   "metadata": {},
   "outputs": [
    {
     "name": "stdout",
     "output_type": "stream",
     "text": [
      "Overwriting code/7/app.js\n"
     ]
    }
   ],
   "source": [
    "%%writefile code/7/app.js\n",
    "\n",
    "const express = require('express');\n",
    "const path = require('path');\n",
    "const morgan = require('morgan');\n",
    "const nunjucks = require('nunjucks');\n",
    "\n",
    "const { sequelize } = require('./models');\n",
    "\n",
    "const app = express();\n",
    "app.set('port', process.env.PORT || 3001);\n",
    "app.set('view engine', 'html');\n",
    "nunjucks.configure('views', {\n",
    "  express: app,\n",
    "  watch: true,\n",
    "});\n",
    "sequelize.sync({force:false})\n",
    "  .then(() => {\n",
    "    console.log('데이터베이스 연결 성공~');\n",
    "  })\n",
    "  .catch((err) => {\n",
    "    console.log(err);\n",
    "  });\n",
    "\n",
    "app.use(morgan('dev'));\n",
    "app.use(express.static(path.join(__dirname, 'public')));\n",
    "app.use(express.json());\n",
    "app.use(express.urlencoded({ extended: false }));\n",
    "\n",
    "app.use((req, res, next) => {\n",
    "  const error = new Error(`${req.method} ${req.url} 라우터가 없습니다.`);\n",
    "  error.status = 404;\n",
    "  next(error);\n",
    "});\n",
    "\n",
    "app.use((err, req, res, next) => {\n",
    "  res.locals.message = err.message;\n",
    "  res.locals.error = process.env.NODE_ENV !== 'production' ? err:{};\n",
    "  res.status(err.status || 500);\n",
    "  res.render('error');\n",
    "});\n",
    "\n",
    "app.listen(app.get('port'), () => {\n",
    "  console.log(app.get('port'), ' 포트에서 대기중');\n",
    "});\n"
   ]
  },
  {
   "cell_type": "markdown",
   "metadata": {},
   "source": [
    "> npm start  \n",
    "\n",
    "```\n",
    "3001  포트에서 대기중  \n",
    "Executing (default): SELECT 1+1 AS result  \n",
    "데이터베이스 연결 성공~\n",
    "```\n",
    "잘 연결된다\n",
    "\n",
    "### 7.6.2 모델 정의하기\n",
    "models에 user과 comment를 정의하자"
   ]
  },
  {
   "cell_type": "code",
   "execution_count": 16,
   "metadata": {},
   "outputs": [
    {
     "name": "stdout",
     "output_type": "stream",
     "text": [
      "Writing code/7/models/user.js\n"
     ]
    }
   ],
   "source": [
    "%%writefile code/7/models/user.js\n",
    "const Sequelize = require('sequelize');\n",
    "\n",
    "module.exports = class User extends Sequelize.Model {\n",
    "  static init(sequelize) {\n",
    "    return super.init({\n",
    "      // 시퀄라이즈에서는 primary key를 자동으로 생성해준다.\n",
    "      name: {\n",
    "        type: Sequelize.STRING(20),\n",
    "        allowNull: false,\n",
    "        unique: true,\n",
    "      },\n",
    "      age: {\n",
    "        type: Sequelize.INTEGER.UNSIGNED,\n",
    "        allowNull: false,\n",
    "      },\n",
    "      married: {\n",
    "        type: Sequelize.BOOLEAN,\n",
    "        allowNull: false,\n",
    "      },\n",
    "      comment: {\n",
    "        type: Sequelize.TEXT,\n",
    "        allowNull: true,\n",
    "      },\n",
    "      created_at: {\n",
    "        type: Sequelize.DATE,\n",
    "        allowNull: false,\n",
    "        defaultValue: Sequelize.NOW,\n",
    "      },\n",
    "    }, {\n",
    "      sequelize,\n",
    "      timestamps: false, //timestamps가 true이면 createdAt(데이터생성시간), updatedAt(데이터수정시간)을 생성한다.\n",
    "      underscored: false, //true이면, 테이블명과 컬럼명을 snake_case로 바꿈 (false일때는 camelCase)\n",
    "      modelName: 'User', //노드에서 사용할 모델 이름\n",
    "      tableName: 'users', //데이터베이스에서의 테이블 이름\n",
    "      paranoid: false, //true이면 deletedAt에 삭제 시간을 기록한다. 삭제하지 않은 데이터의 deletedAt은 null이된다. (soft delete 처리)\n",
    "      charset: 'utf8',\n",
    "      collate: 'utf8_general_ci',\n",
    "    });\n",
    "  }\n",
    "  static associate(db){}\n",
    "};"
   ]
  },
  {
   "cell_type": "code",
   "execution_count": 17,
   "metadata": {},
   "outputs": [
    {
     "name": "stdout",
     "output_type": "stream",
     "text": [
      "Writing code/7/models/comment.js\n"
     ]
    }
   ],
   "source": [
    "%%writefile code/7/models/comment.js\n",
    "\n",
    "const Sequelize = require('sequelize');\n",
    "\n",
    "module.exports = class Comment extends Sequelize.Model {\n",
    "  static init(sequelize) {\n",
    "    return super.init({\n",
    "      comment: {\n",
    "        type: Sequelize.STRING(100),\n",
    "        allowNull: false,\n",
    "      },\n",
    "      created_at: {\n",
    "        type: Sequelize.DATE,\n",
    "        allowNull: true,\n",
    "        defaultValue: Sequelize.NOW,\n",
    "      },\n",
    "    }, {\n",
    "      sequelize,\n",
    "      timestamps: false,\n",
    "      modelName: 'Comment',\n",
    "      tableName: 'comments',\n",
    "      paranoid: false,\n",
    "      charset: 'utf8mb4',\n",
    "      collate: 'utf8mb4_general_ci',\n",
    "    });\n",
    "  }\n",
    "  static associate(db){}\n",
    "};"
   ]
  },
  {
   "cell_type": "markdown",
   "metadata": {},
   "source": [
    "모델을 생성했다면 models/index.js와 연결한다."
   ]
  },
  {
   "cell_type": "code",
   "execution_count": 20,
   "metadata": {},
   "outputs": [
    {
     "name": "stdout",
     "output_type": "stream",
     "text": [
      "Overwriting code/7/models/index.js\n"
     ]
    }
   ],
   "source": [
    "%%writefile code/7/models/index.js\n",
    "\n",
    "const Sequelize = require('sequelize');\n",
    "const User = require('./user');\n",
    "const Comment = require('./comment');\n",
    "\n",
    "const env = process.env.NODE_ENV || 'development';\n",
    "const config = require('../config/config')[env];\n",
    "const db = {};\n",
    "\n",
    "const sequelize = new Sequelize(config.database, config.username, config.password, config);\n",
    "\n",
    "db.sequelize = sequelize;\n",
    "\n",
    "db.User = User;\n",
    "db.Comment = Comment;\n",
    "\n",
    "User.init(sequelize);\n",
    "Comment.init(sequelize);\n",
    "\n",
    "User.associate(db);\n",
    "Comment.associate(db);\n",
    "\n",
    "module.exports = db;"
   ]
  },
  {
   "cell_type": "markdown",
   "metadata": {},
   "source": [
    "### 7.6.3 관계 정의하기\n",
    "**관계**\n",
    "1. 1:N (일대다)\n",
    " - hasMany와 belongTo 메서드로 표현한다.\n",
    " - users(사용자)는 여러개의 comment(댓글)을 남길 수 있다.\n",
    " - 댓글을 남긴 사용자는 commenter라고 하자\n",
    " ```js\n",
    "// models/user.js\n",
    "    static associate(db){\n",
    "        db.User.hasMany(db.Comment, {foreignKey: 'commenter', sourceKey: 'id'});\n",
    "    } //user의 id를 comment가 commenter로 참조한다.\n",
    " ```\n",
    " - belongTo 메서드: 다른 모델의 정보가 들어가는 테이블에 사용함\n",
    " ```js\n",
    "// models/comment.js\n",
    "   static associate(db){\n",
    "       db.User.belongsTo(db.User, {foreignKey: 'commenter', targetKey: 'id'});\n",
    "   } //comment가 user의 id를 commenter로 참조한다.\n",
    " ```\n",
    "2. 1:1 (일대일)\n",
    "3. N:M (다대다)"
   ]
  },
  {
   "cell_type": "code",
   "execution_count": null,
   "metadata": {},
   "outputs": [],
   "source": []
  }
 ],
 "metadata": {
  "kernelspec": {
   "display_name": "Python 3",
   "language": "python",
   "name": "python3"
  },
  "language_info": {
   "codemirror_mode": {
    "name": "ipython",
    "version": 3
   },
   "file_extension": ".py",
   "mimetype": "text/x-python",
   "name": "python",
   "nbconvert_exporter": "python",
   "pygments_lexer": "ipython3",
   "version": "3.7.6"
  }
 },
 "nbformat": 4,
 "nbformat_minor": 4
}
